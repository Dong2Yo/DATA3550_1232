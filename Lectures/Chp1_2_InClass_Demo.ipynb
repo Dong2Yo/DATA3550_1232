{
  "cells": [
    {
      "cell_type": "markdown",
      "metadata": {
        "id": "view-in-github",
        "colab_type": "text"
      },
      "source": [
        "<a href=\"https://colab.research.google.com/github/Dong2Yo/DATA3550_1232/blob/main/Lectures/Chp1_2_InClass_Demo.ipynb\" target=\"_parent\"><img src=\"https://colab.research.google.com/assets/colab-badge.svg\" alt=\"Open In Colab\"/></a>"
      ]
    },
    {
      "cell_type": "markdown",
      "metadata": {
        "id": "j03SGWencyNm"
      },
      "source": [
        "***Does a function has to be followed by an argument?***"
      ]
    },
    {
      "cell_type": "code",
      "execution_count": null,
      "metadata": {
        "cellView": "form",
        "colab": {
          "base_uri": "https://localhost:8080/"
        },
        "id": "c4SUodYic647",
        "outputId": "99399815-d7e7-490b-fdb6-ee36e0c622b4"
      },
      "outputs": [
        {
          "name": "stdout",
          "output_type": "stream",
          "text": [
            "The Zen of Python, by Tim Peters\n",
            "\n",
            "Beautiful is better than ugly.\n",
            "Explicit is better than implicit.\n",
            "Simple is better than complex.\n",
            "Complex is better than complicated.\n",
            "Flat is better than nested.\n",
            "Sparse is better than dense.\n",
            "Readability counts.\n",
            "Special cases aren't special enough to break the rules.\n",
            "Although practicality beats purity.\n",
            "Errors should never pass silently.\n",
            "Unless explicitly silenced.\n",
            "In the face of ambiguity, refuse the temptation to guess.\n",
            "There should be one-- and preferably only one --obvious way to do it.\n",
            "Although that way may not be obvious at first unless you're Dutch.\n",
            "Now is better than never.\n",
            "Although never is often better than *right* now.\n",
            "If the implementation is hard to explain, it's a bad idea.\n",
            "If the implementation is easy to explain, it may be a good idea.\n",
            "Namespaces are one honking great idea -- let's do more of those!\n"
          ]
        }
      ],
      "source": [
        "#@title The Famous Poem\n",
        "import this"
      ]
    },
    {
      "cell_type": "markdown",
      "metadata": {
        "id": "q4O2ntzVYaa8"
      },
      "source": [
        "**In Class 1.2.1. Write a program that prints a house that looks exactly like the following:**\n",
        "\n",
        "\n",
        "\t\t\t      +\n",
        "\t\t\t     + +\n",
        "\t\t\t    +   +\n",
        "\t\t\t   +-----+\n",
        "\t\t\t   | .-. |\n",
        "\t\t\t   | | | |\n",
        "\t\t\t   +-+-+-+"
      ]
    },
    {
      "cell_type": "code",
      "execution_count": null,
      "metadata": {
        "cellView": "form",
        "colab": {
          "base_uri": "https://localhost:8080/"
        },
        "id": "ZvZbu9TZYE8h",
        "outputId": "63f51c5e-77bf-4f16-9122-2ac004f1e0ca"
      },
      "outputs": [
        {
          "name": "stdout",
          "output_type": "stream",
          "text": [
            "   +\n",
            "  + +\n",
            " +   +\n",
            "+-----+\n",
            "| .-. |\n",
            "| | | |\n",
            "+-+-+-+\n"
          ]
        }
      ],
      "source": [
        "#@title Use the print Function\n",
        "\n",
        "print(\"   +\")\n",
        "print(\"  + +\")\n",
        "print(\" +   +\")\n",
        "print(\"+-----+\")\n",
        "print(\"| .-. |\")\n",
        "print(\"| | | |\")\n",
        "print(\"+-+-+-+\")"
      ]
    },
    {
      "cell_type": "markdown",
      "metadata": {
        "id": "v1AzvcD1ZOD7"
      },
      "source": [
        "**Write a program that prints a two-column list of your friends’ birthdays. In the first column, print the names of your best friends; in the second column, print their birthdays.**"
      ]
    },
    {
      "cell_type": "code",
      "execution_count": null,
      "metadata": {
        "cellView": "form",
        "colab": {
          "base_uri": "https://localhost:8080/"
        },
        "id": "-WpOVD2hZ630",
        "outputId": "adad3646-73e8-444f-cb9f-7f1668c13700"
      },
      "outputs": [
        {
          "name": "stdout",
          "output_type": "stream",
          "text": [
            "Rebecca Johnson    January 17, 1978\n",
            "Leonard Rich       March 12, 1982\n",
            "Samuel Thompson    June 30, 1971\n",
            "Adam Reid          September 3, 1975\n",
            "Sheila Nielson     November 7, 1980\n"
          ]
        }
      ],
      "source": [
        "#@title print multiple columns\n",
        "print(\"Rebecca Johnson    January 17, 1978\")\n",
        "print(\"Leonard Rich       March 12, 1982\")\n",
        "print(\"Samuel Thompson    June 30, 1971\")\n",
        "print(\"Adam Reid          September 3, 1975\")\n",
        "print(\"Sheila Nielson     November 7, 1980\")"
      ]
    },
    {
      "cell_type": "markdown",
      "metadata": {
        "id": "HChZ4WgKaRGh"
      },
      "source": [
        "**The ability to speak more than one language is a valuable skill in today’s labor market. One of the basic skills is learning to greet people. Write a program that prints a two-column list with the greeting phrases shown in the following table; in the first column, print the phrase in English, in the second column, print the phrase in a language of your choice. If you don’t speak any language other than English, use an online translator or ask a friend.**"
      ]
    },
    {
      "cell_type": "code",
      "execution_count": null,
      "metadata": {
        "cellView": "form",
        "colab": {
          "base_uri": "https://localhost:8080/"
        },
        "id": "pIkzSdOuap0u",
        "outputId": "05644248-d965-48bc-cc09-db04dfa71890"
      },
      "outputs": [
        {
          "name": "stdout",
          "output_type": "stream",
          "text": [
            "English                         French\n",
            "-----------------------------   ------------------------------------\n",
            "Good morning.                   Bonjour.\n",
            "It is a pleasure to meet you.   C'est un plaisir de vous rencontrer.\n",
            "Please call me tomorrow.        S'il vous plait appelez-moi demain.\n",
            "Have a nice day!                Bonne journee!\n"
          ]
        }
      ],
      "source": [
        "#@title print a two-column list\n",
        "print(\"English                         French\")\n",
        "print(\"-----------------------------   ------------------------------------\")\n",
        "print(\"Good morning.                   Bonjour.\")\n",
        "print(\"It is a pleasure to meet you.   C'est un plaisir de vous rencontrer.\")\n",
        "print(\"Please call me tomorrow.        S'il vous plait appelez-moi demain.\")\n",
        "print(\"Have a nice day!                Bonne journee!\")"
      ]
    },
    {
      "cell_type": "markdown",
      "metadata": {
        "id": "lYQK43pfbnUR"
      },
      "source": [
        "**More Examples**"
      ]
    },
    {
      "cell_type": "code",
      "execution_count": null,
      "metadata": {
        "cellView": "form",
        "colab": {
          "base_uri": "https://localhost:8080/"
        },
        "id": "YauvAQVkbsC5",
        "outputId": "9588b019-2876-4b0b-d29d-e87716365418"
      },
      "outputs": [
        {
          "name": "stdout",
          "output_type": "stream",
          "text": [
            "Car 1 wins by 155 meters!\n",
            "                                                               ______\n",
            "                                                               |__1_|_\\\n",
            "                                                                O----O\n",
            "                                                       ___\n",
            "                                                      /__2_\\__\n",
            "                                                       O----O\n",
            "                                                     ||--FINISH LINE--||\n"
          ]
        }
      ],
      "source": [
        "#@title Racing Cars\n",
        "# Click the run button to begin.\n",
        "\n",
        "# Configurable values.\n",
        "# Try changing car speeds, accelerations, and the simulation speed.\n",
        "car1_top_speed = 60\n",
        "car2_top_speed = 50\n",
        "\n",
        "car1_acceleration = 11\n",
        "car2_acceleration = 10\n",
        "\n",
        "car1 = ['  ______\\n',\n",
        "       ' |__1_|_\\\\\\n',\n",
        "       '  O----O\\n']\n",
        "\n",
        "\n",
        "car2 = ['  ___\\n',\n",
        "       ' /__2_\\\\__\\n',\n",
        "       '  O----O\\n']\n",
        "\n",
        "# Begin program below.\n",
        "\n",
        "# Track the location and speed of each car\n",
        "car1_location = 0\n",
        "car2_location = 0\n",
        "car1_speed = 0\n",
        "car2_speed = 0\n",
        "\n",
        "track_length = 1000  # Length of the race\n",
        "cols = 60  # Width of the output window\n",
        "\n",
        "def print_car(car, distance):\n",
        "    \"\"\"Print a car at a scaled distance from the left side of the screen\"\"\"\n",
        "    scale = float(distance) / float(track_length) * cols\n",
        "    for line in car:\n",
        "        print(' ' * int(scale), line, end=' ')\n",
        "\n",
        "def print_cars():\n",
        "    \"\"\"Print each of the racing cars\"\"\"\n",
        "    print_car(car1, car1_location)\n",
        "    print_car(car2, car2_location)\n",
        "\n",
        "def max_car_len():\n",
        "    return max(max([len(i) for i in  car1], [len(i) for i in car2]))\n",
        "\n",
        "def print_finish():\n",
        "    \"\"\"Print the finish line\"\"\"\n",
        "    ln = \"||--FINISH LINE--||\"\n",
        "    print(' ' * (cols + max_car_len() - len(ln)), end=' ')\n",
        "    print(ln)\n",
        "\n",
        "def advance_cars():\n",
        "    \"\"\"Calculate new positions of the cars\"\"\"\n",
        "    global car1_speed, car1_location\n",
        "    global car2_speed, car2_location\n",
        "    car1_speed += car1_acceleration\n",
        "    car1_speed = car1_top_speed if car1_speed > car1_top_speed else car1_speed\n",
        "    car1_location += car1_speed\n",
        "\n",
        "    car2_speed += car2_acceleration\n",
        "    car2_speed = car2_top_speed if car2_speed > car2_top_speed else car2_speed\n",
        "    car2_location += car2_speed\n",
        "\n",
        "def finished():\n",
        "    \"\"\"Check for a winner\"\"\"\n",
        "    if car1_location > track_length or car2_location > track_length:\n",
        "        if car1_location > car2_location:\n",
        "            win_distance = car1_location - car2_location\n",
        "            print('Car 1 wins by', win_distance, 'meters!')\n",
        "        elif car2_location > car1_location:\n",
        "            win_distance = car2_location - car1_location\n",
        "            print('Car 2 wins by', win_distance, 'meters!')\n",
        "        else:\n",
        "            print(\"It's a tie!\")\n",
        "        return True\n",
        "    return False\n",
        "\n",
        "while not finished():\n",
        "    \"\"\"Main loop\"\"\"\n",
        "    advance_cars()\n",
        "\n",
        "print_cars()\n",
        "print_finish()\n"
      ]
    },
    {
      "cell_type": "markdown",
      "metadata": {
        "id": "Vedl6822cRrn"
      },
      "source": [
        "**Some Maths?**"
      ]
    },
    {
      "cell_type": "code",
      "execution_count": null,
      "metadata": {
        "cellView": "form",
        "colab": {
          "base_uri": "https://localhost:8080/"
        },
        "id": "RsK6qA0DcTxd",
        "outputId": "cef71296-1d39-4d09-e562-5e675c1bac11"
      },
      "outputs": [
        {
          "name": "stdout",
          "output_type": "stream",
          "text": [
            "Please enter the number of seconds you wish to convert22222222222222222222\n",
            "1822\n"
          ]
        }
      ],
      "source": [
        "#@title Converting seconds to hours\n",
        "seconds = input(\"Please enter the number of seconds you wish to convert\")\n",
        "\n",
        "hours = int(seconds) // 3600\n",
        "total_secs = int(seconds)\n",
        "secs_still_remaining = total_secs % 3600\n",
        "print(secs_still_remaining)"
      ]
    }
  ],
  "metadata": {
    "colab": {
      "provenance": [],
      "include_colab_link": true
    },
    "kernelspec": {
      "display_name": "Python 3 (ipykernel)",
      "language": "python",
      "name": "python3"
    },
    "language_info": {
      "codemirror_mode": {
        "name": "ipython",
        "version": 3
      },
      "file_extension": ".py",
      "mimetype": "text/x-python",
      "name": "python",
      "nbconvert_exporter": "python",
      "pygments_lexer": "ipython3",
      "version": "3.8.11"
    }
  },
  "nbformat": 4,
  "nbformat_minor": 0
}