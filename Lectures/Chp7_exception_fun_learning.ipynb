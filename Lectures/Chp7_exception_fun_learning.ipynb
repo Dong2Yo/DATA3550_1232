{
  "cells": [
    {
      "cell_type": "markdown",
      "metadata": {
        "id": "view-in-github",
        "colab_type": "text"
      },
      "source": [
        "<a href=\"https://colab.research.google.com/github/Dong2Yo/DATA3550_1232/blob/main/Lectures/Chp7_exception_fun_learning.ipynb\" target=\"_parent\"><img src=\"https://colab.research.google.com/assets/colab-badge.svg\" alt=\"Open In Colab\"/></a>"
      ]
    },
    {
      "cell_type": "markdown",
      "source": [
        "# Lesson: Exception Handling in Python - Handling Customer Data Input Errors\n",
        "\n"
      ],
      "metadata": {
        "id": "f9bnnrByf0bi"
      },
      "id": "f9bnnrByf0bi"
    },
    {
      "cell_type": "markdown",
      "source": [
        "## Business Scenario:\n",
        "\n",
        "Imagine you're developing a **customer relationship management** system for a retail company. One crucial feature of this system is the ability for employees to input customer information.\n",
        "\n",
        "However, due to human error or system issues, the input data may sometimes be incorrect or incomplete.\n",
        "\n",
        "We'll learn how to handle these errors gracefully using exception handling in Python.\n",
        "\n"
      ],
      "metadata": {
        "id": "fizlpwG9v55v"
      },
      "id": "fizlpwG9v55v"
    },
    {
      "cell_type": "markdown",
      "source": [
        "## Step 1: Understanding Exceptions\n",
        "\n",
        "In Python, an exception is an error that occurs during the execution of a program. Common exceptions include **ValueError, TypeError**, and **IOError**. When an exception occurs, the program stops executing unless it's handled properly."
      ],
      "metadata": {
        "id": "LDTxP91uv9xw"
      },
      "id": "LDTxP91uv9xw"
    },
    {
      "cell_type": "markdown",
      "source": [
        "## Step 2: Identifying Potential Errors\n",
        "\n",
        "Let's consider a scenario where an employee enters a customer's age as a string instead of an integer.\n",
        "\n",
        "This would raise a **ValueError** when trying to convert the input to an integer.\n",
        "\n"
      ],
      "metadata": {
        "id": "qMUTJXNbgazq"
      },
      "id": "qMUTJXNbgazq"
    },
    {
      "cell_type": "markdown",
      "source": [
        "## Step 3: Using Try-Except Blocks\n",
        "\n",
        "We can use a try-except block to handle this error gracefully."
      ],
      "metadata": {
        "id": "cPHcbI0KwE7K"
      },
      "id": "cPHcbI0KwE7K"
    },
    {
      "cell_type": "code",
      "source": [],
      "metadata": {
        "id": "eF4Vh1O7xEjO"
      },
      "id": "eF4Vh1O7xEjO",
      "execution_count": null,
      "outputs": []
    },
    {
      "cell_type": "markdown",
      "source": [
        "## Step 4: Handling Multiple Exceptions\n",
        "\n",
        "Sometimes, there might be different types of errors that can occur.\n",
        "\n",
        "We can handle them separately using multiple except blocks:"
      ],
      "metadata": {
        "id": "CePnCoXoitjM"
      },
      "id": "CePnCoXoitjM"
    },
    {
      "cell_type": "code",
      "source": [],
      "metadata": {
        "id": "8P2nagJgxGPj"
      },
      "id": "8P2nagJgxGPj",
      "execution_count": null,
      "outputs": []
    },
    {
      "cell_type": "markdown",
      "source": [
        "## Step 5: Adding Finally Block (Optional)\n",
        "\n",
        "The **finally block** is executed whether an exception occurs or not.\n",
        "\n",
        "It's typically used for cleanup actions, such as closing files or releasing resources. Here's an example:"
      ],
      "metadata": {
        "id": "qXimsZvVoH6V"
      },
      "id": "qXimsZvVoH6V"
    },
    {
      "cell_type": "code",
      "source": [],
      "metadata": {
        "id": "JIexPOVsxK4k"
      },
      "id": "JIexPOVsxK4k",
      "execution_count": null,
      "outputs": []
    },
    {
      "cell_type": "markdown",
      "source": [
        "## main Function\n",
        "\n",
        "In Python, **if _____name___ __ == \"____main__ __\":** is a common idiom used to check if the script is being run ***directly by the Python interpreter***, rather than being imported as a module into another script.\n",
        "\n",
        "When a Python script is executed, Python sets the special variable **_____name___ __ == ____main__ __** if the script is being run directly. If the script is being imported as a module into another script, then ____name__ __ is set to the name of the module.\n",
        "\n",
        "So, **if _____name___ __ == \"____main__ __\":** checks if the script is the main program.\n",
        "\n",
        ">If it is, it calls the main() function or any code within this block. This is often used to include code that should only run when the script is executed directly, and not when it's imported as a module.\n",
        "\n",
        ">It's a common way to structure Python programs to allow both reusable modules and standalone scripts."
      ],
      "metadata": {
        "id": "AYUrD6L3slrb"
      },
      "id": "AYUrD6L3slrb"
    },
    {
      "cell_type": "code",
      "source": [
        "def main():\n",
        "    # Your main program logic goes here\n",
        "    print(\"This is the main function.\")\n",
        "\n",
        "if __name__ == \"__main__\":\n",
        "    main()\n"
      ],
      "metadata": {
        "colab": {
          "base_uri": "https://localhost:8080/"
        },
        "id": "dW-ssHdbr0hC",
        "outputId": "cd279081-f279-4396-cdea-6f2f177e3e03"
      },
      "id": "dW-ssHdbr0hC",
      "execution_count": null,
      "outputs": [
        {
          "output_type": "stream",
          "name": "stdout",
          "text": [
            "This is the main function.\n"
          ]
        }
      ]
    },
    {
      "cell_type": "code",
      "source": [
        "# main_script.py\n",
        "import module\n",
        "\n",
        "def main():\n",
        "    module.greet(\"Alice\")\n",
        "    module.farewell(\"Bob\")\n",
        "\n",
        "if __name__ == \"__main__\":\n",
        "    main()\n"
      ],
      "metadata": {
        "colab": {
          "base_uri": "https://localhost:8080/"
        },
        "id": "3QnCN2BLsaeO",
        "outputId": "69988ee5-c663-4628-8925-1fbe9c92f956"
      },
      "id": "3QnCN2BLsaeO",
      "execution_count": null,
      "outputs": [
        {
          "output_type": "stream",
          "name": "stdout",
          "text": [
            "Hello, Alice!\n",
            "Goodbye, Bob!\n"
          ]
        }
      ]
    },
    {
      "cell_type": "code",
      "source": [
        "# main_script.py\n",
        "import module\n",
        "\n",
        "def main():\n",
        "    module.greet(\"Alice\")\n",
        "    module.farewell(\"Bob\")\n",
        "\n",
        "main()   # Call main() directly"
      ],
      "metadata": {
        "colab": {
          "base_uri": "https://localhost:8080/"
        },
        "id": "i8iLIoB6uFXi",
        "outputId": "34c0cb4e-0cef-44ef-a317-1315316cf8b8"
      },
      "id": "i8iLIoB6uFXi",
      "execution_count": null,
      "outputs": [
        {
          "output_type": "stream",
          "name": "stdout",
          "text": [
            "Hello, Alice!\n",
            "Goodbye, Bob!\n"
          ]
        }
      ]
    },
    {
      "cell_type": "markdown",
      "source": [
        "## Employee Age"
      ],
      "metadata": {
        "id": "LnolXJaewkhD"
      },
      "id": "LnolXJaewkhD"
    },
    {
      "cell_type": "code",
      "source": [],
      "metadata": {
        "id": "5fnkuQ3IxMxf"
      },
      "id": "5fnkuQ3IxMxf",
      "execution_count": null,
      "outputs": []
    },
    {
      "cell_type": "code",
      "execution_count": null,
      "id": "eca2ba25-85d4-476c-a39f-f843133bf6a6",
      "metadata": {
        "id": "eca2ba25-85d4-476c-a39f-f843133bf6a6"
      },
      "outputs": [],
      "source": []
    }
  ],
  "metadata": {
    "kernelspec": {
      "display_name": "Python 3 (ipykernel)",
      "language": "python",
      "name": "python3"
    },
    "language_info": {
      "codemirror_mode": {
        "name": "ipython",
        "version": 3
      },
      "file_extension": ".py",
      "mimetype": "text/x-python",
      "name": "python",
      "nbconvert_exporter": "python",
      "pygments_lexer": "ipython3",
      "version": "3.8.16"
    },
    "colab": {
      "provenance": [],
      "toc_visible": true,
      "include_colab_link": true
    }
  },
  "nbformat": 4,
  "nbformat_minor": 5
}