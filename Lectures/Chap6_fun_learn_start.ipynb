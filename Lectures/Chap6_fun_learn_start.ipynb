{
  "cells": [
    {
      "cell_type": "markdown",
      "metadata": {
        "id": "view-in-github",
        "colab_type": "text"
      },
      "source": [
        "<a href=\"https://colab.research.google.com/github/Dong2Yo/DATA3550_1232/blob/main/Lectures/Chap6_fun_learn_start.ipynb\" target=\"_parent\"><img src=\"https://colab.research.google.com/assets/colab-badge.svg\" alt=\"Open In Colab\"/></a>"
      ]
    },
    {
      "cell_type": "markdown",
      "id": "74396abf-40b9-4880-a507-335d900a8257",
      "metadata": {
        "id": "74396abf-40b9-4880-a507-335d900a8257"
      },
      "source": [
        "# Workbook: Learning Lists with Inventory Management\n",
        " ## Business Scenario 1\n",
        "\n",
        "You have a list of tasks that you need to complete during the day. You want to manage your tasks efficiently using Python lists."
      ]
    },
    {
      "cell_type": "markdown",
      "id": "05aebf70-932a-47d6-905d-c1c3f68fd12a",
      "metadata": {
        "id": "05aebf70-932a-47d6-905d-c1c3f68fd12a"
      },
      "source": [
        "### Creating Daily Tasks List"
      ]
    },
    {
      "cell_type": "code",
      "execution_count": 3,
      "id": "46a22f3d-1c4b-4c2a-8e4a-6da4ba479c0f",
      "metadata": {
        "id": "46a22f3d-1c4b-4c2a-8e4a-6da4ba479c0f"
      },
      "outputs": [],
      "source": [
        "# Initial list of daily tasks\n",
        "tasks = [\"Wake up\", \"Exercise\", \"Shower\", \"Breakfast\", \"Work\", \"Lunch\", \"Meeting\", \"Errands\", \"Dinner\", \"Relax\"]\n"
      ]
    },
    {
      "cell_type": "markdown",
      "id": "ee6f26be-047a-44c5-86d3-ed6483a0abba",
      "metadata": {
        "id": "ee6f26be-047a-44c5-86d3-ed6483a0abba"
      },
      "source": [
        "### Displaying Tasks"
      ]
    },
    {
      "cell_type": "code",
      "source": [],
      "metadata": {
        "id": "56PKQpUr9jnj"
      },
      "id": "56PKQpUr9jnj",
      "execution_count": null,
      "outputs": []
    },
    {
      "cell_type": "markdown",
      "id": "d833b860-f00e-4f12-a233-4e92bd0b0eca",
      "metadata": {
        "id": "d833b860-f00e-4f12-a233-4e92bd0b0eca"
      },
      "source": [
        "### Accesing and Modifying a task"
      ]
    },
    {
      "cell_type": "code",
      "source": [],
      "metadata": {
        "id": "PlpWtubD9muv"
      },
      "id": "PlpWtubD9muv",
      "execution_count": null,
      "outputs": []
    },
    {
      "cell_type": "markdown",
      "id": "89b7017c-1e8d-4d81-ba2e-c9c3ad6d55f2",
      "metadata": {
        "id": "89b7017c-1e8d-4d81-ba2e-c9c3ad6d55f2"
      },
      "source": [
        "### Adding a Task"
      ]
    },
    {
      "cell_type": "code",
      "source": [],
      "metadata": {
        "id": "Zh9t45MM9n5q"
      },
      "id": "Zh9t45MM9n5q",
      "execution_count": null,
      "outputs": []
    },
    {
      "cell_type": "markdown",
      "id": "a33b4773-9ae1-4eec-992f-c93f708001e2",
      "metadata": {
        "id": "a33b4773-9ae1-4eec-992f-c93f708001e2"
      },
      "source": [
        "### Removing a Task"
      ]
    },
    {
      "cell_type": "code",
      "source": [],
      "metadata": {
        "id": "QeahGzGn9phS"
      },
      "id": "QeahGzGn9phS",
      "execution_count": null,
      "outputs": []
    },
    {
      "cell_type": "markdown",
      "id": "9e92b268-8ca0-4009-9139-7d8574a9f5e4",
      "metadata": {
        "id": "9e92b268-8ca0-4009-9139-7d8574a9f5e4"
      },
      "source": [
        "### Concatenating Lists"
      ]
    },
    {
      "cell_type": "code",
      "execution_count": null,
      "id": "5560abe4-85f5-4005-9d41-d003306bc212",
      "metadata": {
        "id": "5560abe4-85f5-4005-9d41-d003306bc212"
      },
      "outputs": [],
      "source": [
        "# Concatenating lists\n",
        "additional_tasks = [\"Study\", \"Exercise\", \"Sleep\"]\n",
        "\n"
      ]
    },
    {
      "cell_type": "markdown",
      "id": "d488a1d3-8e7c-4e83-94ed-e30595404314",
      "metadata": {
        "id": "d488a1d3-8e7c-4e83-94ed-e30595404314"
      },
      "source": [
        "### Replicating Lists"
      ]
    },
    {
      "cell_type": "code",
      "source": [],
      "metadata": {
        "id": "9_te1A5s9ybw"
      },
      "id": "9_te1A5s9ybw",
      "execution_count": null,
      "outputs": []
    },
    {
      "cell_type": "markdown",
      "id": "67e90a3c-46d9-4a88-92d0-eb5a340f3d64",
      "metadata": {
        "id": "67e90a3c-46d9-4a88-92d0-eb5a340f3d64"
      },
      "source": [
        "### Finding an Element"
      ]
    },
    {
      "cell_type": "code",
      "source": [],
      "metadata": {
        "id": "bS_YvDJ59zww"
      },
      "id": "bS_YvDJ59zww",
      "execution_count": null,
      "outputs": []
    },
    {
      "cell_type": "markdown",
      "id": "7bea2ed1-c0e2-4f14-ac93-ca2333fb32a7",
      "metadata": {
        "id": "7bea2ed1-c0e2-4f14-ac93-ca2333fb32a7"
      },
      "source": [
        "### List Comprehension"
      ]
    },
    {
      "cell_type": "code",
      "source": [],
      "metadata": {
        "id": "GxVfn7xt91Dx"
      },
      "id": "GxVfn7xt91Dx",
      "execution_count": null,
      "outputs": []
    },
    {
      "cell_type": "markdown",
      "id": "78cc0a46-5449-454d-94b3-81a4c6b5dd90",
      "metadata": {
        "id": "78cc0a46-5449-454d-94b3-81a4c6b5dd90"
      },
      "source": [
        "## Exercises:\n",
        "Access the 4th task in the list.\n",
        "\n",
        "Modify the 5th task to \"Go for a walk\".\n",
        "\n",
        "Add a new task \"Clean room\" to the list.\n",
        "\n",
        "Remove the task \"Errands\" from the list.\n",
        "\n",
        "Combine the current tasks with additional tasks: [\"Read\", \"Relax\"].\n",
        "\n",
        "Repeat the tasks twice.\n",
        "\n",
        "Check if \"Lunch\" is in the tasks list.\n",
        "\n",
        "Create a list of tasks that have more than 5 characters.\n",
        "\n",
        "Create a new list with the first 3 tasks only."
      ]
    },
    {
      "cell_type": "markdown",
      "id": "1335fc78-6230-4a30-8bca-75a69cec4070",
      "metadata": {
        "id": "1335fc78-6230-4a30-8bca-75a69cec4070"
      },
      "source": [
        "## Business Scenario 2:\n",
        "\n",
        "You run a small grocery store and need to manage your inventory efficiently. You decide to use Python lists to keep track of your inventory items, quantities, and prices."
      ]
    },
    {
      "cell_type": "markdown",
      "id": "60f2f66d-e24e-4e8f-b56a-5acc400ed239",
      "metadata": {
        "id": "60f2f66d-e24e-4e8f-b56a-5acc400ed239"
      },
      "source": [
        "### Inventory Setup:\n"
      ]
    },
    {
      "cell_type": "code",
      "execution_count": 21,
      "id": "b294e3bf-d8c3-4bdd-8a81-06e4780fecf2",
      "metadata": {
        "id": "b294e3bf-d8c3-4bdd-8a81-06e4780fecf2"
      },
      "outputs": [],
      "source": [
        "# Initial inventory list\n",
        "inventory = [\n",
        "    [\"Apples\", 50, 1.50],\n",
        "    [\"Bananas\", 30, 0.75],\n",
        "    [\"Oranges\", 40, 1.25]\n",
        "]\n"
      ]
    },
    {
      "cell_type": "markdown",
      "id": "0a2b6580-0ab9-40d0-a41f-c73d620a8580",
      "metadata": {
        "id": "0a2b6580-0ab9-40d0-a41f-c73d620a8580"
      },
      "source": [
        "### Displaying Inventory:"
      ]
    },
    {
      "cell_type": "code",
      "source": [],
      "metadata": {
        "id": "imoKnRDf97Ir"
      },
      "id": "imoKnRDf97Ir",
      "execution_count": null,
      "outputs": []
    },
    {
      "cell_type": "markdown",
      "id": "a51874b1-a941-4a2a-a98c-afbe4a332424",
      "metadata": {
        "id": "a51874b1-a941-4a2a-a98c-afbe4a332424"
      },
      "source": [
        "### Calculating Total Inventory Value:"
      ]
    },
    {
      "cell_type": "code",
      "source": [],
      "metadata": {
        "id": "LTkNN64X99DJ"
      },
      "id": "LTkNN64X99DJ",
      "execution_count": null,
      "outputs": []
    },
    {
      "cell_type": "markdown",
      "id": "6414ff5a-cddb-4edc-8ea0-f9b71a16cecf",
      "metadata": {
        "id": "6414ff5a-cddb-4edc-8ea0-f9b71a16cecf"
      },
      "source": [
        "### Adding an Item to Inventory:"
      ]
    },
    {
      "cell_type": "code",
      "source": [],
      "metadata": {
        "id": "NMko5Fnk9_qp"
      },
      "id": "NMko5Fnk9_qp",
      "execution_count": null,
      "outputs": []
    },
    {
      "cell_type": "markdown",
      "id": "e30a15b0-94ef-4091-b608-31849e2ed0cc",
      "metadata": {
        "id": "e30a15b0-94ef-4091-b608-31849e2ed0cc"
      },
      "source": [
        "### Removing an Item from Inventory:"
      ]
    },
    {
      "cell_type": "code",
      "source": [],
      "metadata": {
        "id": "AqahTCAv-A1O"
      },
      "id": "AqahTCAv-A1O",
      "execution_count": null,
      "outputs": []
    },
    {
      "cell_type": "markdown",
      "id": "4d41ca98-b44f-45fa-8422-8bc6f618faab",
      "metadata": {
        "id": "4d41ca98-b44f-45fa-8422-8bc6f618faab"
      },
      "source": [
        "### Final Display:"
      ]
    },
    {
      "cell_type": "code",
      "source": [],
      "metadata": {
        "id": "4wnh5eU2-CyQ"
      },
      "id": "4wnh5eU2-CyQ",
      "execution_count": null,
      "outputs": []
    },
    {
      "cell_type": "markdown",
      "id": "01fd72b1-cdc4-417b-9d29-1fb437084469",
      "metadata": {
        "tags": [],
        "id": "01fd72b1-cdc4-417b-9d29-1fb437084469"
      },
      "source": [
        "\n",
        "### Traversing Lists: Loop through the inventory list and print out each item with its quantity and price"
      ]
    },
    {
      "cell_type": "code",
      "source": [],
      "metadata": {
        "id": "fv0q5zaG-GpL"
      },
      "id": "fv0q5zaG-GpL",
      "execution_count": null,
      "outputs": []
    },
    {
      "cell_type": "markdown",
      "id": "bd7179f0-2f39-4869-b2f0-0e607fc8af30",
      "metadata": {
        "tags": [],
        "id": "bd7179f0-2f39-4869-b2f0-0e607fc8af30"
      },
      "source": [
        "### Appending Elements: Add a new item \"Pears\" with quantity 25 and price $1.75 per unit to the inventory.\n"
      ]
    },
    {
      "cell_type": "code",
      "source": [],
      "metadata": {
        "id": "qNrrqeIj-IsD"
      },
      "id": "qNrrqeIj-IsD",
      "execution_count": null,
      "outputs": []
    },
    {
      "cell_type": "markdown",
      "id": "74c35539-c87a-40f5-87db-318eb2750a54",
      "metadata": {
        "id": "74c35539-c87a-40f5-87db-318eb2750a54"
      },
      "source": [
        "\n",
        "### Finding an Element: Find the details of \"Oranges\" in the inventory.\n"
      ]
    },
    {
      "cell_type": "code",
      "source": [],
      "metadata": {
        "id": "m0T5MPjd-KvY"
      },
      "id": "m0T5MPjd-KvY",
      "execution_count": null,
      "outputs": []
    },
    {
      "cell_type": "markdown",
      "id": "c21edefa-e097-40bf-b9b3-9d62119fbd38",
      "metadata": {
        "id": "c21edefa-e097-40bf-b9b3-9d62119fbd38"
      },
      "source": [
        "### Removing an Element: Remove \"Bananas\" from the inventory and display the updated inventory.\n"
      ]
    },
    {
      "cell_type": "code",
      "source": [],
      "metadata": {
        "id": "WoxQSyTL-MZQ"
      },
      "id": "WoxQSyTL-MZQ",
      "execution_count": null,
      "outputs": []
    },
    {
      "cell_type": "markdown",
      "id": "fe6d1ff3-f628-4e9a-9b49-e9cd778f7dec",
      "metadata": {
        "id": "fe6d1ff3-f628-4e9a-9b49-e9cd778f7dec"
      },
      "source": [
        "\n",
        "### Calculating Total Value: Calculate the total value of the inventory.\n"
      ]
    },
    {
      "cell_type": "code",
      "source": [],
      "metadata": {
        "id": "rSaNtIDq-Ntp"
      },
      "id": "rSaNtIDq-Ntp",
      "execution_count": null,
      "outputs": []
    },
    {
      "cell_type": "code",
      "source": [],
      "metadata": {
        "id": "4CHzezHS-N9m"
      },
      "id": "4CHzezHS-N9m",
      "execution_count": null,
      "outputs": []
    },
    {
      "cell_type": "markdown",
      "id": "e7bad58d-b9ab-4337-b897-2b1f8d08ee4b",
      "metadata": {
        "id": "e7bad58d-b9ab-4337-b897-2b1f8d08ee4b"
      },
      "source": [
        "### Sorting: Sort the inventory alphabetically by item name and display it.\n"
      ]
    },
    {
      "cell_type": "code",
      "source": [],
      "metadata": {
        "id": "lLYPi_IN-PR0"
      },
      "id": "lLYPi_IN-PR0",
      "execution_count": null,
      "outputs": []
    },
    {
      "cell_type": "markdown",
      "id": "2e11aee3-2f41-49d2-a98e-a924cd1a1629",
      "metadata": {
        "id": "2e11aee3-2f41-49d2-a98e-a924cd1a1629"
      },
      "source": [
        "\n",
        "### Copying Lists: Create a copy of the inventory list and display both the original and copied lists.\n"
      ]
    },
    {
      "cell_type": "code",
      "source": [],
      "metadata": {
        "id": "tJIN73au-Qf9"
      },
      "id": "tJIN73au-Qf9",
      "execution_count": null,
      "outputs": []
    },
    {
      "cell_type": "markdown",
      "id": "ce420e2d-7dd8-45a1-8936-32afc0272b8f",
      "metadata": {
        "id": "ce420e2d-7dd8-45a1-8936-32afc0272b8f"
      },
      "source": [
        "\n",
        "### List Comprehensions: Use list comprehension to create a list of item names from the inventory."
      ]
    },
    {
      "cell_type": "code",
      "source": [],
      "metadata": {
        "id": "qEtJ7GXY-TT3"
      },
      "id": "qEtJ7GXY-TT3",
      "execution_count": null,
      "outputs": []
    }
  ],
  "metadata": {
    "kernelspec": {
      "display_name": "Python 3 (ipykernel)",
      "language": "python",
      "name": "python3"
    },
    "language_info": {
      "codemirror_mode": {
        "name": "ipython",
        "version": 3
      },
      "file_extension": ".py",
      "mimetype": "text/x-python",
      "name": "python",
      "nbconvert_exporter": "python",
      "pygments_lexer": "ipython3",
      "version": "3.8.16"
    },
    "colab": {
      "provenance": [],
      "include_colab_link": true
    }
  },
  "nbformat": 4,
  "nbformat_minor": 5
}