{
  "nbformat": 4,
  "nbformat_minor": 0,
  "metadata": {
    "colab": {
      "provenance": [],
      "authorship_tag": "ABX9TyO3urXRVNm0SJVk7oSzFhxl",
      "include_colab_link": true
    },
    "kernelspec": {
      "name": "python3",
      "display_name": "Python 3"
    },
    "language_info": {
      "name": "python"
    }
  },
  "cells": [
    {
      "cell_type": "markdown",
      "metadata": {
        "id": "view-in-github",
        "colab_type": "text"
      },
      "source": [
        "<a href=\"https://colab.research.google.com/github/Dong2Yo/DATA3550_1232/blob/main/Lectures/Wk4_input_validation.ipynb\" target=\"_parent\"><img src=\"https://colab.research.google.com/assets/colab-badge.svg\" alt=\"Open In Colab\"/></a>"
      ]
    },
    {
      "cell_type": "markdown",
      "source": [
        "Validating user input is important to ensure that the program receives the expected data type or format.\n",
        "\n",
        "Here are some general strategies for validating user input in Python:"
      ],
      "metadata": {
        "id": "egjJ4y9Fzwz4"
      }
    },
    {
      "cell_type": "markdown",
      "source": [
        "# 1.0 Check Data Type:\n",
        "Verify that the input is of the correct data type. For example, if you expect an integer, you can use the isdigit() method or try converting the input to an integer and handle the ValueError if it fails."
      ],
      "metadata": {
        "id": "gueoecspz4oB"
      }
    },
    {
      "cell_type": "code",
      "execution_count": 1,
      "metadata": {
        "colab": {
          "base_uri": "https://localhost:8080/"
        },
        "id": "63SPjhc7zifl",
        "outputId": "25496c80-591b-4cd0-dc07-b0628b700261"
      },
      "outputs": [
        {
          "output_type": "stream",
          "name": "stdout",
          "text": [
            "Enter an integer: er\n",
            "Invalid input. Please enter an integer.\n"
          ]
        }
      ],
      "source": [
        "user_input = input(\"Enter an integer: \")\n",
        "\n",
        "if user_input.isdigit():\n",
        "    integer_value = int(user_input)\n",
        "    print(\"You entered:\", integer_value)\n",
        "else:\n",
        "    print(\"Invalid input. Please enter an integer.\")\n"
      ]
    },
    {
      "cell_type": "markdown",
      "source": [
        "# 2.0 Use Try-Except Blocks:\n",
        "Wrap the input-handling code in a try-except block to catch exceptions that may occur during invalid input."
      ],
      "metadata": {
        "id": "ZHeDp2li0FRu"
      }
    },
    {
      "cell_type": "code",
      "source": [
        "try:\n",
        "    user_input = float(input(\"Enter a number: \"))\n",
        "    print(\"You entered:\", user_input)\n",
        "except ValueError:\n",
        "    print(\"Invalid input. Please enter a valid number.\")\n"
      ],
      "metadata": {
        "colab": {
          "base_uri": "https://localhost:8080/"
        },
        "id": "PHYmP75Z0JGo",
        "outputId": "f3d35cee-5f1d-439c-d0de-372be744ac3a"
      },
      "execution_count": 2,
      "outputs": [
        {
          "output_type": "stream",
          "name": "stdout",
          "text": [
            "Enter a number: ten\n",
            "Invalid input. Please enter a valid number.\n"
          ]
        }
      ]
    },
    {
      "cell_type": "markdown",
      "source": [
        "# 3.0 Check Range or Conditions:\n",
        "Verify that the input falls within a certain range or satisfies specific conditions.New Section"
      ],
      "metadata": {
        "id": "wjed7q0H0Pw0"
      }
    },
    {
      "cell_type": "code",
      "source": [
        "user_input = int(input(\"Enter an integer between 1 and 10: \"))\n",
        "\n",
        "if 1 <= user_input <= 10:\n",
        "    print(\"You entered a valid integer within the range.\")\n",
        "else:\n",
        "    print(\"Invalid input. Please enter an integer between 1 and 10.\")\n"
      ],
      "metadata": {
        "colab": {
          "base_uri": "https://localhost:8080/"
        },
        "id": "oI3kIkez0Ub-",
        "outputId": "3cdca193-dbec-4c78-eb51-0ae162b4aab6"
      },
      "execution_count": 3,
      "outputs": [
        {
          "output_type": "stream",
          "name": "stdout",
          "text": [
            "Enter an integer between 1 and 10: 12\n",
            "Invalid input. Please enter an integer between 1 and 10.\n"
          ]
        }
      ]
    },
    {
      "cell_type": "markdown",
      "source": [
        "# 4.0 Use Regular Expressions:\n",
        "For more complex validation, you can use regular expressions to check if the input matches a specific pattern."
      ],
      "metadata": {
        "id": "cR7Cio140aKz"
      }
    },
    {
      "cell_type": "code",
      "source": [
        "import re\n",
        "\n",
        "user_input = input(\"Enter an email address: \")\n",
        "\n",
        "if re.match(r\"[^@]+@[^@]+\\.[^@]+\", user_input):\n",
        "    print(\"You entered a valid email address.\")\n",
        "else:\n",
        "    print(\"Invalid email address. Please enter a valid email.\")\n"
      ],
      "metadata": {
        "id": "VNp_IkWJ0dJo"
      },
      "execution_count": null,
      "outputs": []
    },
    {
      "cell_type": "markdown",
      "source": [
        "# 5.0 Checking for Non-Empty Input:\n",
        "Ensure that the user doesn't leave the input empty."
      ],
      "metadata": {
        "id": "jnkpaEJJ0kIt"
      }
    },
    {
      "cell_type": "code",
      "source": [
        "user_input = input(\"Enter something: \")\n",
        "\n",
        "if user_input:\n",
        "    print(\"You entered:\", user_input)\n",
        "else:\n",
        "    print(\"Input cannot be empty. Please enter something.\")\n"
      ],
      "metadata": {
        "colab": {
          "base_uri": "https://localhost:8080/"
        },
        "id": "fYAwXMTU0qXW",
        "outputId": "c77e8aff-5408-47a4-9854-3768ca0a7ddf"
      },
      "execution_count": 4,
      "outputs": [
        {
          "output_type": "stream",
          "name": "stdout",
          "text": [
            "Enter something: \n",
            "Input cannot be empty. Please enter something.\n"
          ]
        }
      ]
    },
    {
      "cell_type": "markdown",
      "source": [
        "# 6.0 Validating Yes/No Input:\n",
        "Validate whether the user entered \"yes\" or \"no.\""
      ],
      "metadata": {
        "id": "XCo7CAsG0tS0"
      }
    },
    {
      "cell_type": "code",
      "source": [
        "user_input = input(\"Do you want to continue? (yes/no): \").lower()\n",
        "\n",
        "if user_input == \"yes\":\n",
        "    print(\"Continuing...\")\n",
        "elif user_input == \"no\":\n",
        "    print(\"Exiting...\")\n",
        "else:\n",
        "    print(\"Invalid input. Please enter 'yes' or 'no'.\")\n"
      ],
      "metadata": {
        "colab": {
          "base_uri": "https://localhost:8080/"
        },
        "id": "U2IDXQbn0xvt",
        "outputId": "cde05352-886d-4935-e76d-88a91e6d173d"
      },
      "execution_count": 5,
      "outputs": [
        {
          "output_type": "stream",
          "name": "stdout",
          "text": [
            "Do you want to continue? (yes/no): y\n",
            "Invalid input. Please enter 'yes' or 'no'.\n"
          ]
        }
      ]
    },
    {
      "cell_type": "markdown",
      "source": [
        "# 7.0 Validating Date Format:\n",
        "Check if the user entered a date in the format YYYY-MM-DD."
      ],
      "metadata": {
        "id": "VH2UuBcH06Kx"
      }
    },
    {
      "cell_type": "code",
      "source": [
        "import re\n",
        "\n",
        "date_input = input(\"Enter a date (YYYY-MM-DD): \")\n",
        "\n",
        "if re.match(r\"\\d{4}-\\d{2}-\\d{2}\", date_input):\n",
        "    print(\"You entered a valid date.\")\n",
        "else:\n",
        "    print(\"Invalid date format. Please enter in YYYY-MM-DD format.\")\n"
      ],
      "metadata": {
        "colab": {
          "base_uri": "https://localhost:8080/"
        },
        "id": "CzhhIIsE09ko",
        "outputId": "7a64dcfb-0a2b-4655-83d0-8d53e19584f9"
      },
      "execution_count": 6,
      "outputs": [
        {
          "output_type": "stream",
          "name": "stdout",
          "text": [
            "Enter a date (YYYY-MM-DD): 12340980\n",
            "Invalid date format. Please enter in YYYY-MM-DD format.\n"
          ]
        }
      ]
    },
    {
      "cell_type": "markdown",
      "source": [
        "# 8.0 New SectionEnsuring Positive Integer Input:\n",
        "Validate that the user entered a positive integer."
      ],
      "metadata": {
        "id": "U1PX-jTW1FVW"
      }
    },
    {
      "cell_type": "code",
      "source": [
        "user_input = input(\"Enter a positive integer: \")\n",
        "\n",
        "if user_input.isdigit() and int(user_input) > 0:\n",
        "    print(\"You entered a valid positive integer.\")\n",
        "else:\n",
        "    print(\"Invalid input. Please enter a positive integer.\")\n"
      ],
      "metadata": {
        "colab": {
          "base_uri": "https://localhost:8080/"
        },
        "id": "p8Sz8O721KZU",
        "outputId": "b05a7ab1-2e78-4898-a2c0-71b137cb7925"
      },
      "execution_count": 7,
      "outputs": [
        {
          "output_type": "stream",
          "name": "stdout",
          "text": [
            "Enter a positive integer: -100\n",
            "Invalid input. Please enter a positive integer.\n"
          ]
        }
      ]
    },
    {
      "cell_type": "markdown",
      "source": [
        "# 9.0 Validating Password Strength:\n",
        "Check if a password meets certain criteria (e.g., minimum length, containing both letters and numbers)."
      ],
      "metadata": {
        "id": "iIi2l1SV1M75"
      }
    },
    {
      "cell_type": "code",
      "source": [
        "password = input(\"Enter a password: \")\n",
        "\n",
        "if len(password) >= 8 and any(char.isdigit() for char in password) and any(char.isalpha() for char in password):\n",
        "    print(\"Password meets the criteria.\")\n",
        "else:\n",
        "    print(\"Invalid password. Please ensure it is at least 8 characters long and contains both letters and numbers.\")\n"
      ],
      "metadata": {
        "colab": {
          "base_uri": "https://localhost:8080/"
        },
        "id": "ngTbFL2X1Rqd",
        "outputId": "49106785-20c9-4772-fed7-94a10d3d2fa1"
      },
      "execution_count": 8,
      "outputs": [
        {
          "output_type": "stream",
          "name": "stdout",
          "text": [
            "Enter a password: 2313414141241124124\n",
            "Invalid password. Please ensure it is at least 8 characters long and contains both letters and numbers.\n"
          ]
        }
      ]
    },
    {
      "cell_type": "markdown",
      "source": [
        "# 10.0 Two decimal Place?"
      ],
      "metadata": {
        "id": "uxLrMrWc1qVK"
      }
    },
    {
      "cell_type": "code",
      "source": [
        "def validate_two_decimal_places(user_input):\n",
        "    try:\n",
        "        # Convert the input to a float and round to two decimal places\n",
        "        rounded_input = round(float(user_input), 2)\n",
        "\n",
        "        # Check if the rounded value is equal to the original value\n",
        "        if rounded_input == float(user_input):\n",
        "            return True\n",
        "        else:\n",
        "            return False\n",
        "    except ValueError:\n",
        "        return False\n",
        "\n",
        "user_input = input(\"Enter a number with exactly two decimal places: \")\n",
        "\n",
        "if validate_two_decimal_places(user_input):\n",
        "    print(\"Valid input:\", user_input)\n",
        "else:\n",
        "    print(\"Invalid input. Please enter a number with exactly two decimal places.\")\n"
      ],
      "metadata": {
        "colab": {
          "base_uri": "https://localhost:8080/"
        },
        "id": "lmxXn4x-1pt4",
        "outputId": "b7aff375-96d6-4e23-dc00-9298f832c24d"
      },
      "execution_count": 9,
      "outputs": [
        {
          "output_type": "stream",
          "name": "stdout",
          "text": [
            "Enter a number with exactly two decimal places: 4.567\n",
            "Invalid input. Please enter a number with exactly two decimal places.\n"
          ]
        }
      ]
    }
  ]
}