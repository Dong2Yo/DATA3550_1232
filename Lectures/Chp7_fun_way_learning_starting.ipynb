{
  "cells": [
    {
      "cell_type": "markdown",
      "metadata": {
        "id": "view-in-github",
        "colab_type": "text"
      },
      "source": [
        "<a href=\"https://colab.research.google.com/github/Dong2Yo/DATA3550_1232/blob/main/Lectures/Chp7_fun_way_learning_starting.ipynb\" target=\"_parent\"><img src=\"https://colab.research.google.com/assets/colab-badge.svg\" alt=\"Open In Colab\"/></a>"
      ]
    },
    {
      "cell_type": "markdown",
      "id": "c5218f8f-9533-4bf5-8fe9-599edbbd2b47",
      "metadata": {
        "id": "c5218f8f-9533-4bf5-8fe9-599edbbd2b47"
      },
      "source": [
        "# Chapter 7 Files & Exceptions"
      ]
    },
    {
      "cell_type": "markdown",
      "source": [
        "**File Handling in Python**: ***Reading and Writing Text Files***\n",
        "\n",
        "In Python, file handling is a crucial aspect of programming. It allows you to work with files stored on your computer's disk. This notebook will cover basic file handling operations in Python, focusing specifically on reading from and writing to text files.\n",
        "\n",
        "**Skills covered**:\n",
        "- Opening files\n",
        "- Reading from a file\n",
        "- Writing to a file\n",
        "- Reading words\n",
        "- Iterating over the lines of a file\n",
        "- Reading records\n",
        "- Command line arguments\n",
        "- Exception handling\n",
        "\n",
        "**Opening Files**\n",
        "\n",
        "Before you can read from or write to a file, you need to open it. Python provides the open() function for this purpose. The open() function takes two arguments: the file name and the mode in which you want to open the file.\n",
        "\n",
        "**Modes:**\n",
        ">\"r\": Read mode. Opens a file for reading. If the file doesn't exist, it raises a FileNotFoundError error.\n",
        "\n",
        ">\"w\": Write mode. Opens a file for writing. If the file already exists, it will be overwritten. If the file doesn't exist, it creates a new one.\n",
        "\n",
        ">\"a\": Append mode. Opens a file for appending data. If the file doesn't exist, it creates a new one.\n",
        "\n",
        ">\"r+\": Read and write mode. Opens a file for both reading and writing."
      ],
      "metadata": {
        "id": "sZuuroIhfOIH"
      },
      "id": "sZuuroIhfOIH"
    },
    {
      "cell_type": "markdown",
      "id": "c68f652b-7eb1-4b4b-b109-521bc02e9ce5",
      "metadata": {
        "id": "c68f652b-7eb1-4b4b-b109-521bc02e9ce5"
      },
      "source": [
        "## Demo"
      ]
    },
    {
      "cell_type": "markdown",
      "id": "035cb5a3-d342-483a-ba5f-1f17d0d32e82",
      "metadata": {
        "id": "035cb5a3-d342-483a-ba5f-1f17d0d32e82"
      },
      "source": [
        "### Reading from a Text File"
      ]
    },
    {
      "cell_type": "markdown",
      "source": [
        "To read from a file, you can use the read() or readline() method."
      ],
      "metadata": {
        "id": "UyuXwNCsgDR1"
      },
      "id": "UyuXwNCsgDR1"
    },
    {
      "cell_type": "code",
      "source": [],
      "metadata": {
        "id": "1R4zegFnzrxs"
      },
      "id": "1R4zegFnzrxs",
      "execution_count": null,
      "outputs": []
    },
    {
      "cell_type": "markdown",
      "id": "d231040f-ae5c-4214-9639-1a38dea8c449",
      "metadata": {
        "id": "d231040f-ae5c-4214-9639-1a38dea8c449"
      },
      "source": [
        "### Reading from a csv File"
      ]
    },
    {
      "cell_type": "code",
      "source": [],
      "metadata": {
        "id": "_vC-0qjhzveL"
      },
      "id": "_vC-0qjhzveL",
      "execution_count": null,
      "outputs": []
    },
    {
      "cell_type": "markdown",
      "id": "561f98c6-2c0e-4194-9e6e-0bd24618c092",
      "metadata": {
        "id": "561f98c6-2c0e-4194-9e6e-0bd24618c092"
      },
      "source": [
        "### Writing to a File"
      ]
    },
    {
      "cell_type": "markdown",
      "source": [
        "To write to a file, you can use the write() method."
      ],
      "metadata": {
        "id": "C2c2fc9_j_-L"
      },
      "id": "C2c2fc9_j_-L"
    },
    {
      "cell_type": "markdown",
      "id": "6a1fb8dd-4511-44ef-8e5d-6f441eef6acf",
      "metadata": {
        "id": "6a1fb8dd-4511-44ef-8e5d-6f441eef6acf"
      },
      "source": [
        "**This code will create a new file named \"output.txt\" (or overwrite it if it already exists) and write the specified text to it.**"
      ]
    },
    {
      "cell_type": "code",
      "source": [],
      "metadata": {
        "id": "NqE3DT1uzz9F"
      },
      "id": "NqE3DT1uzz9F",
      "execution_count": null,
      "outputs": []
    },
    {
      "cell_type": "markdown",
      "id": "1bffe635-9551-474e-a462-7e1459d3f8c6",
      "metadata": {
        "id": "1bffe635-9551-474e-a462-7e1459d3f8c6"
      },
      "source": [
        "**If you want to append text to an existing file, you can use the append mode 'a':**"
      ]
    },
    {
      "cell_type": "code",
      "source": [],
      "metadata": {
        "id": "jkvTzLGOz2DP"
      },
      "id": "jkvTzLGOz2DP",
      "execution_count": null,
      "outputs": []
    },
    {
      "cell_type": "markdown",
      "source": [
        "Several situations can arise that might lead to errors or unexpected behavior when writing to a file. Here are some common scenarios:\n",
        "\n",
        "1. **File Permissions**: If the file you're trying to write to is read-only or if you don't have the necessary permissions to write to it, you'll encounter a permission error.\n",
        "\n",
        "2. **File Does Not Exist**: If you're trying to write to a file that doesn't exist and you're using the write mode (`'w'`), Python will create a new file. However, if you're using append mode (`'a'`) and the file doesn't exist, Python will raise a `FileNotFoundError`.\n",
        "\n",
        "3. **Disk Full**: If the disk where you're trying to write the file is full, you'll encounter an error.\n",
        "\n",
        "4. **File in Use**: If another process has the file open exclusively, you might not be able to write to it.\n",
        "\n",
        "5. **Invalid Characters in File Name**: If the file name contains invalid characters or exceeds the maximum length allowed by the operating system, you'll encounter an error.\n",
        "\n",
        "6. **File is a Directory**: If you accidentally specify a directory instead of a file in the file path, you'll encounter an error.\n",
        "\n",
        "7. **Encoding Issues**: If you're writing text to a file and encounter encoding issues, such as trying to write non-ASCII characters with an incompatible encoding, you'll encounter errors.\n",
        "\n",
        "8. **File System Errors**: File systems can encounter errors for various reasons, such as corruption or hardware failures, leading to issues when writing to files.\n",
        "\n",
        "To handle these situations, it's essential to include appropriate error handling in your code, such as using `try-except` blocks to catch exceptions and handle them gracefully. Additionally, it's a good practice to check for file existence and permissions before attempting to write to a file and to handle encoding properly when working with text files."
      ],
      "metadata": {
        "id": "gpqie3SclK4U"
      },
      "id": "gpqie3SclK4U"
    },
    {
      "cell_type": "code",
      "source": [],
      "metadata": {
        "id": "I34d3kJCz5HF"
      },
      "id": "I34d3kJCz5HF",
      "execution_count": null,
      "outputs": []
    },
    {
      "cell_type": "markdown",
      "source": [
        "### Reading words from a Text File"
      ],
      "metadata": {
        "id": "OB1SaNL_me7R"
      },
      "id": "OB1SaNL_me7R"
    },
    {
      "cell_type": "code",
      "source": [],
      "metadata": {
        "id": "CDIeEL_Zz7Lx"
      },
      "id": "CDIeEL_Zz7Lx",
      "execution_count": null,
      "outputs": []
    },
    {
      "cell_type": "markdown",
      "source": [
        "### Reading records"
      ],
      "metadata": {
        "id": "A17_BzwMoKt6"
      },
      "id": "A17_BzwMoKt6"
    },
    {
      "cell_type": "code",
      "source": [],
      "metadata": {
        "id": "lBvdACJtz9PG"
      },
      "id": "lBvdACJtz9PG",
      "execution_count": null,
      "outputs": []
    },
    {
      "cell_type": "markdown",
      "source": [
        "### Command Line Arguments"
      ],
      "metadata": {
        "id": "k2dUoAscsolt"
      },
      "id": "k2dUoAscsolt"
    },
    {
      "cell_type": "markdown",
      "source": [
        "\n",
        "Command line arguments are parameters provided to a program when it is executed via the command line interface (CLI). When you run a program from the command line, you can pass additional information to it by specifying arguments after the program name."
      ],
      "metadata": {
        "id": "9Q7xwm6estKw"
      },
      "id": "9Q7xwm6estKw"
    },
    {
      "cell_type": "code",
      "source": [
        "pip install requests"
      ],
      "metadata": {
        "id": "tNS-OdXexMo3"
      },
      "id": "tNS-OdXexMo3",
      "execution_count": null,
      "outputs": []
    },
    {
      "cell_type": "code",
      "source": [
        "!pip install colab-xterm\n",
        "%load_ext colabxterm"
      ],
      "metadata": {
        "id": "5u0H4DKStz9S"
      },
      "id": "5u0H4DKStz9S",
      "execution_count": null,
      "outputs": []
    },
    {
      "cell_type": "code",
      "source": [
        "%xterm"
      ],
      "metadata": {
        "id": "I7XE4T0Zt_76"
      },
      "id": "I7XE4T0Zt_76",
      "execution_count": null,
      "outputs": []
    },
    {
      "cell_type": "code",
      "source": [
        "import sys\n",
        "\n",
        "# Access command line arguments\n",
        "arguments = sys.argv\n",
        "\n",
        "# Print the name of the script\n",
        "print(\"fetch_data.py:\", arguments[0])\n",
        "\n",
        "# Print any additional command line arguments\n",
        "if len(arguments) > 1:\n",
        "    print(\"Additional arguments:\", arguments[1:])\n",
        "else:\n",
        "    print(\"No additional arguments provided.\")\n",
        "\n"
      ],
      "metadata": {
        "id": "O5ZX2Em1s0VM"
      },
      "id": "O5ZX2Em1s0VM",
      "execution_count": null,
      "outputs": []
    },
    {
      "cell_type": "markdown",
      "id": "d7e27d93-de82-468b-a33e-b2e56dd20642",
      "metadata": {
        "id": "d7e27d93-de82-468b-a33e-b2e56dd20642"
      },
      "source": [
        "## Ex"
      ]
    },
    {
      "cell_type": "markdown",
      "id": "85fa1881-8a87-4122-9141-60e6ff4dd56d",
      "metadata": {
        "id": "85fa1881-8a87-4122-9141-60e6ff4dd56d"
      },
      "source": [
        "### Scenario: Financial Reporting\n",
        "\n",
        "A company wants to analyze its financial data, including revenue and expenses. Various exceptions may occur during the analysis.\n",
        "\n",
        "### Exercise 1: Handle File Not Found Error\n",
        "\n",
        "Question 1: Write a Python script to open and read the content of a file named \"financial_data.txt\". Handle the FileNotFoundError exception and print an error message if the file is not found."
      ]
    },
    {
      "cell_type": "code",
      "source": [],
      "metadata": {
        "id": "oZoE1FsR0Gk8"
      },
      "id": "oZoE1FsR0Gk8",
      "execution_count": null,
      "outputs": []
    }
  ],
  "metadata": {
    "kernelspec": {
      "display_name": "Python 3 (ipykernel)",
      "language": "python",
      "name": "python3"
    },
    "language_info": {
      "codemirror_mode": {
        "name": "ipython",
        "version": 3
      },
      "file_extension": ".py",
      "mimetype": "text/x-python",
      "name": "python",
      "nbconvert_exporter": "python",
      "pygments_lexer": "ipython3",
      "version": "3.8.16"
    },
    "colab": {
      "provenance": [],
      "toc_visible": true,
      "include_colab_link": true
    }
  },
  "nbformat": 4,
  "nbformat_minor": 5
}