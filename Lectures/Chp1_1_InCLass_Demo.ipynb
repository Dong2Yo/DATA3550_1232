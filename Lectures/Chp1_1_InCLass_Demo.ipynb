{
  "cells": [
    {
      "cell_type": "markdown",
      "metadata": {
        "id": "view-in-github",
        "colab_type": "text"
      },
      "source": [
        "<a href=\"https://colab.research.google.com/github/Dong2Yo/DATA3550_1232/blob/main/Lectures/Chp1_1_InCLass_Demo.ipynb\" target=\"_parent\"><img src=\"https://colab.research.google.com/assets/colab-badge.svg\" alt=\"Open In Colab\"/></a>"
      ]
    },
    {
      "cell_type": "code",
      "execution_count": 1,
      "metadata": {
        "id": "C2GJYdJZhqWK",
        "outputId": "c31432ac-8e4a-40aa-99f5-96dc845b1e34",
        "cellView": "form",
        "colab": {
          "base_uri": "https://localhost:8080/"
        }
      },
      "outputs": [
        {
          "output_type": "stream",
          "name": "stdout",
          "text": [
            "Hello\n"
          ]
        }
      ],
      "source": [
        "# @title Hello\n",
        "print('Hello')"
      ]
    },
    {
      "cell_type": "code",
      "execution_count": null,
      "metadata": {
        "id": "DVJE9QzmhqWP",
        "outputId": "14750b92-9025-4271-d3dd-7d947c16c31e",
        "cellView": "form"
      },
      "outputs": [
        {
          "name": "stdout",
          "output_type": "stream",
          "text": [
            "3 2 1 Go!\n"
          ]
        }
      ],
      "source": [
        "# @title More print statement.\n",
        "print('3 2 1 Go!')"
      ]
    },
    {
      "cell_type": "code",
      "execution_count": null,
      "metadata": {
        "id": "_fN8GTnPhqWQ",
        "outputId": "cb691583-94cd-400e-bf80-d72495f53861",
        "cellView": "form"
      },
      "outputs": [
        {
          "name": "stdout",
          "output_type": "stream",
          "text": [
            "*****\n",
            "*   *\n",
            "*****\n",
            "*   *\n",
            "*****\n"
          ]
        }
      ],
      "source": [
        "# @title Graph?\n",
        "print('*****')\n",
        "print('*   *')\n",
        "print('*****')\n",
        "print('*   *')\n",
        "print('*****')"
      ]
    },
    {
      "cell_type": "code",
      "execution_count": null,
      "metadata": {
        "id": "yyvueM6NhqWR",
        "outputId": "edd73878-7202-4c35-b519-d9e40d65c655",
        "cellView": "form"
      },
      "outputs": [
        {
          "name": "stdout",
          "output_type": "stream",
          "text": [
            "Hello there. My name is... Carl?\n"
          ]
        }
      ],
      "source": [
        "# @title Print statements in one line.\n",
        "# Including end=' ' keeps output on same line\n",
        "print('Hello there.', end=' ')\n",
        "print('My name is...', end=' ')\n",
        "print('Carl?')\n"
      ]
    },
    {
      "cell_type": "code",
      "execution_count": null,
      "metadata": {
        "id": "UIvuZ__ahqWS",
        "outputId": "742ecc59-dc6b-4181-ecf9-94cb873d2481",
        "cellView": "form"
      },
      "outputs": [
        {
          "name": "stdout",
          "output_type": "stream",
          "text": [
            "Wage is 20\n",
            "Goodbye.\n"
          ]
        }
      ],
      "source": [
        "# @title Print a variable.\n",
        "wage = 20\n",
        "\n",
        "print('Wage is', end=' ')\n",
        "print(wage)  # print variable's value\n",
        "print('Goodbye.')"
      ]
    },
    {
      "cell_type": "code",
      "execution_count": null,
      "metadata": {
        "id": "i9AujkiLhqWT",
        "outputId": "b6152139-8dcd-40cf-d355-8902adfcd085",
        "cellView": "form"
      },
      "outputs": [
        {
          "name": "stdout",
          "output_type": "stream",
          "text": [
            "1\n",
            "2\n",
            "3\n"
          ]
        }
      ],
      "source": [
        "# @title Start a new line.\n",
        "print('1\\n2\\n3')"
      ]
    },
    {
      "cell_type": "code",
      "execution_count": null,
      "metadata": {
        "id": "2xzPGWbMhqWU",
        "outputId": "f18f5237-d5d8-44e6-e382-0f911c52acca",
        "cellView": "form"
      },
      "outputs": [
        {
          "name": "stdout",
          "output_type": "stream",
          "text": [
            "123\n",
            "\n",
            "abc\n"
          ]
        }
      ],
      "source": [
        "# @title Spacing?\n",
        "print('123')\n",
        "print()\n",
        "print('abc')"
      ]
    },
    {
      "cell_type": "code",
      "execution_count": 2,
      "metadata": {
        "id": "4s7yiETQhqWV",
        "outputId": "01773bc4-8ca9-4985-bb7d-c22ceb6ad260",
        "colab": {
          "base_uri": "https://localhost:8080/"
        },
        "cellView": "form"
      },
      "outputs": [
        {
          "output_type": "stream",
          "name": "stdout",
          "text": [
            "Enter name of best friend: Mary\n",
            "My best friend is Mary\n"
          ]
        }
      ],
      "source": [
        "# @title User input\n",
        "print('Enter name of best friend:', end=' ')\n",
        "best_friend = input()\n",
        "print('My best friend is', best_friend)"
      ]
    },
    {
      "cell_type": "code",
      "execution_count": null,
      "metadata": {
        "id": "XIq2FesyhqWY",
        "outputId": "542e0fcb-760d-4d75-d699-8d6240c083f4",
        "cellView": "form"
      },
      "outputs": [
        {
          "name": "stdout",
          "output_type": "stream",
          "text": [
            "123\n",
            "123\n"
          ]
        }
      ],
      "source": [
        "# @title Change data types.\n",
        "my_string = '123'\n",
        "my_int = int('123')\n",
        "\n",
        "print(my_string)\n",
        "print(my_int)"
      ]
    },
    {
      "cell_type": "code",
      "execution_count": null,
      "metadata": {
        "id": "VdwFHi76hqWa",
        "outputId": "3a43027c-882a-4a09-9bea-17701d1be8bf",
        "cellView": "form"
      },
      "outputs": [
        {
          "name": "stdout",
          "output_type": "stream",
          "text": [
            "Enter wage: 34\n",
            "New wage: 44\n"
          ]
        }
      ],
      "source": [
        "# @title More user input.\n",
        "print('Enter wage:', end=' ')\n",
        "wage = int(input())\n",
        "\n",
        "new_wage = wage + 10\n",
        "print('New wage:', new_wage)"
      ]
    },
    {
      "cell_type": "code",
      "execution_count": null,
      "metadata": {
        "id": "J3cfqMiahqWc",
        "outputId": "21916e22-d4b2-4298-a6b7-b5ad2281e07e",
        "cellView": "form"
      },
      "outputs": [
        {
          "name": "stdout",
          "output_type": "stream",
          "text": [
            "Enter hourly wage: 12\n",
            "Salary is 24000\n"
          ]
        }
      ],
      "source": [
        "# @title More.\n",
        "hours = 40\n",
        "weeks = 50\n",
        "hourly_wage = int(input('Enter hourly wage: '))\n",
        "\n",
        "print('Salary is', hourly_wage * hours * weeks)"
      ]
    },
    {
      "cell_type": "code",
      "execution_count": null,
      "metadata": {
        "id": "QJhp7ULAhqWd",
        "outputId": "0b1e5053-882d-4eab-e041-4326ab8b28b3",
        "cellView": "form"
      },
      "outputs": [
        {
          "name": "stdout",
          "output_type": "stream",
          "text": [
            "Enter age of dog (in years): 44\n",
            "\n",
            "44 dog years is about 308 human years.\n"
          ]
        }
      ],
      "source": [
        "# @title What about this?\n",
        "dog_years = int(input('Enter age of dog (in years): '))\n",
        "print()\n",
        "\n",
        "human_years = 7 * dog_years\n",
        "\n",
        "print(dog_years, 'dog years is about', end=' ')\n",
        "print (human_years, 'human years.')\n"
      ]
    },
    {
      "cell_type": "code",
      "execution_count": null,
      "metadata": {
        "id": "UQn9b0I8hqWe",
        "outputId": "1fd518f6-9fc1-422f-e08e-1e54b4d95613",
        "cellView": "form"
      },
      "outputs": [
        {
          "name": "stdout",
          "output_type": "stream",
          "text": [
            "2\n",
            "3\n",
            "5\n"
          ]
        }
      ],
      "source": [
        "# @title Print concatenation.\n",
        "num1 = int(input())\n",
        "num2 = int(input())\n",
        "print(num1 + num2)"
      ]
    },
    {
      "cell_type": "code",
      "execution_count": null,
      "metadata": {
        "id": "R9-HcBmlhqWf",
        "outputId": "dbfd498b-6bfb-4215-8286-bb9d22369872",
        "cellView": "form"
      },
      "outputs": [
        {
          "name": "stdout",
          "output_type": "stream",
          "text": [
            "2\n",
            "3\n",
            "5\n",
            "30\n"
          ]
        }
      ],
      "source": [
        "# @title Calculation\n",
        "user_num_1 = int(input())\n",
        "user_num_2 = int(input())\n",
        "user_num_3 = int(input())\n",
        "\n",
        "print(user_num_1 * user_num_2 * user_num_3)"
      ]
    },
    {
      "cell_type": "code",
      "execution_count": null,
      "metadata": {
        "id": "7miXTJJxhqWg",
        "outputId": "1e5b34f5-fe5c-4528-9710-8f4bcd060bce",
        "cellView": "form"
      },
      "outputs": [
        {
          "name": "stdout",
          "output_type": "stream",
          "text": [
            "This dinner is satisfying.\n"
          ]
        }
      ],
      "source": [
        "# @title Print a string statement.\n",
        "print('This dinner is satisfying.')"
      ]
    },
    {
      "cell_type": "code",
      "execution_count": null,
      "metadata": {
        "id": "P0xU-momhqWh",
        "cellView": "form"
      },
      "outputs": [],
      "source": [
        "# @title What is the output?\n",
        "print('Current salary is', end=' ')\n",
        "print(45000)\n",
        "\n",
        "print('Enter new salary:', end=' ')\n",
        "new_sal = int(input())\n",
        "\n",
        "print(new_sal)\n",
        "print(user_num)"
      ]
    },
    {
      "cell_type": "code",
      "execution_count": null,
      "metadata": {
        "id": "wKxizXR6hqWh",
        "outputId": "0885b1e3-d841-4a26-9a8d-c19fe36391df",
        "cellView": "form"
      },
      "outputs": [
        {
          "name": "stdout",
          "output_type": "stream",
          "text": [
            "Salary is 40000\n",
            "Enter integer:  ff\n"
          ]
        },
        {
          "ename": "ValueError",
          "evalue": "invalid literal for int() with base 10: 'ff'",
          "output_type": "error",
          "traceback": [
            "\u001b[1;31m---------------------------------------------------------------------------\u001b[0m",
            "\u001b[1;31mValueError\u001b[0m                                Traceback (most recent call last)",
            "\u001b[1;32m<ipython-input-19-c56090ae49f6>\u001b[0m in \u001b[0;36m<module>\u001b[1;34m\u001b[0m\n\u001b[0;32m      3\u001b[0m \u001b[1;33m\u001b[0m\u001b[0m\n\u001b[0;32m      4\u001b[0m \u001b[0mprint\u001b[0m\u001b[1;33m(\u001b[0m\u001b[1;34m'Enter integer: '\u001b[0m\u001b[1;33m,\u001b[0m \u001b[0mend\u001b[0m\u001b[1;33m=\u001b[0m\u001b[1;34m' '\u001b[0m\u001b[1;33m)\u001b[0m\u001b[1;33m\u001b[0m\u001b[1;33m\u001b[0m\u001b[0m\n\u001b[1;32m----> 5\u001b[1;33m \u001b[0muser_num\u001b[0m \u001b[1;33m=\u001b[0m \u001b[0mint\u001b[0m\u001b[1;33m(\u001b[0m\u001b[0minput\u001b[0m\u001b[1;33m(\u001b[0m\u001b[1;33m)\u001b[0m\u001b[1;33m)\u001b[0m\u001b[1;33m\u001b[0m\u001b[1;33m\u001b[0m\u001b[0m\n\u001b[0m\u001b[0;32m      6\u001b[0m \u001b[0mprint\u001b[0m\u001b[1;33m(\u001b[0m\u001b[0muser_num\u001b[0m\u001b[1;33m)\u001b[0m\u001b[1;33m\u001b[0m\u001b[1;33m\u001b[0m\u001b[0m\n",
            "\u001b[1;31mValueError\u001b[0m: invalid literal for int() with base 10: 'ff'"
          ]
        }
      ],
      "source": [
        "# @title Issue for user input\n",
        "print('Salary is', end=' ')\n",
        "print(20 * 40 * 50)\n",
        "\n",
        "print('Enter integer: ', end=' ')\n",
        "user_num = int(input())\n",
        "print(user_num)"
      ]
    },
    {
      "cell_type": "code",
      "execution_count": 4,
      "metadata": {
        "id": "maCHYcKzhqWi",
        "colab": {
          "base_uri": "https://localhost:8080/"
        },
        "cellView": "form",
        "outputId": "8e4afb8a-e89d-4cb1-ad60-353a79d0d041"
      },
      "outputs": [
        {
          "output_type": "stream",
          "name": "stdout",
          "text": [
            "Enter current salary:34000\n",
            "New salary: 204000\n"
          ]
        }
      ],
      "source": [
        "# @title Error?\n",
        "current_salary = int(input('Enter current salary:'))\n",
        "\n",
        "raise_percentage = 5  # Logic error gives a 500% raise instead of 5%.\n",
        "new_salary = current_salary + (current_salary * raise_percentage)\n",
        "print('New salary:', new_salary)"
      ]
    },
    {
      "cell_type": "code",
      "execution_count": 5,
      "metadata": {
        "id": "L8g7octIhqWj",
        "colab": {
          "base_uri": "https://localhost:8080/"
        },
        "cellView": "form",
        "outputId": "a6e7d8ca-7b05-4bfd-ddb9-99be27f1bc54"
      },
      "outputs": [
        {
          "output_type": "stream",
          "name": "stdout",
          "text": [
            "500 beans in 3 jars yields total_beans total\n"
          ]
        }
      ],
      "source": [
        "# @title What are the codes?\n",
        "# @title num_beans = 500\n",
        "# @title num_jars = 3\n",
        "# @title total_beans = 0\n",
        "\n",
        "num_beans = 500\n",
        "num_jars = 3\n",
        "total_beans = 0\n",
        "\n",
        "print(num_beans, 'beans in', end=' ')\n",
        "print(num_jars, 'jars yields', end=' ')\n",
        "total_beans = num_beans * num_jars\n",
        "print('total_beans', 'total')"
      ]
    },
    {
      "cell_type": "code",
      "execution_count": 7,
      "metadata": {
        "id": "V6ojr0wdhqWj",
        "colab": {
          "base_uri": "https://localhost:8080/"
        },
        "cellView": "form",
        "outputId": "09844bfd-4688-4a33-8196-c53f69cbfcc0"
      },
      "outputs": [
        {
          "output_type": "stream",
          "name": "stdout",
          "text": [
            "Predictions are hard.\n",
            "Especially about the future.\n",
            "user_num is: 5\n"
          ]
        }
      ],
      "source": [
        "# @title What are the codes?\n",
        "print('Predictions are hard.')\n",
        "print('Especially about the future.')\n",
        "user_num = 5\n",
        "print('user_num is:''', user_num)"
      ]
    },
    {
      "cell_type": "code",
      "execution_count": null,
      "metadata": {
        "id": "y6C06zkChqWk",
        "outputId": "fb13561b-53c3-4d5a-ab7a-0cdfa5aae7ef",
        "colab": {
          "base_uri": "https://localhost:8080/"
        },
        "cellView": "form"
      },
      "outputs": [
        {
          "output_type": "stream",
          "name": "stdout",
          "text": [
            "0\n",
            "But I don't want ANY spam!\n",
            "Spam Spam Spam Spam \n"
          ]
        }
      ],
      "source": [
        "# @title Fun example\n",
        "spam_amount = 0\n",
        "print(spam_amount)\n",
        "\n",
        "# Ordering Spam, egg, Spam, Spam, bacon and Spam (4 more servings of Spam)\n",
        "spam_amount = spam_amount + 4\n",
        "\n",
        "if spam_amount > 0:\n",
        "    print(\"But I don't want ANY spam!\")\n",
        "\n",
        "viking_song = \"Spam \" * spam_amount\n",
        "print(viking_song)"
      ]
    }
  ],
  "metadata": {
    "kernelspec": {
      "display_name": "Python 3 (ipykernel)",
      "language": "python",
      "name": "python3"
    },
    "language_info": {
      "codemirror_mode": {
        "name": "ipython",
        "version": 3
      },
      "file_extension": ".py",
      "mimetype": "text/x-python",
      "name": "python",
      "nbconvert_exporter": "python",
      "pygments_lexer": "ipython3",
      "version": "3.8.11"
    },
    "colab": {
      "provenance": [],
      "include_colab_link": true
    }
  },
  "nbformat": 4,
  "nbformat_minor": 0
}