{
  "cells": [
    {
      "cell_type": "markdown",
      "metadata": {
        "id": "view-in-github",
        "colab_type": "text"
      },
      "source": [
        "<a href=\"https://colab.research.google.com/github/Dong2Yo/DATA3550_1232/blob/main/Lectures/Chp9_b_fun_learning.ipynb\" target=\"_parent\"><img src=\"https://colab.research.google.com/assets/colab-badge.svg\" alt=\"Open In Colab\"/></a>"
      ]
    },
    {
      "cell_type": "markdown",
      "id": "536c9510-97e0-4514-a3e7-d5fb5310475b",
      "metadata": {
        "id": "536c9510-97e0-4514-a3e7-d5fb5310475b"
      },
      "source": [
        "# Chapter 9 Object-Oriented Programming in Python\n",
        "\n",
        "## Introduction to Object-Oriented Programming (OOP)\n",
        "#### -------------------------------------------------"
      ]
    },
    {
      "cell_type": "markdown",
      "id": "ae34fbd7-5dc0-4e9c-8a61-0cfe22c2dfb1",
      "metadata": {
        "id": "ae34fbd7-5dc0-4e9c-8a61-0cfe22c2dfb1"
      },
      "source": [
        "## What is OOP?"
      ]
    },
    {
      "cell_type": "markdown",
      "id": "e3e66fc2-a596-4a09-b8bf-64aa2f47bcb0",
      "metadata": {
        "id": "e3e66fc2-a596-4a09-b8bf-64aa2f47bcb0"
      },
      "source": [
        "Object-Oriented Programming (OOP) is a programming paradigm that organizes software design around objects rather than functions and logic. In OOP, objects are instances of classes, which encapsulate data and behavior."
      ]
    },
    {
      "cell_type": "markdown",
      "id": "ddb04c7d-f64f-4de4-9915-dcb1e953a197",
      "metadata": {
        "id": "ddb04c7d-f64f-4de4-9915-dcb1e953a197"
      },
      "source": [
        "Here are some key concepts in OOP:\n",
        "\n",
        ">1. Classes and Objects: Classes are blueprints for creating objects. They define the attributes (data) and methods (functions) that objects of the class will have. Objects are instances of classes.\n"
      ]
    },
    {
      "cell_type": "code",
      "execution_count": null,
      "id": "83a41212-e753-4587-8cf0-31d6eb58a15d",
      "metadata": {
        "id": "83a41212-e753-4587-8cf0-31d6eb58a15d"
      },
      "outputs": [],
      "source": []
    },
    {
      "cell_type": "markdown",
      "id": "260cd766-5244-4945-9239-d5d11dc5fef0",
      "metadata": {
        "id": "260cd766-5244-4945-9239-d5d11dc5fef0"
      },
      "source": [
        ">2. Encapsulation: Encapsulation refers to the bundling of data (attributes) and methods that operate on the data into a single unit (i.e., a class). It allows for data hiding and abstraction, which helps in managing complexity and reducing dependencies between different parts of a program."
      ]
    },
    {
      "cell_type": "code",
      "execution_count": null,
      "id": "24bdf3ee-8708-4bf9-b9b8-cf4f22d31d9e",
      "metadata": {
        "id": "24bdf3ee-8708-4bf9-b9b8-cf4f22d31d9e"
      },
      "outputs": [],
      "source": []
    },
    {
      "cell_type": "markdown",
      "id": "a2e087cb-4ff0-469a-a3d9-3e0bc54d987f",
      "metadata": {
        "id": "a2e087cb-4ff0-469a-a3d9-3e0bc54d987f"
      },
      "source": [
        ">3. Inheritance: Inheritance is a mechanism in which a new class (subclass or derived class) is created from an existing class (superclass or base class). The subclass inherits the attributes and methods of the superclass and can also have its own additional attributes and methods. It promotes code reuse and helps in creating a hierarchy of classes."
      ]
    },
    {
      "cell_type": "code",
      "execution_count": null,
      "id": "0110eba2-6c95-43d8-8bdf-5fc3ab951797",
      "metadata": {
        "id": "0110eba2-6c95-43d8-8bdf-5fc3ab951797"
      },
      "outputs": [],
      "source": []
    },
    {
      "cell_type": "markdown",
      "id": "d6c05a4d-882b-43d7-a1ac-f0c271bb36be",
      "metadata": {
        "id": "d6c05a4d-882b-43d7-a1ac-f0c271bb36be"
      },
      "source": [
        ">4. Polymorphism: Polymorphism allows objects of different classes to be treated as objects of a common superclass. It allows methods to behave differently based on the object they are called on. Polymorphism can be achieved through method overriding and method overloading."
      ]
    },
    {
      "cell_type": "code",
      "execution_count": null,
      "id": "4406ea79-2eda-43d5-ae3c-2cd15726197a",
      "metadata": {
        "id": "4406ea79-2eda-43d5-ae3c-2cd15726197a"
      },
      "outputs": [],
      "source": []
    },
    {
      "cell_type": "code",
      "execution_count": null,
      "id": "b9c48a1d-f6dc-4277-887d-fa967cefd6ec",
      "metadata": {
        "id": "b9c48a1d-f6dc-4277-887d-fa967cefd6ec"
      },
      "outputs": [],
      "source": []
    },
    {
      "cell_type": "markdown",
      "id": "2b2e21c5-e2ed-4a11-aca2-df66f595be85",
      "metadata": {
        "id": "2b2e21c5-e2ed-4a11-aca2-df66f595be85"
      },
      "source": [
        ">5. Abstraction: Abstraction refers to the concept of hiding the complex implementation details and showing only the essential features of the object. It helps in managing complexity and allows for easier understanding and maintenance of the code."
      ]
    },
    {
      "cell_type": "code",
      "execution_count": null,
      "id": "e9969447-e574-4b2c-85c8-133865be6879",
      "metadata": {
        "id": "e9969447-e574-4b2c-85c8-133865be6879"
      },
      "outputs": [],
      "source": []
    },
    {
      "cell_type": "markdown",
      "id": "aef7e39e-295f-4df1-9f81-19a212251444",
      "metadata": {
        "id": "aef7e39e-295f-4df1-9f81-19a212251444"
      },
      "source": [
        "## Exercises"
      ]
    },
    {
      "cell_type": "markdown",
      "id": "738189a7-a750-40e3-8095-f77eb1b0cf92",
      "metadata": {
        "id": "738189a7-a750-40e3-8095-f77eb1b0cf92"
      },
      "source": [
        "### Question 1: Define a class Employee with attributes name and emp_id."
      ]
    },
    {
      "cell_type": "code",
      "execution_count": null,
      "id": "e79efd4e-dfe4-4c91-a248-e2440e7e22b2",
      "metadata": {
        "id": "e79efd4e-dfe4-4c91-a248-e2440e7e22b2"
      },
      "outputs": [],
      "source": []
    },
    {
      "cell_type": "markdown",
      "id": "d6bc6505-2e16-40e3-b90b-516d0e529abb",
      "metadata": {
        "id": "d6bc6505-2e16-40e3-b90b-516d0e529abb"
      },
      "source": [
        "### Question 2: Create an instance of the Employee class with name \"John Doe\" and emp_id 1001."
      ]
    },
    {
      "cell_type": "code",
      "execution_count": null,
      "id": "18d02afa-8bb8-4aa2-82a4-6fe82e01322a",
      "metadata": {
        "id": "18d02afa-8bb8-4aa2-82a4-6fe82e01322a"
      },
      "outputs": [],
      "source": []
    },
    {
      "cell_type": "markdown",
      "id": "30618d98-dd57-481d-8ffc-305692e69fd2",
      "metadata": {
        "id": "30618d98-dd57-481d-8ffc-305692e69fd2"
      },
      "source": [
        "### Question 3: Define a class Department with attributes name and location."
      ]
    },
    {
      "cell_type": "code",
      "execution_count": null,
      "id": "3e308bcc-426f-48bc-ad18-b9a7fc8c685d",
      "metadata": {
        "id": "3e308bcc-426f-48bc-ad18-b9a7fc8c685d"
      },
      "outputs": [],
      "source": []
    },
    {
      "cell_type": "markdown",
      "id": "e83cd2dc-c194-4453-8360-8d85f15a3286",
      "metadata": {
        "id": "e83cd2dc-c194-4453-8360-8d85f15a3286"
      },
      "source": [
        "### Question 4: Create an instance of the Department class with name \"Engineering\" and location \"Building A\"."
      ]
    },
    {
      "cell_type": "code",
      "execution_count": null,
      "id": "4d773af7-06f0-4169-b837-e00d4277cd39",
      "metadata": {
        "id": "4d773af7-06f0-4169-b837-e00d4277cd39"
      },
      "outputs": [],
      "source": []
    },
    {
      "cell_type": "markdown",
      "id": "47d34538-1cf7-4a07-ae99-0d0adc8a3cb4",
      "metadata": {
        "id": "47d34538-1cf7-4a07-ae99-0d0adc8a3cb4"
      },
      "source": [
        "### Question 5: Define a class Manager that inherits from Employee, with an additional attribute 'subordinates' initialized to an empty list.\n"
      ]
    },
    {
      "cell_type": "code",
      "execution_count": null,
      "id": "f635d3a9-afbb-4e42-8033-c102248f0ca5",
      "metadata": {
        "id": "f635d3a9-afbb-4e42-8033-c102248f0ca5"
      },
      "outputs": [],
      "source": []
    },
    {
      "cell_type": "markdown",
      "id": "03856575-3339-41b2-a009-4c3cccecc149",
      "metadata": {
        "id": "03856575-3339-41b2-a009-4c3cccecc149"
      },
      "source": [
        "### Question 6: Create an instance of Manager with name \"Alice Smith\", emp_id 2001, and an empty list of subordinates.\n"
      ]
    },
    {
      "cell_type": "code",
      "execution_count": null,
      "id": "12f94248-ab2f-4851-ace4-9623a137815b",
      "metadata": {
        "id": "12f94248-ab2f-4851-ace4-9623a137815b"
      },
      "outputs": [],
      "source": []
    },
    {
      "cell_type": "markdown",
      "id": "35edf1b5-fae1-41c2-8659-cc23ddb09776",
      "metadata": {
        "id": "35edf1b5-fae1-41c2-8659-cc23ddb09776"
      },
      "source": [
        "### Question 7: Add an employee named \"Bob Johnson\" with emp_id 1002 as a subordinate to Alice Smith.\n"
      ]
    },
    {
      "cell_type": "code",
      "execution_count": null,
      "id": "e39a6963-961a-4613-b120-8cecf86f95ca",
      "metadata": {
        "id": "e39a6963-961a-4613-b120-8cecf86f95ca"
      },
      "outputs": [],
      "source": []
    },
    {
      "cell_type": "markdown",
      "id": "09562d74-41d0-4be1-87cc-877918d14cfa",
      "metadata": {
        "id": "09562d74-41d0-4be1-87cc-877918d14cfa"
      },
      "source": [
        "### Question 8: Define a class Payroll with a method calculate_salary(employee) that returns a base salary of $50000 for all employees."
      ]
    },
    {
      "cell_type": "code",
      "execution_count": null,
      "id": "8216f47a-e3d8-4ee3-968c-037750413595",
      "metadata": {
        "id": "8216f47a-e3d8-4ee3-968c-037750413595"
      },
      "outputs": [],
      "source": []
    },
    {
      "cell_type": "markdown",
      "id": "2af482d8-8abf-4098-b6dd-659673ee30b2",
      "metadata": {
        "id": "2af482d8-8abf-4098-b6dd-659673ee30b2"
      },
      "source": [
        "### Question 9: Extend the Payroll class such that it adds a $10000 bonus for managers."
      ]
    },
    {
      "cell_type": "code",
      "execution_count": null,
      "id": "c0d98cab-c1c6-4e82-8417-e1c0d9106c2b",
      "metadata": {
        "id": "c0d98cab-c1c6-4e82-8417-e1c0d9106c2b"
      },
      "outputs": [],
      "source": []
    },
    {
      "cell_type": "markdown",
      "id": "2f1106de-023d-4773-8140-9055c8142997",
      "metadata": {
        "id": "2f1106de-023d-4773-8140-9055c8142997"
      },
      "source": [
        "### Question 10: Create an instance of Payroll and use it to calculate the salary of Alice Smith."
      ]
    },
    {
      "cell_type": "code",
      "execution_count": null,
      "id": "a5765021-da3d-451b-9b98-3d4928e47f50",
      "metadata": {
        "id": "a5765021-da3d-451b-9b98-3d4928e47f50"
      },
      "outputs": [],
      "source": []
    },
    {
      "cell_type": "markdown",
      "id": "f7bb977b-e3a2-4ef0-9d51-e048e90cc55a",
      "metadata": {
        "id": "f7bb977b-e3a2-4ef0-9d51-e048e90cc55a"
      },
      "source": [
        "## Business Case"
      ]
    },
    {
      "cell_type": "markdown",
      "id": "0bb09ddc-1989-4cd8-94eb-43fd9c51cde7",
      "metadata": {
        "id": "0bb09ddc-1989-4cd8-94eb-43fd9c51cde7"
      },
      "source": [
        "You are tasked with designing a system for managing a company's inventory. Implement a class Product to represent individual products in the inventory. Each product should have the following attributes:\n",
        "\n",
        "- name: Name of the product\n",
        "\n",
        "- price: Price of the product\n",
        "\n",
        "- quantity: Quantity of the product in stock\n",
        "\n",
        "Additionally, implement a class Inventory to manage the collection of products. The Inventory class should have the following methods:\n",
        "\n",
        "- add_product(product): Add a product to the inventory.\n",
        "- remove_product(product): Remove a product from the inventory.\n",
        "- total_value(): Calculate and return the total value of the inventory (sum of price * quantity for all products).\n",
        "- reorder_products(threshold): Return a list of products that need to be reordered, i.e., products whose quantity is below the given threshold.\n",
        "\n",
        "Write the implementation for the Product and Inventory classes, along with a demonstration of their usage."
      ]
    },
    {
      "cell_type": "code",
      "execution_count": null,
      "id": "6b3470c3-454a-4891-ad55-6a20278c4ced",
      "metadata": {
        "id": "6b3470c3-454a-4891-ad55-6a20278c4ced"
      },
      "outputs": [],
      "source": []
    }
  ],
  "metadata": {
    "kernelspec": {
      "display_name": "Python 3 (ipykernel)",
      "language": "python",
      "name": "python3"
    },
    "language_info": {
      "codemirror_mode": {
        "name": "ipython",
        "version": 3
      },
      "file_extension": ".py",
      "mimetype": "text/x-python",
      "name": "python",
      "nbconvert_exporter": "python",
      "pygments_lexer": "ipython3",
      "version": "3.8.16"
    },
    "colab": {
      "provenance": [],
      "include_colab_link": true
    }
  },
  "nbformat": 4,
  "nbformat_minor": 5
}