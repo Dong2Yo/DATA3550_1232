{
  "nbformat": 4,
  "nbformat_minor": 0,
  "metadata": {
    "colab": {
      "provenance": [],
      "collapsed_sections": [
        "cgcQstz7V1qU",
        "8qVhXvEQWEJd",
        "-0PPKY4TWfY4",
        "NJ9Kgk1cXM-6"
      ],
      "include_colab_link": true
    },
    "kernelspec": {
      "display_name": "Python 3 (ipykernel)",
      "language": "python",
      "name": "python3"
    },
    "language_info": {
      "codemirror_mode": {
        "name": "ipython",
        "version": 3
      },
      "file_extension": ".py",
      "mimetype": "text/x-python",
      "name": "python",
      "nbconvert_exporter": "python",
      "pygments_lexer": "ipython3",
      "version": "3.8.11"
    }
  },
  "cells": [
    {
      "cell_type": "markdown",
      "metadata": {
        "id": "view-in-github",
        "colab_type": "text"
      },
      "source": [
        "<a href=\"https://colab.research.google.com/github/Dong2Yo/DATA3550_1232/blob/main/Lectures/Chp5_st.ipynb\" target=\"_parent\"><img src=\"https://colab.research.google.com/assets/colab-badge.svg\" alt=\"Open In Colab\"/></a>"
      ]
    },
    {
      "cell_type": "markdown",
      "metadata": {
        "id": "bfC2r0FVCFkK"
      },
      "source": [
        "# **Chapter 5**   Functions"
      ]
    },
    {
      "cell_type": "markdown",
      "metadata": {
        "id": "9nhnwSRSDweJ"
      },
      "source": [
        "* To be able to implement functions\n",
        "* To become familiar with the concept of parameter passing\n",
        "* To develop strategies for decomposing complex tasks into simpler ones\n",
        "* To be able to determine the scope of a variable\n",
        "* To learn how to think recursively (optional)"
      ]
    },
    {
      "cell_type": "markdown",
      "metadata": {
        "id": "diClMovMkT-e"
      },
      "source": [
        "# **5.0 Why Functions?**"
      ]
    },
    {
      "cell_type": "markdown",
      "metadata": {
        "id": "sKbNDbU9kbI2"
      },
      "source": [
        "So far in this course, we have been using built-in functions that comes with Python. In this lesson we will learn how we can create our own functions. But before we do that, let's spend some time learning why we even need them in the first place."
      ]
    },
    {
      "cell_type": "code",
      "source": [
        "sum = 0\n",
        "start = 10\n",
        "end = 30\n",
        "\n",
        "for i in range (start, end+1):\n",
        "  sum +=i\n",
        "\n",
        "print(\"The total is\", sum)"
      ],
      "metadata": {
        "id": "xibINmU4AdkH",
        "colab": {
          "base_uri": "https://localhost:8080/"
        },
        "outputId": "bc43e974-829d-4556-eead-a1447f040e53"
      },
      "execution_count": 1,
      "outputs": [
        {
          "output_type": "stream",
          "name": "stdout",
          "text": [
            "The total is 420\n"
          ]
        }
      ]
    },
    {
      "cell_type": "code",
      "source": [
        "sum = 0\n",
        "start = 100\n",
        "end = 300\n",
        "\n",
        "for i in range (start, end+1):\n",
        "  sum +=i\n",
        "\n",
        "print(\"The total is\", sum)"
      ],
      "metadata": {
        "id": "vqcipvA7BCra",
        "colab": {
          "base_uri": "https://localhost:8080/"
        },
        "outputId": "4c5d3c9f-bf88-491c-a018-ada8e246d5f3"
      },
      "execution_count": 2,
      "outputs": [
        {
          "output_type": "stream",
          "name": "stdout",
          "text": [
            "The total is 40200\n"
          ]
        }
      ]
    },
    {
      "cell_type": "code",
      "source": [
        "def sum_range(start, end):\n",
        "  sum = 0\n",
        "  for i in range (start, end+1):\n",
        "    sum +=i\n",
        "  print(\"The total is\", sum)\n",
        "\n",
        "sum_range(100, 300)"
      ],
      "metadata": {
        "id": "HaKqG4f8BSdT",
        "colab": {
          "base_uri": "https://localhost:8080/"
        },
        "outputId": "f3a2ed1a-b12f-423b-8d95-a424263c50ec"
      },
      "execution_count": 3,
      "outputs": [
        {
          "output_type": "stream",
          "name": "stdout",
          "text": [
            "The total is 40200\n"
          ]
        }
      ]
    },
    {
      "cell_type": "markdown",
      "metadata": {
        "id": "7bZcqqaZwZx1"
      },
      "source": [
        "# **5.1 Functions as Black Boxes**"
      ]
    },
    {
      "cell_type": "markdown",
      "metadata": {
        "id": "6SjwjU2PFFe2"
      },
      "source": [
        "A **function** is a sequence of instructions with a name.\n",
        "\n",
        "A function is an organized reusable piece of code solving a specific task. Functions help us to keep our code clean and provide us with the power of code reusability.\n",
        "\n",
        "We have already met several functions, such as\n",
        "\n",
        "    the sqrt() function and the built-in print() function"
      ]
    },
    {
      "cell_type": "markdown",
      "metadata": {
        "id": "IBC-1qu3GqlZ"
      },
      "source": [
        "You **call a function** in order to execute its instructions.\n",
        "\n",
        "**Arguments** are supplied when a function is called.\n",
        "\n",
        "The **return value** is the result that the function computes."
      ]
    },
    {
      "cell_type": "markdown",
      "metadata": {
        "id": "alrl60ePPEtr"
      },
      "source": [
        "## **5.1.1 Built-In Functions**"
      ]
    },
    {
      "cell_type": "code",
      "source": [
        "print(\"Hello, World!\")"
      ],
      "metadata": {
        "id": "PDQklzEjxsP4",
        "colab": {
          "base_uri": "https://localhost:8080/"
        },
        "outputId": "eabfa66b-30f2-4098-c27d-cd04bf1896ea"
      },
      "execution_count": 4,
      "outputs": [
        {
          "output_type": "stream",
          "name": "stdout",
          "text": [
            "Hello, World!\n"
          ]
        }
      ]
    },
    {
      "cell_type": "code",
      "source": [
        "max(14, 99)"
      ],
      "metadata": {
        "id": "D-Isgt84x2HW",
        "colab": {
          "base_uri": "https://localhost:8080/"
        },
        "outputId": "df61f518-02f4-4fd5-d061-8fecdff2267f"
      },
      "execution_count": 5,
      "outputs": [
        {
          "output_type": "execute_result",
          "data": {
            "text/plain": [
              "99"
            ]
          },
          "metadata": {},
          "execution_count": 5
        }
      ]
    },
    {
      "cell_type": "code",
      "source": [
        "type(22)"
      ],
      "metadata": {
        "id": "nkcQbC3bx7tS",
        "colab": {
          "base_uri": "https://localhost:8080/"
        },
        "outputId": "029370dc-1b45-4bbc-de80-66489647b2b1"
      },
      "execution_count": 6,
      "outputs": [
        {
          "output_type": "execute_result",
          "data": {
            "text/plain": [
              "int"
            ]
          },
          "metadata": {},
          "execution_count": 6
        }
      ]
    },
    {
      "cell_type": "code",
      "metadata": {
        "id": "UR_4oRNoIHn1",
        "colab": {
          "base_uri": "https://localhost:8080/"
        },
        "outputId": "c25ef590-7d4d-44dc-fb44-1bcace7ade0d"
      },
      "source": [
        "price = round(6.8275, 2)\n",
        "price\n"
      ],
      "execution_count": 7,
      "outputs": [
        {
          "output_type": "execute_result",
          "data": {
            "text/plain": [
              "6.83"
            ]
          },
          "metadata": {},
          "execution_count": 7
        }
      ]
    },
    {
      "cell_type": "markdown",
      "source": [
        "https://docs.python.org/3/library/functions.html"
      ],
      "metadata": {
        "id": "2oe6moygFIdr"
      }
    },
    {
      "cell_type": "markdown",
      "metadata": {
        "id": "PIEi-V62H_LO"
      },
      "source": [
        "![round.jpg](data:image/jpeg;base64,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)"
      ]
    },
    {
      "cell_type": "code",
      "source": [],
      "metadata": {
        "id": "MAjyCXas0yyM"
      },
      "execution_count": 7,
      "outputs": []
    },
    {
      "cell_type": "markdown",
      "metadata": {
        "id": "o94NmDu1QFAL"
      },
      "source": [
        "## **5.1.2 The Third Party Functions**"
      ]
    },
    {
      "cell_type": "markdown",
      "metadata": {
        "id": "_bSDkDcdQJ7P"
      },
      "source": [
        "If the built-in functions don’t cover what we need, we either need to import functions or create our own.\n",
        "\n",
        "We need to import and use the functions.\n",
        "\n"
      ]
    },
    {
      "cell_type": "code",
      "source": [
        "import random\n",
        "random.randint(10, 300)"
      ],
      "metadata": {
        "id": "_QfbSOdx1xCF",
        "colab": {
          "base_uri": "https://localhost:8080/"
        },
        "outputId": "29ac44a9-c9dc-4cca-999f-5ab5d96b28f7"
      },
      "execution_count": 8,
      "outputs": [
        {
          "output_type": "execute_result",
          "data": {
            "text/plain": [
              "49"
            ]
          },
          "metadata": {},
          "execution_count": 8
        }
      ]
    },
    {
      "cell_type": "markdown",
      "metadata": {
        "id": "iSi6rXDhRvrH"
      },
      "source": [
        "**Why So Many Imports?**\n",
        "Python programs typically require several import statements.\n",
        "\n",
        "The reason is that the core language is deliberately kept small, so that it’s easy to learn and maintain.\n",
        "\n",
        "When you want to do something interesting with Python, you almost always need to import additional functionality.\n",
        "\n",
        "**Packages**\n",
        "As stated above, NumPy is a Python package.\n",
        "\n",
        "Packages are used by developers to organize code they wish to share.\n",
        "\n",
        "In fact, a package is just a directory containing\n",
        "\n",
        "*   files with Python code — called modules in Python speak\n",
        "*   possibly some compiled code that can be accessed by Python (e.g., functions compiled from C or FORTRAN code)\n",
        "*   a file called __init__.py that specifies what will be executed when we type import package_name\n",
        "\n"
      ]
    },
    {
      "cell_type": "code",
      "source": [
        "import calendar\n",
        "calendar.isleap(3000)"
      ],
      "metadata": {
        "id": "ejN4mOyh2KD6",
        "colab": {
          "base_uri": "https://localhost:8080/"
        },
        "outputId": "a801bd8e-00e9-49a8-9743-88da18c01d7a"
      },
      "execution_count": 9,
      "outputs": [
        {
          "output_type": "execute_result",
          "data": {
            "text/plain": [
              "False"
            ]
          },
          "metadata": {},
          "execution_count": 9
        }
      ]
    },
    {
      "cell_type": "code",
      "source": [
        "import numpy as np\n",
        "import matplotlib.pyplot as plt\n",
        "\n",
        "plt.rcParams['figure.figsize'] = (10, 8)\n",
        "value = np.random.randn(100)\n",
        "\n",
        "plt.plot(value)\n",
        "plt.show()"
      ],
      "metadata": {
        "id": "xEsHRc7l2hjN",
        "colab": {
          "base_uri": "https://localhost:8080/",
          "height": 676
        },
        "outputId": "9e640362-a785-489a-8b76-53673428137b"
      },
      "execution_count": 10,
      "outputs": [
        {
          "output_type": "display_data",
          "data": {
            "text/plain": [
              "<Figure size 1000x800 with 1 Axes>"
            ],
            "image/png": "[encoded data removed]"
          },
          "metadata": {}
        }
      ]
    },
    {
      "cell_type": "code",
      "source": [],
      "metadata": {
        "id": "EHjz3NS13_5o"
      },
      "execution_count": 10,
      "outputs": []
    },
    {
      "cell_type": "markdown",
      "metadata": {
        "id": "uts5ZOhZ0biV"
      },
      "source": [
        "# **5.2  Implementing and Testing Functions**\n"
      ]
    },
    {
      "cell_type": "markdown",
      "metadata": {
        "id": "DXLtWzk8l4QW"
      },
      "source": [
        "## **5.2.1  Implementing a Function - User-defined Functions**\n"
      ]
    },
    {
      "cell_type": "markdown",
      "metadata": {
        "id": "lf4bJxCek6FC"
      },
      "source": [
        "A function is named group of statements, which perform a specific task. The syntax of defining a function is as follows:\n",
        "\n",
        "    def function_name(arg1, arg2, arg3 ... argN):\n",
        "       # function body\n",
        "       <indented statement 1>\n",
        "       <non-indented statement 2>\n",
        "    ...\n",
        "       <indented statement n>\n",
        "       <return statement>\n",
        "\n",
        "A function consists of two parts: **header and body**.\n",
        "\n",
        "The function header starts with the def keyword, followed by name of the function, followed by arguments and ends with a colon (:).\n",
        "\n",
        "\n",
        "**function_name** can be be any valid identifier.\n",
        "\n",
        "After the function name we have a list of **arguments** inside parentheses separated by comma (,). We use these arguments to pass necessary data to the function.\n",
        "\n",
        "In the next line, we have a block of statements or **function body**.\n",
        "\n",
        "The function body contains statements which defines what the function does.\n",
        "\n",
        "As usual, Python uses indentation of statements to determine when block starts and ends.\n",
        "\n",
        "***All the statements in the body of the function function must be equally indented otherwise you will get a syntax error***.\n",
        "\n",
        "Pay special attention to the last statement in the function body i.e <return statement>.\n",
        "\n",
        "The **return statement** is used to return a value from the function.\n",
        "\n",
        "The return statement is not mandatory, some function return values while other don't.\n"
      ]
    },
    {
      "cell_type": "code",
      "metadata": {
        "id": "S6YFxjtvl3V1",
        "colab": {
          "base_uri": "https://localhost:8080/"
        },
        "outputId": "43e01740-3818-4159-bc81-17f1d4e0d747"
      },
      "source": [
        "def dong_greeting(greeting = \"Hello\", name = \"You\"):\n",
        "  return \"{}, {}.\".format(greeting, name)\n",
        "\n",
        "\n",
        "print(dong_greeting(\"Good evening\", \"Mary\"))"
      ],
      "execution_count": 11,
      "outputs": [
        {
          "output_type": "stream",
          "name": "stdout",
          "text": [
            "Good evening, Mary.\n"
          ]
        }
      ]
    },
    {
      "cell_type": "code",
      "source": [],
      "metadata": {
        "id": "zYD7s6L_5z8f"
      },
      "execution_count": 11,
      "outputs": []
    },
    {
      "cell_type": "markdown",
      "metadata": {
        "id": "Y57flGXzmcIA"
      },
      "source": [
        "When a function is called, the program control jumps to that function definition and executes the statements inside the function body.\n",
        "\n",
        "After executing the body of the function, the program control jumps back to the part of the program which called the function, and resumes execution at that point.\n",
        "\n"
      ]
    },
    {
      "cell_type": "markdown",
      "metadata": {
        "id": "YZ4etaqRl4QW"
      },
      "source": [
        "**Ex.** Let us implement a function to compute the volume of a cube with a given side length.\n",
        "\n",
        "When writing this function, you need to\n",
        "\n",
        "\t\t\t• Pick a name for the function (cubeVolume).\n",
        "\t\t\t• Define a variable for each argument (sideLength). These variables are called the parameter variables."
      ]
    },
    {
      "cell_type": "code",
      "metadata": {
        "id": "C1KpxYwpl4QW",
        "colab": {
          "base_uri": "https://localhost:8080/"
        },
        "outputId": "0adef890-fe89-484d-a45a-764a11e1f63a"
      },
      "source": [
        "def cubeVolume(sideLength):\n",
        "  vol = sideLength ** 3\n",
        "  return vol\n",
        "\n",
        "cubeVolume(12)"
      ],
      "execution_count": 12,
      "outputs": [
        {
          "output_type": "execute_result",
          "data": {
            "text/plain": [
              "1728"
            ]
          },
          "metadata": {},
          "execution_count": 12
        }
      ]
    },
    {
      "cell_type": "markdown",
      "metadata": {
        "id": "bWbFhw4Nl4QW"
      },
      "source": [
        "## **5.2.2  Testing a Function**\n"
      ]
    },
    {
      "cell_type": "markdown",
      "metadata": {
        "id": "xRBGBHgWl4QW"
      },
      "source": [
        "In order to test the function, your program should contain\n",
        "\n",
        "            •The definition of the function.\n",
        "\t\t\t•Statements that call the function and print the result."
      ]
    },
    {
      "cell_type": "markdown",
      "metadata": {
        "id": "4ex9oWddl4QW"
      },
      "source": [
        "The function returns different results when it is called with different arguments."
      ]
    },
    {
      "cell_type": "markdown",
      "metadata": {
        "id": "z-8nXFEpl4QX"
      },
      "source": [
        "![func syntax.jpg](data:image/jpeg;base64,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)"
      ]
    },
    {
      "cell_type": "markdown",
      "metadata": {
        "id": "ueJbX_PRl4QX"
      },
      "source": [
        "## **5.2.3  Programs that Contain Functions**\n"
      ]
    },
    {
      "cell_type": "markdown",
      "metadata": {
        "id": "yhsfJm4vPxP-",
        "outputId": "e6629c8e-8af4-44a1-a0b3-260a92ef15b7"
      },
      "source": [
        "When you write a program that contains one or more functions, you need to pay attention to the **order** of the function definitions and statements in the program.\n",
        "\n"
      ]
    },
    {
      "cell_type": "markdown",
      "metadata": {
        "id": "g2xVp3E8l4QX"
      },
      "source": [
        "It is important that **you define each function before you call it**."
      ]
    },
    {
      "cell_type": "code",
      "metadata": {
        "id": "7eiKxEKdP9iD",
        "colab": {
          "base_uri": "https://localhost:8080/"
        },
        "outputId": "74664d54-a216-4922-e2b2-ac4cbe24c0c1"
      },
      "source": [
        "\n",
        "\n",
        "def squarePara(sideLength) :\n",
        "   para = sideLength * 4\n",
        "   return para\n",
        "\n",
        "print(squarePara(10))\n"
      ],
      "execution_count": 13,
      "outputs": [
        {
          "output_type": "stream",
          "name": "stdout",
          "text": [
            "40\n"
          ]
        }
      ]
    },
    {
      "cell_type": "markdown",
      "metadata": {
        "id": "peQc-cJGQM5t"
      },
      "source": [
        "However, **a function can be called from within another function before the former has been defined**."
      ]
    },
    {
      "cell_type": "markdown",
      "metadata": {
        "id": "axm4jY45l4QY"
      },
      "source": [
        "![function within.jpg](data:image/jpeg;base64,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)"
      ]
    },
    {
      "cell_type": "code",
      "metadata": {
        "id": "kw3l94jvl4QY",
        "colab": {
          "base_uri": "https://localhost:8080/"
        },
        "outputId": "e611265d-8c07-4f6d-d7d3-3ab9067dcca4"
      },
      "source": [
        "# update the previous program\n",
        "\n",
        "def main() :\n",
        "    a = squarePara(10)\n",
        "    print(\"A square with side length 10 has a parameter of\", a)\n",
        "\n",
        "def squarePara(sideLength) :\n",
        "   para = sideLength * 4\n",
        "   return para\n",
        "\n",
        "main()"
      ],
      "execution_count": 14,
      "outputs": [
        {
          "output_type": "stream",
          "name": "stdout",
          "text": [
            "A square with side length 10 has a parameter of 40\n"
          ]
        }
      ]
    },
    {
      "cell_type": "markdown",
      "metadata": {
        "id": "xTUQKibDSK_1",
        "outputId": "adbcd567-631d-4150-e527-3c2e4f4b6357"
      },
      "source": [
        "When defining and using functions in Python, it is **good programming practice to place all statements into functions**, and to **specify one function as the starting point**.\n",
        "\n",
        "In the previous example, the main function is the point at which execution begins.\n",
        "\n",
        "Any legal name can be used for the starting point, but we chose main because it is the required function name used by other common languages.\n",
        "\n",
        "Of course, we must have one statement in the program that calls the main function. That statement is the last line of the program, main()."
      ]
    },
    {
      "cell_type": "code",
      "metadata": {
        "id": "_1U1qRPkSN_p",
        "colab": {
          "base_uri": "https://localhost:8080/"
        },
        "outputId": "82a10138-be01-4bc4-ce3e-3829f3fd809c"
      },
      "source": [
        "##\n",
        "#  This program computes the volumes of two cubes.\n",
        "def main():\n",
        "  sum = cubeVolume(2) + cubeVolume(9)\n",
        "  return sum\n",
        "\n",
        "def cubeVolume(sideLength):\n",
        "  vol = sideLength ** 3\n",
        "  return vol\n",
        "\n",
        "main()"
      ],
      "execution_count": 15,
      "outputs": [
        {
          "output_type": "execute_result",
          "data": {
            "text/plain": [
              "737"
            ]
          },
          "metadata": {},
          "execution_count": 15
        }
      ]
    },
    {
      "cell_type": "markdown",
      "metadata": {
        "id": "msfpG4Y8l4QY"
      },
      "source": [
        "**EX.** Write a function to compute the area of a circle with the radius given as the argument."
      ]
    },
    {
      "cell_type": "code",
      "metadata": {
        "id": "JehUTzYql4QY"
      },
      "source": [
        "\n"
      ],
      "execution_count": 15,
      "outputs": []
    },
    {
      "cell_type": "markdown",
      "metadata": {
        "id": "QHZoohyW1Z7H"
      },
      "source": [
        "# **5.3 Parameter Passing**\n",
        "\n"
      ]
    },
    {
      "cell_type": "markdown",
      "metadata": {
        "id": "1DIequLHmqt_"
      },
      "source": [
        "When a function is called, **variables** are created for receiving the function’s arguments.\n",
        "\n",
        "These variables are called **parameter variables**. (Another commonly used term is formal parameters.)\n",
        "\n",
        "The values that are supplied to the function when it is called are the arguments of the call.\n",
        "\n",
        "(These values are also commonly called the **actual parameters**.)\n",
        "\n",
        "Each parameter variable is initialized with the corresponding argument."
      ]
    },
    {
      "cell_type": "markdown",
      "metadata": {
        "id": "FfxuueF6nFA6"
      },
      "source": [
        "A recipe for a fruit pie may say to use any kind of fruit.\n",
        "\n",
        "Here, “fruit” is an example of a parameter variable. Apples and cherries are examples of arguments."
      ]
    },
    {
      "cell_type": "code",
      "metadata": {
        "id": "uQ1eToVXl4QZ",
        "colab": {
          "base_uri": "https://localhost:8080/"
        },
        "outputId": "78c1f4cb-613f-495d-bd61-027a673e6c41"
      },
      "source": [
        "\n",
        "def cubeVolume(sideLength) :\n",
        "\tvolume = sideLength ** 3\n",
        "\treturn volume\n",
        "\n",
        "\n",
        "cubeVolume(2)"
      ],
      "execution_count": 16,
      "outputs": [
        {
          "output_type": "execute_result",
          "data": {
            "text/plain": [
              "8"
            ]
          },
          "metadata": {},
          "execution_count": 16
        }
      ]
    },
    {
      "cell_type": "markdown",
      "metadata": {
        "id": "hidy_bqzl4QZ"
      },
      "source": [
        "![volumn func.jpg](data:image/jpeg;base64,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)"
      ]
    },
    {
      "cell_type": "markdown",
      "metadata": {
        "id": "BfhU8I9Ll4Qa"
      },
      "source": [
        "**Self-Check:** What output is generated by the program below?"
      ]
    },
    {
      "cell_type": "code",
      "metadata": {
        "id": "3X3ZZ1acl4Qa",
        "colab": {
          "base_uri": "https://localhost:8080/"
        },
        "outputId": "2b201fb7-4cbe-4ca0-9174-17cea05ec1a9"
      },
      "source": [
        "def main() :\n",
        "   x = 3\n",
        "   print(computeResult(x + 1))\n",
        "\n",
        "def computeResult(value) :\n",
        "   result = value ** 2\n",
        "   result = result + 3\n",
        "   return result\n",
        "\n",
        "main()"
      ],
      "execution_count": 17,
      "outputs": [
        {
          "output_type": "stream",
          "name": "stdout",
          "text": [
            "19\n"
          ]
        }
      ]
    },
    {
      "cell_type": "code",
      "metadata": {
        "id": "dajh9F-ql4Qa",
        "colab": {
          "base_uri": "https://localhost:8080/"
        },
        "outputId": "652dd2f2-f226-4ff1-a5e9-c97cd8b87c25"
      },
      "source": [
        "def totalCents(dollars, cents) :\n",
        "\tcents = dollars * 100 + cents   # Modifies parameter variable.\n",
        "\treturn cents\n",
        "print(totalCents(2,10))"
      ],
      "execution_count": 18,
      "outputs": [
        {
          "output_type": "stream",
          "name": "stdout",
          "text": [
            "210\n"
          ]
        }
      ]
    },
    {
      "cell_type": "code",
      "metadata": {
        "id": "dtKcZL7Cl4Qa",
        "colab": {
          "base_uri": "https://localhost:8080/"
        },
        "outputId": "f88a08f1-fc5b-45c1-eafc-49c26066b744"
      },
      "source": [
        "def totalCents(dollars, cents) :\n",
        "\tresult = dollars * 100 + cents\n",
        "\treturn result\n",
        "print(totalCents(2,10))"
      ],
      "execution_count": 19,
      "outputs": [
        {
          "output_type": "stream",
          "name": "stdout",
          "text": [
            "210\n"
          ]
        }
      ]
    },
    {
      "cell_type": "code",
      "metadata": {
        "id": "UPPj3pOpl4Qa",
        "colab": {
          "base_uri": "https://localhost:8080/"
        },
        "outputId": "bce2bffd-70bb-4074-9937-f429ebd90aa2"
      },
      "source": [
        "def addTax(price, rate) :\n",
        "\ttax = price * rate / 100\n",
        "\tprice = price + tax\n",
        "\treturn tax\n",
        "\n",
        "total = 100\n",
        "print(addTax(total, 5))"
      ],
      "execution_count": 20,
      "outputs": [
        {
          "output_type": "stream",
          "name": "stdout",
          "text": [
            "5.0\n"
          ]
        }
      ]
    },
    {
      "cell_type": "markdown",
      "metadata": {
        "id": "cD_64QoQ3QIg"
      },
      "source": [
        "# **5.4 Return Values**"
      ]
    },
    {
      "cell_type": "markdown",
      "metadata": {
        "id": "J2bwTZ-cIja4"
      },
      "source": [
        "You use the **return statement** to specify the result of a function.\n",
        "\n",
        "The return statement terminates a function call and yields the function result."
      ]
    },
    {
      "cell_type": "markdown",
      "metadata": {
        "id": "0XlwDnkQIk_P",
        "outputId": "5767290c-f77b-4de8-8569-9df54708c8cd"
      },
      "source": [
        "In the preceding examples, each return statement returned a variable.\n",
        "\n",
        "However, the return statement can return the value of any expression.\n",
        "\n",
        "Instead of saving the return value in a variable and returning the variable, it is often possible to eliminate the variable and return the value of a more complex expression."
      ]
    },
    {
      "cell_type": "code",
      "metadata": {
        "id": "SXPJLjospTmO",
        "colab": {
          "base_uri": "https://localhost:8080/"
        },
        "outputId": "a476ab79-5305-4e53-8af0-f4987b4ba7b3"
      },
      "source": [
        "def cubeVolume(sideLength) :\n",
        "\tif sideLength >= 0 :\n",
        "\t  volume = sideLength ** 3\n",
        "\telse :\n",
        "\t  volume = 0\n",
        "\treturn volume\n",
        "\n",
        "sideLength = float(input(\"Enter the side length of the cube: \"))\n",
        "print(cubeVolume(sideLength))"
      ],
      "execution_count": 21,
      "outputs": [
        {
          "output_type": "stream",
          "name": "stdout",
          "text": [
            "Enter the side length of the cube: 5\n",
            "125.0\n"
          ]
        }
      ]
    },
    {
      "cell_type": "markdown",
      "source": [
        "**EX.** Write a function to describe the earthquake scale."
      ],
      "metadata": {
        "id": "Ub87SJeNAYmI"
      }
    },
    {
      "cell_type": "code",
      "metadata": {
        "id": "Q3-IRxVkl4Qb",
        "colab": {
          "base_uri": "https://localhost:8080/"
        },
        "outputId": "e9c1f749-86a1-4543-acb4-f5bab0da7e92"
      },
      "source": [
        "richter = float(input('Richter Scale '))\n",
        "if richter >= 8.0 :\n",
        " print(\"Most structures fall\")\n",
        "elif richter >= 7.0 :\n",
        " print(\"Many buildings destroyed\")\n",
        "elif richter >= 6.0 :\n",
        " print(\"Many buildings considerably damaged, some collapse\")\n",
        "elif richter >= 4.5 :\n",
        " print(\"Damage to poorly constructed buildings\")\n",
        "else :\n",
        " print(\"No destruction of buildings\")"
      ],
      "execution_count": 22,
      "outputs": [
        {
          "output_type": "stream",
          "name": "stdout",
          "text": [
            "Richter Scale 6\n",
            "Many buildings considerably damaged, some collapse\n"
          ]
        }
      ]
    },
    {
      "cell_type": "code",
      "source": [],
      "metadata": {
        "id": "NYwJzdHIAXeI"
      },
      "execution_count": 22,
      "outputs": []
    },
    {
      "cell_type": "markdown",
      "metadata": {
        "id": "T6EcUGHkl4Qb"
      },
      "source": [
        "**Self-check:** What output is generated by the program below?"
      ]
    },
    {
      "cell_type": "code",
      "metadata": {
        "id": "mQ1M8eZkl4Qb",
        "colab": {
          "base_uri": "https://localhost:8080/"
        },
        "outputId": "5e2a4427-2af4-4b30-92e5-9be20fb7ac38"
      },
      "source": [
        "def add_two_numbers ():\n",
        "    num_one = 2\n",
        "    num_two = 3\n",
        "    total = num_one + num_two\n",
        "    return total\n",
        "print(add_two_numbers())"
      ],
      "execution_count": 23,
      "outputs": [
        {
          "output_type": "stream",
          "name": "stdout",
          "text": [
            "5\n"
          ]
        }
      ]
    },
    {
      "cell_type": "code",
      "metadata": {
        "id": "rY1AaTp6l4Qb",
        "colab": {
          "base_uri": "https://localhost:8080/"
        },
        "outputId": "69dda8bd-2b82-4559-cbfc-63a1444f3ff8"
      },
      "source": [
        "def add_ten(num):\n",
        "    ten = 10\n",
        "    return num + ten\n",
        "\n",
        "print(add_ten(90))"
      ],
      "execution_count": 24,
      "outputs": [
        {
          "output_type": "stream",
          "name": "stdout",
          "text": [
            "100\n"
          ]
        }
      ]
    },
    {
      "cell_type": "code",
      "metadata": {
        "id": "QS4hCXPdl4Qb",
        "colab": {
          "base_uri": "https://localhost:8080/"
        },
        "outputId": "613420d4-fd5d-4502-d67d-2cec7cca4644"
      },
      "source": [
        "def square_number(x):\n",
        "    return x * x\n",
        "\n",
        "print(square_number(2))\n"
      ],
      "execution_count": 25,
      "outputs": [
        {
          "output_type": "stream",
          "name": "stdout",
          "text": [
            "4\n"
          ]
        }
      ]
    },
    {
      "cell_type": "code",
      "metadata": {
        "id": "ZGAJbGaMl4Qc",
        "colab": {
          "base_uri": "https://localhost:8080/"
        },
        "outputId": "9b3132b4-756c-482d-e880-19f1a1627849"
      },
      "source": [
        "def generate_full_name (first_name, last_name):\n",
        "    space = ' '\n",
        "    full_name = first_name + space + last_name\n",
        "    return full_name\n",
        "print('Full Name: ', generate_full_name('John','Smith'))"
      ],
      "execution_count": 26,
      "outputs": [
        {
          "output_type": "stream",
          "name": "stdout",
          "text": [
            "Full Name:  John Smith\n"
          ]
        }
      ]
    },
    {
      "cell_type": "code",
      "metadata": {
        "id": "lCPmRN6DrKw4",
        "colab": {
          "base_uri": "https://localhost:8080/"
        },
        "outputId": "ed9680fa-3a6a-4e07-dabf-8b1eadfd2c7a"
      },
      "source": [
        "def main() :\n",
        "   print(computeResult(4))\n",
        "\n",
        "def computeResult(value) :\n",
        "   if value != 0 :\n",
        "      return 10 // value\n",
        "   return value + 1\n",
        "\n",
        "main()"
      ],
      "execution_count": 27,
      "outputs": [
        {
          "output_type": "stream",
          "name": "stdout",
          "text": [
            "2\n"
          ]
        }
      ]
    },
    {
      "cell_type": "markdown",
      "metadata": {
        "id": "pEJaSAgxUV0U"
      },
      "source": [
        "# **Exercises**"
      ]
    },
    {
      "cell_type": "markdown",
      "metadata": {
        "id": "MhF9EJqmpmDA"
      },
      "source": [
        "**Exercise 1**\n",
        "\n",
        "A farmer is asking you to tell him how many legs can be counted among all his animals. The farmer breeds three species:\n",
        "\n",
        "    chickens = 2 legs\n",
        "    cows = 4 legs\n",
        "    pigs = 4 legs\n",
        "\n",
        "The farmer has counted his animals and he gives you a subtotal for each species. You have to implement a function that returns the total number of legs of all the animals.\n",
        "\n",
        "Examples\n",
        "    animals(2, 3, 5) ➞ 36\n",
        "\n",
        "    animals(1, 2, 3) ➞ 22\n",
        "\n",
        "    animals(5, 2, 8) ➞ 50\n",
        "\n",
        "*Notes*\n",
        "\n",
        "Don't forget to return the result.\n",
        "\n",
        "The order of animals passed is animals(chickens, cows, pigs).\n",
        "\n",
        "Remember that the farmer wants to know the total number of legs and not the total number of animals.\n"
      ]
    },
    {
      "cell_type": "code",
      "metadata": {
        "id": "ZiGFe0rVp7ys"
      },
      "source": [],
      "execution_count": 27,
      "outputs": []
    },
    {
      "cell_type": "markdown",
      "metadata": {
        "id": "mYFOeEaEUbsX"
      },
      "source": [
        "**Exercise 2**\n",
        "\n",
        "Recall that n! is read as “factorial” and defined as n! = n * (n - 1) * ... * 2 * 1\n",
        "\n",
        "e.g. 4! is shorthand for 4 × 3 × 2 × 1\n",
        "\n",
        "There are functions to compute this in various modules, but let’s write our own version as an exercise.\n",
        "\n",
        "In particular, write a function factorial such that factorial(n) returns  for any positive integer .\n"
      ]
    },
    {
      "cell_type": "code",
      "metadata": {
        "id": "kS8AH1NJVfEV"
      },
      "source": [],
      "execution_count": 27,
      "outputs": []
    },
    {
      "cell_type": "markdown",
      "metadata": {
        "id": "q1EMdv0mVfiO"
      },
      "source": [
        "**Exercise 3**\n",
        "\n",
        "First, write a function that returns one realization of the following random device\n",
        "\n",
        "1. Flip an unbiased coin 10 times.\n",
        "\n",
        "2. If a head occurs k or more times consecutively within this sequence at least once, pay one dollar.\n",
        "\n",
        "3. If not, pay nothing.\n",
        "\n",
        "Second, write another function that does the same task except that the second rule of the above random device becomes\n",
        "\n",
        "*   If a head occurs k or more times within this sequence, pay one dollar.\n",
        "\n",
        "Use no import besides from numpy.random import uniform."
      ]
    },
    {
      "cell_type": "code",
      "metadata": {
        "id": "oWZhYJVXV0_e"
      },
      "source": [],
      "execution_count": 27,
      "outputs": []
    },
    {
      "cell_type": "markdown",
      "metadata": {
        "id": "ZI-pi1CB3XFE"
      },
      "source": [
        "# **5.5 Functions Without Return Values**"
      ]
    },
    {
      "cell_type": "markdown",
      "metadata": {
        "id": "bOiYtRcrB9SV"
      },
      "source": [
        "Sometimes, you need to carry out a sequence of instructions that does not yield a value.\n",
        "\n",
        "If that instruction sequence occurs multiple times, you will want to package it into a function."
      ]
    },
    {
      "cell_type": "markdown",
      "metadata": {
        "id": "uRWvvPBFF3sZ",
        "outputId": "986602aa-7e22-407c-84e0-fa49c2bb2970"
      },
      "source": [
        "**Some functions may not return a value, but they can produce output.**"
      ]
    },
    {
      "cell_type": "markdown",
      "metadata": {
        "cellView": "form",
        "id": "ZM6FJv4PDggP",
        "outputId": "e4243bfd-3c78-4081-e709-b035706a01ce"
      },
      "source": [
        "**Example 1**:\n",
        "\n",
        "Your task is to print a string in a box, like this:\n",
        "\t\t\t-------\n",
        "\t\t\t!Hello!\n",
        "\t\t\t-------\n",
        "However, different strings can be substituted for Hello.\n",
        "\n",
        "Now you develop the body of the function in the usual way, by formulating a general algorithm for solving the task.\n",
        "\n",
        "            n = the length of the string\n",
        "\t\t\tPrint a line that contains the - character n + 2 times.\n",
        "\t\t\tPrint a line containing the contents, surrounded with a ! to the left and right.\n",
        "\t\t\tPrint another line containing the - character n + 2 times."
      ]
    },
    {
      "cell_type": "code",
      "metadata": {
        "id": "YTwkPvdFl4Qc"
      },
      "source": [
        "## Prints a string in a box.\n"
      ],
      "execution_count": 28,
      "outputs": []
    },
    {
      "cell_type": "markdown",
      "metadata": {
        "id": "NqCtYrMvl4Qc"
      },
      "source": [
        "Note that this function doesn’t compute any value.\n",
        "\n",
        "It **performs some actions** and then returns to the caller.\n",
        "\n",
        "Actually, the function returns a special value, called **None**, but there is nothing that you can do with that value."
      ]
    },
    {
      "cell_type": "code",
      "metadata": {
        "id": "I26N2n8wl4Qc"
      },
      "source": [
        "def boxString(contents) :\n",
        "\tn = len(contents)\n",
        "\tif n == 0 :\n",
        "\t   return   # Return immediately\n",
        "\tprint(\"-\" * (n + 2))\n",
        "\tprint(\"!\" + contents + \"!\")\n",
        "\tprint(\"-\" * (n + 2))\n",
        "\n",
        "\n",
        "#boxString(\"Hello, World\")\n",
        "boxString(\"\")\n"
      ],
      "execution_count": 29,
      "outputs": []
    },
    {
      "cell_type": "markdown",
      "metadata": {
        "id": "YHURp3Unl4Qd"
      },
      "source": [
        "**Self Check:** What output is generated by the program below?"
      ]
    },
    {
      "cell_type": "code",
      "metadata": {
        "id": "XhCrCEK_l4Qd",
        "colab": {
          "base_uri": "https://localhost:8080/"
        },
        "outputId": "e8e75f67-8613-4cf4-fc38-83960f44ac74"
      },
      "source": [
        "def main() :\n",
        "   showStars(3)\n",
        "\n",
        "def showStars(number) :\n",
        "   for k in range(number) :\n",
        "      print(\"*\", end=\"\")\n",
        "\n",
        "main()"
      ],
      "execution_count": 30,
      "outputs": [
        {
          "output_type": "stream",
          "name": "stdout",
          "text": [
            "***"
          ]
        }
      ]
    },
    {
      "cell_type": "markdown",
      "metadata": {
        "id": "UiNvSxgr3wZs"
      },
      "source": [
        "# **5.6 Reusable Functions**"
      ]
    },
    {
      "cell_type": "markdown",
      "metadata": {
        "id": "RMUyyI0el4Qd"
      },
      "source": [
        "You have used many Python functions, both built-in and from the standard library.\n",
        "\n",
        "These functions have been provided as a part of the Python platform so that programmers need not recreate them.\n",
        "\n",
        "Of course, the Python library doesn’t cover every conceivable need. You will often be able to save yourself time by designing your own functions that can be used for multiple problems."
      ]
    },
    {
      "cell_type": "markdown",
      "metadata": {
        "id": "vOWUOJm5l4Qd"
      },
      "source": [
        "**When you write nearly identical code multiple times, either in the same program or in separate programs, consider introducing a function.**"
      ]
    },
    {
      "cell_type": "code",
      "metadata": {
        "id": "f2XM6564l4Qd",
        "colab": {
          "base_uri": "https://localhost:8080/"
        },
        "outputId": "058e0d0e-3d7c-4301-e5df-eb1e558dfda6"
      },
      "source": [
        "hours = int(input(\"Hour (Enter a value between 0 and 23): \"))\n",
        "while hours < 0 or hours > 23 :\n",
        "   print(\"Error: value out of range.\")\n",
        "   hours = int(input(\"Hour (Enter a value between 0 and 23): \"))\n",
        "\n",
        "minutes = int(input(\"Minute (Enter a value between 0 and 59): \"))\n",
        "while minutes < 0 or minutes > 59 :\n",
        "   print(\"Error: value out of range.\")\n",
        "   minutes = int(input(\"Minute (Enter a value between 0 and 59): \"))\n",
        "\n",
        "print(\"You entered %d hours and %d minutes.\" % (hours, minutes))"
      ],
      "execution_count": 31,
      "outputs": [
        {
          "output_type": "stream",
          "name": "stdout",
          "text": [
            "Hour (Enter a value between 0 and 23): 20\n",
            "Minute (Enter a value between 0 and 59): 13\n",
            "You entered 20 hours and 13 minutes.\n"
          ]
        }
      ]
    },
    {
      "cell_type": "markdown",
      "metadata": {
        "id": "ZGux0l_rl4Qd"
      },
      "source": [
        "This program segment reads two variables, making sure that each of them is within a certain range.\n",
        "\n",
        "It is easy to extract the common behavior into a function."
      ]
    },
    {
      "cell_type": "code",
      "metadata": {
        "id": "kUUEosoqTd7b",
        "colab": {
          "base_uri": "https://localhost:8080/"
        },
        "outputId": "258120f4-2c06-4203-c100-69140a77161e"
      },
      "source": [
        "## Prompts a user to enter a value up to a given maximum until the user provides\n",
        "#  a valid input.\n",
        "\n",
        "def readIntUpTo(high) :\n",
        "   value = int(input(\"Enter a value between 0 and \" + str(high) + \": \"))\n",
        "   while value < 0 or value > high :\n",
        "     print(\"Error: value out of range.\")\n",
        "     value = int(input(\"Enter a value between 0 and \" + str(high) + \": \"))\n",
        "\n",
        "   return value\n",
        "\n",
        "# Then use this function twice:\n",
        "hours = readIntUpTo(23)\n",
        "minutes = readIntUpTo(59)\n",
        "\n",
        "# We have now removed the replication of the loop—it only occurs once, inside the function.\n",
        "\n",
        "print(\"You entered %d hours and %d minutes.\" % (hours, minutes))"
      ],
      "execution_count": 32,
      "outputs": [
        {
          "output_type": "stream",
          "name": "stdout",
          "text": [
            "Enter a value between 0 and 23: 10\n",
            "Enter a value between 0 and 59: 38\n",
            "You entered 10 hours and 38 minutes.\n"
          ]
        }
      ]
    },
    {
      "cell_type": "markdown",
      "metadata": {
        "id": "bPCA1CBjl4Qd"
      },
      "source": [
        "##### Design your functions to be reusable. Supply parameter variables for the values that can vary when the function is reused.\n",
        "\n",
        "we should consider the possibility that the smallest value need not always be zero."
      ]
    },
    {
      "cell_type": "code",
      "metadata": {
        "id": "wJgePnmVEKk1",
        "colab": {
          "base_uri": "https://localhost:8080/"
        },
        "outputId": "e73e5276-9577-4178-9efd-766ab8d252f4"
      },
      "source": [
        "## Prompts a user to enter a value within a given range until the user provides\n",
        "#  a valid input.\n",
        "#\n",
        "def readIntBetween(low, high) :\n",
        "   value = int(input(\"Enter a value between \" + str(low) + \" and \" +\n",
        "                      str(high) + \": \"))\n",
        "   while value < low or value > high :\n",
        "        print(\"Error: value out of range.\")\n",
        "        value = int(input(\"Enter a value between \" + str(low) + \" and \" +\n",
        "                    str(high) + \": \"))\n",
        "   return value\n",
        "hours = readIntBetween(0, 23)\n",
        "months = readIntBetween(1, 12)\n",
        "minutes = readIntBetween(0, 59)\n",
        "\n",
        "print(\"You entered %d months, %d hours and %d minutes.\" % (months,hours, minutes))\n"
      ],
      "execution_count": 33,
      "outputs": [
        {
          "output_type": "stream",
          "name": "stdout",
          "text": [
            "Enter a value between 0 and 23: 9\n",
            "Enter a value between 1 and 12: 11\n",
            "Enter a value between 0 and 59: 56\n",
            "You entered 11 months, 9 hours and 56 minutes.\n"
          ]
        }
      ]
    },
    {
      "cell_type": "code",
      "metadata": {
        "id": "9iQSXDwkl4Qe"
      },
      "source": [
        ""
      ],
      "execution_count": 33,
      "outputs": []
    },
    {
      "cell_type": "markdown",
      "metadata": {
        "id": "VzFYo_KqLbSE"
      },
      "source": [
        "# **5.7 Problem Solving: Stepwise Refinement**"
      ]
    },
    {
      "cell_type": "markdown",
      "metadata": {
        "id": "AHmHKZNDUx0u"
      },
      "source": [
        "**Use the process of stepwise refinement to decompose complex tasks into simpler ones.**\n",
        "\n",
        "One of the most powerful strategies for problem solving is the process of stepwise refinement.\n",
        "\n",
        "To solve a difficult task, break it down into simpler tasks. Then keep breaking down the simpler tasks into even simpler ones, until you are left with tasks that you know how to solve."
      ]
    },
    {
      "cell_type": "markdown",
      "metadata": {
        "id": "4cmbRBofl4Qe"
      },
      "source": [
        "***Now apply this process to a problem of everyday life. You get up in the morning and simply must get coffee.***"
      ]
    },
    {
      "cell_type": "markdown",
      "metadata": {
        "id": "yDRPo40Jl4Qe"
      },
      "source": [
        "![coffee.jpg](data:image/jpeg;base64,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)"
      ]
    },
    {
      "cell_type": "markdown",
      "metadata": {
        "id": "2WASutm_l4Qe"
      },
      "source": [
        "This is a flowchart view of the coffee-making solution.\n",
        "\n",
        "Refinements are shown as expanding boxes.\n",
        "\n",
        "In Python, you implement a refinement as a function.\n",
        "\n",
        "For example, a function brewCoffee would call grindCoffee, and brewCoffee would be called from a function makeCoffee."
      ]
    },
    {
      "cell_type": "markdown",
      "metadata": {
        "id": "Tv7E3dt2l4Qe"
      },
      "source": [
        "**Self-Check:** When printing a check, it is customary to write the check amount both as a number (“$274.15”) and as a text string (“two hundred seventy four dollars and 15 cents”).\n",
        "\n",
        "Doing so reduces the recipient’s temptation to add a few digits in front of the amount.\n",
        "\n",
        "There is no built-in function that turns 274 into \"two hundred seventy four\".\n",
        "\n",
        "We need to program this function. Here is the description of the function we want to write:"
      ]
    },
    {
      "cell_type": "markdown",
      "metadata": {
        "id": "iptsMnq2l4Qe"
      },
      "source": [
        "1. When you discover that you need a function, write a description of the parameter variables and return values."
      ]
    },
    {
      "cell_type": "markdown",
      "metadata": {
        "id": "3mX95gSfl4Qf"
      },
      "source": [
        "How can this function do its job?\n",
        "\n",
        "Consider a simple case first. If the number is between 1 and 9, we need to compute \"one\" … \"nine\".\n",
        "\n",
        "In fact, we need the same computation again for the hundreds (two hundred).\n",
        "\n",
        "**Any time you need something more than once, it is a good idea to turn that into a function.**\n",
        ""
      ]
    },
    {
      "cell_type": "markdown",
      "metadata": {
        "id": "qVMv1PyVl4Qf"
      },
      "source": [
        "Now let us write the pseudocode for the intName function.\n",
        "\n",
        "If the number is between 100 and 999, then we show a digit and the word \"hundred\" (such as \"two hundred\").\n",
        "\n",
        "We then remove the hundreds, for example reducing 274 to 74.\n",
        "\n",
        "Next, suppose the remaining part is at least 20 and at most 99. If the number is evenly divisible by 10, we use tensName, and we are done.\n",
        "\n",
        "Otherwise, we print the tens with tensName (such as \"seventy\") and remove the tens, reducing 74 to 4. In a separate branch, we deal with numbers that are at between 10 and 19. Finally, we print any remaining single digit (such as \"four\").\n",
        "\n",
        "            intName(number)\n",
        "\t\t\tpart = number  # The part that still needs to be converted\n",
        "\t\t\tname = \"\"\n",
        "\t\t\t   \n",
        "\t\t\tIf part >= 100\n",
        "\t\t\t   name =  name of hundreds in part + \" hundred\"\n",
        "\t\t\t   Remove hundreds from part.\n",
        "\t\t\t  \n",
        "\t\t\tIf part >= 20\n",
        "\t\t\t   Append tensName(part) to name.\n",
        "\t\t\t   Remove tens from part.\n",
        "\t\t\tElse if part >= 10\n",
        "\t\t\t   Append teenName(part) to name.\n",
        "\t\t\t   part = 0\n",
        "\t\t\t  \n",
        "\t\t\tIf part > 0\n",
        "\t\t\t   Append digitName(part) to name."
      ]
    },
    {
      "cell_type": "code",
      "source": [],
      "metadata": {
        "id": "gZt-YL0yC-wO"
      },
      "execution_count": 33,
      "outputs": []
    },
    {
      "cell_type": "markdown",
      "metadata": {
        "id": "OwkoQ4c8l4Qg"
      },
      "source": [
        "**Self-Check:**\n",
        "\n",
        "Students in this course take four exams and earn a letter grade (A+, A, A–, B+, B, B–, C+, C, C–, D+, D, D–, or F) for each of them.\n",
        "\n",
        "The course grade is determined by dropping the lowest grade and averaging the three remaining grades.\n",
        "\n",
        "To average grades, first convert them to number grades, using the usual scheme\n",
        "\n",
        "    A+ = 4.3,\n",
        "    A = 4.0,\n",
        "    A– = 3.7,\n",
        "    B+ = 3.3,\n",
        "    B = 3.0,\n",
        "    B- = 2.7,\n",
        "    C+ = 2.3,\n",
        "    C = 2.0,\n",
        "    C- = 1.7,\n",
        "    D+ = 1.3,\n",
        "    D = 1.0,\n",
        "    D– = 0.7,\n",
        "    F = 0.\n",
        "    \n",
        "Then compute their average and convert it back to the closest letter grade.\n",
        "\n",
        "For example, an average of 3.51 would be an A–.\n",
        "\n",
        "Your task is to read four letter grades, one per line.\n",
        "\n",
        "            letterGrade1\n",
        "\t\t\tletterGrade2\n",
        "\t\t\tletterGrade3\n",
        "\t\t\tletterGrade4\n",
        "\n",
        "For example,\n",
        "\n",
        "            A–\n",
        "\t\t\tB+\n",
        "\t\t\tC\n",
        "\t\t\tA\n",
        "For each sequence of four input lines, your output should be the letter grade earned in the course, as just described.\n",
        "For example, A–.\n",
        "\n",
        "The end of inputs will be indicated by a letterGrade1 input of Q."
      ]
    },
    {
      "cell_type": "markdown",
      "metadata": {
        "id": "gKrFTldZl4Qg"
      },
      "source": [
        "**Step 1 Carry out stepwise refinement.**\n",
        "\n",
        "We will use the process of stepwise refinement. To process the inputs, we need to process all four grades of a student’s grade set. Therefore, we define a task ***Process grade set***.\n",
        "\n",
        "To process one set of grades, we read the first grade and bail out if it is a Q. Otherwise, we read the four grades. Because we need them in their numeric form, we identify a task ***Convert letter grade to number***.\n",
        "\n",
        "We then have four numbers and need to find the smallest one. That is another task, ***Find smallest of four numbers***.\n",
        "\n",
        "To average the remaining ones, we compute the sum of all values, subtract the smallest, and divide by three. Let’s say that is not worth making into a subtask.\n",
        "\n",
        "Next, we need to convert the result back into a letter grade. That is yet another subtask ***Convert number grade to letter***.\n",
        "\n",
        "Finally, we print the letter grade. That is again so simple that it requires no subtask."
      ]
    },
    {
      "cell_type": "markdown",
      "metadata": {
        "id": "FUEfWK-hl4Qg"
      },
      "source": [
        "**Step 2 Convert letter grade to number.**\n",
        "\n",
        "gradeToNumber(grade)\n",
        "\n",
        "\t\t\tfirst = first character of grade\n",
        "\t\t\tIf first is A, B, C, D, or F\n",
        "\t\t\t   Set result to 4, 3, 2, 1, or 0 respectively.\n",
        "\t\t\tIf the second character of grade is +\n",
        "\t\t\t   Add 0.3 to result.\n",
        "\t\t\tIf the second character of grade is -\n",
        "\t\t\t   Subtract 0.3 from result.\n",
        "\t\t\tReturn result."
      ]
    },
    {
      "cell_type": "markdown",
      "metadata": {
        "id": "DjBegZVel4Qh"
      },
      "source": [
        "**Step 3 Convert number grade to letter.**\n",
        "\n",
        "For example, if x is the number grade, then we have:\n",
        "\n",
        "            2.5 ≤ x < 2.85: B–\n",
        "\t\t\t2.85 ≤ x < 3.15: B\n",
        "\t\t\t3.15 ≤ x < 3.5: B+\n",
        "\n",
        "We can make a function with 13 branches, one for each valid letter grade.\n",
        "\n",
        "            ## Converts a number to the nearest letter grade.\n",
        "\t\t\t#  @param x a number between 0 and 4.3\n",
        "\t\t\t#  @return the nearest letter grade\n",
        "\t\t\t#\n",
        "\t\t\tdef numberToGrade(x) :\n",
        "\t\t\t   if x >= 4.15 : return \"A+\"\n",
        "\t\t\t   if x >= 3.85 : return \"A\"\n",
        "\t\t\t   if x >= 3.5 : return \"A-\"\n",
        "\t\t\t   if x >= 3.15 : return \"B+\"\n",
        "\t\t\t   if x >= 2.85 : return \"B\"\n",
        "\t\t\t   if x >= 2.5 : return \"B-\"\n",
        "\t\t\t   if x >= 2.15 : return \"C+\"\n",
        "\t\t\t   if x >= 1.85 : return \"C\"\n",
        "\t\t\t   if x >= 1.5 : return \"C-\"\n",
        "\t\t\t   if x >= 1.15 : return \"D+\"\n",
        "\t\t\t   if x >= 0.85 : return \"D\"\n",
        "\t\t\t   if x >= 0.5 : return \"D-\"\n",
        "\t\t\t   return \"F\""
      ]
    },
    {
      "cell_type": "markdown",
      "metadata": {
        "id": "3N3Zbj46l4Qh"
      },
      "source": [
        "**Step 4 Find the minimum of four numbers.**\n",
        "\n",
        "Finally, how do we find the smallest of four numbers?\n",
        "\n",
        "Python provides the min function that accepts multiple values as its arguments and returns the minimum from among those values. For example:\n",
        "\n",
        "            result = min(5, 8, 2, 23)\n",
        "\n",
        "Assign 2 to variable result."
      ]
    },
    {
      "cell_type": "markdown",
      "metadata": {
        "id": "jIeCLZVbl4Qh"
      },
      "source": [
        "**Step 5 Process a grade set.**\n",
        "\n",
        "As previously described, to process a student’s grade set, we follow these steps:\n",
        "\n",
        "            Read in the four input strings.\n",
        "\t\t\tConvert grades to numbers.\n",
        "\t\t\tCompute the average after dropping the lowest grade.\n",
        "\t\t\tPrint the grade corresponding to that average.\n",
        "\n",
        "However, if we read the first input string and find a Q, we need to signal to the caller that we have reached the end of the input set and that no further calls should be made.\n",
        "\n",
        "Our function will return a Boolean value, False if it was successful, True if it encountered the sentinel.\n",
        "\n",
        "            ## Processes one student’s set of grades.\n",
        "\t\t\t#  @return True if the sentinel was encountered or False otherwise\n",
        "\t\t\t#\n",
        "\t\t\tdef processGradeSet() :\n",
        "\n",
        "\t\t\t   # Read the first grade.\n",
        "\t\t\t   grade1 = input(\"Enter the first grade or Q to quit: \")\n",
        "\t\t\t   if grade1.upper() == \"Q\" :\n",
        "\t\t\t      return True\n",
        "\t\t\t  \n",
        "\t\t\t   # Read the next three grades.\n",
        "\t\t\t   grade2 = input(\"Enter the second grade: \")\n",
        "\t\t\t   grade3 = input(\"Enter the third grade: \")\n",
        "\t\t\t   grade4 = input(\"Enter the fourth grade: \")\n",
        "\t\t\t  \n",
        "\t\t\t   # Compute and print their average.\n",
        "\t\t\t   x1 = gradeToNumber(grade1)\n",
        "\t\t\t   x2 = gradeToNumber(grade2)\n",
        "\t\t\t   x3 = gradeToNumber(grade3)\n",
        "\t\t\t   x4 = gradeToNumber(grade4)\n",
        "\t\t\t   xlow = min(x1, x2, x3, x4)\n",
        "\t\t\t   avg = (x1 + x2 + x3 + x4 - xlow) / 3\n",
        "\t\t\t   print(numberToGrade(avg))\n",
        "\t\t\t  \n",
        "\t\t\t   return False"
      ]
    },
    {
      "cell_type": "markdown",
      "metadata": {
        "id": "Q19tY_Eal4Qh"
      },
      "source": [
        "**Step 6 Write the main function.**\n",
        "\n"
      ]
    },
    {
      "cell_type": "code",
      "source": [],
      "metadata": {
        "id": "M7C_pCtKDS83"
      },
      "execution_count": 33,
      "outputs": []
    },
    {
      "cell_type": "markdown",
      "metadata": {
        "id": "pqvH1mY9l4Qi"
      },
      "source": [
        "# **5.8 Variable Scope**"
      ]
    },
    {
      "cell_type": "markdown",
      "metadata": {
        "id": "LBAsqqi4l4Qi"
      },
      "source": [
        "As your programs get larger and contain more variables, you may encounter problems where you cannot access a variable that is defined in a different part of your program, or where two variable definitions conflict with each other.\n",
        "\n",
        "In order to resolve these problems, you need to be familiar with the concept of variable scope."
      ]
    },
    {
      "cell_type": "markdown",
      "metadata": {
        "id": "XPY03c3Vl4Qi"
      },
      "source": [
        "**The scope of a variable is the part of the program in which you can access it**.\n",
        "\n",
        "For example, the scope of a function’s parameter variable is the entire function.\n",
        "\n",
        "In the following code segment, the scope of the parameter variable sideLength is the entire cubeVolume function but not the main function.\n",
        "      \n",
        "      def main() :\n",
        "\t\tprint(cubeVolume(10))\n",
        "\t  \n",
        "      def cubeVolume(sideLength) :\n",
        "\t\treturn sideLength ** 3\n",
        "        \n",
        "Not all objects (including the functions) we have defined are accessible everywhere in our Python code.\n",
        "\n",
        "The scope of the program represents where a variable name or function name may be accessed.\n",
        "\n",
        "Python has 3 types of scopes: **local, global and built-in scope**."
      ]
    },
    {
      "cell_type": "markdown",
      "metadata": {
        "id": "cTwFf-YGl4Qi"
      },
      "source": [
        "**A variable that is defined within a function is called a local variable**. We can use this object or function only inside the function where it’s defined."
      ]
    },
    {
      "cell_type": "code",
      "metadata": {
        "id": "WEoFzPbOl4Qi",
        "colab": {
          "base_uri": "https://localhost:8080/",
          "height": 227
        },
        "outputId": "697a5ff5-f990-4d76-fb06-3562051ded83"
      },
      "source": [
        "def sum_numbers(number1, number2):\n",
        "    result = number1 + number2\n",
        "    return result\n",
        "\n",
        "print(sum_numbers(10, 5))\n",
        "print(result)"
      ],
      "execution_count": 34,
      "outputs": [
        {
          "output_type": "stream",
          "name": "stdout",
          "text": [
            "15\n"
          ]
        },
        {
          "output_type": "error",
          "ename": "NameError",
          "evalue": "name 'result' is not defined",
          "traceback": [
            "\u001b[0;31m---------------------------------------------------------------------------\u001b[0m",
            "\u001b[0;31mNameError\u001b[0m                                 Traceback (most recent call last)",
            "\u001b[0;32m<ipython-input-34-faf6ee9da5b3>\u001b[0m in \u001b[0;36m<cell line: 6>\u001b[0;34m()\u001b[0m\n\u001b[1;32m      4\u001b[0m \u001b[0;34m\u001b[0m\u001b[0m\n\u001b[1;32m      5\u001b[0m \u001b[0mprint\u001b[0m\u001b[0;34m(\u001b[0m\u001b[0msum_numbers\u001b[0m\u001b[0;34m(\u001b[0m\u001b[0;36m10\u001b[0m\u001b[0;34m,\u001b[0m \u001b[0;36m5\u001b[0m\u001b[0;34m)\u001b[0m\u001b[0;34m)\u001b[0m\u001b[0;34m\u001b[0m\u001b[0;34m\u001b[0m\u001b[0m\n\u001b[0;32m----> 6\u001b[0;31m \u001b[0mprint\u001b[0m\u001b[0;34m(\u001b[0m\u001b[0mresult\u001b[0m\u001b[0;34m)\u001b[0m\u001b[0;34m\u001b[0m\u001b[0;34m\u001b[0m\u001b[0m\n\u001b[0m",
            "\u001b[0;31mNameError\u001b[0m: name 'result' is not defined"
          ]
        }
      ]
    },
    {
      "cell_type": "markdown",
      "metadata": {
        "id": "0NKpat2Vl4Qi"
      },
      "source": [
        "In this example, we can see that we have access to the result variable in our function, but we don’t have access to it outside the function.\n",
        "\n",
        "That’s because of the result variable has local scope and can be accessed only inside the sum_numbers function."
      ]
    },
    {
      "cell_type": "markdown",
      "metadata": {
        "id": "L10Ta5R4l4Qi"
      },
      "source": [
        "**Global Scope**\n",
        "\n",
        "When our object or function is defined in the main body of our Python code this means that is has a global scope.\n",
        "\n",
        "We have access to this object or function everywhere because it’s global."
      ]
    },
    {
      "cell_type": "code",
      "metadata": {
        "id": "oNXx93VXl4Qi",
        "colab": {
          "base_uri": "https://localhost:8080/",
          "height": 227
        },
        "outputId": "b8a62538-e1ff-478f-d6c5-bbbcc004f793"
      },
      "source": [
        "name = \"Mary\" # Global variable\n",
        "\n",
        "def sum_numbers(number1, number2):\n",
        "    greeting = \"Hi, \" + name +\":\" # greeting is a local variable\n",
        "    sum_result = number1 + number2 # sum_result local variable\n",
        "    result = greeting + \" The sum is \" + str(sum_result) +\".\" # str() is a bult-in function\n",
        "    return result\n",
        "\n",
        "print(sum_numbers(10, 5))\n",
        "print(result)"
      ],
      "execution_count": 35,
      "outputs": [
        {
          "output_type": "stream",
          "name": "stdout",
          "text": [
            "Hi, Mary: The sum is 15.\n"
          ]
        },
        {
          "output_type": "error",
          "ename": "NameError",
          "evalue": "name 'result' is not defined",
          "traceback": [
            "\u001b[0;31m---------------------------------------------------------------------------\u001b[0m",
            "\u001b[0;31mNameError\u001b[0m                                 Traceback (most recent call last)",
            "\u001b[0;32m<ipython-input-35-9d1702848a24>\u001b[0m in \u001b[0;36m<cell line: 10>\u001b[0;34m()\u001b[0m\n\u001b[1;32m      8\u001b[0m \u001b[0;34m\u001b[0m\u001b[0m\n\u001b[1;32m      9\u001b[0m \u001b[0mprint\u001b[0m\u001b[0;34m(\u001b[0m\u001b[0msum_numbers\u001b[0m\u001b[0;34m(\u001b[0m\u001b[0;36m10\u001b[0m\u001b[0;34m,\u001b[0m \u001b[0;36m5\u001b[0m\u001b[0;34m)\u001b[0m\u001b[0;34m)\u001b[0m\u001b[0;34m\u001b[0m\u001b[0;34m\u001b[0m\u001b[0m\n\u001b[0;32m---> 10\u001b[0;31m \u001b[0mprint\u001b[0m\u001b[0;34m(\u001b[0m\u001b[0mresult\u001b[0m\u001b[0;34m)\u001b[0m\u001b[0;34m\u001b[0m\u001b[0;34m\u001b[0m\u001b[0m\n\u001b[0m",
            "\u001b[0;31mNameError\u001b[0m: name 'result' is not defined"
          ]
        }
      ]
    },
    {
      "cell_type": "markdown",
      "metadata": {
        "id": "ZHDC_W7Nl4Qj"
      },
      "source": [
        "We can use the global keyword in cases when we want to change the value of a global variable inside some function."
      ]
    },
    {
      "cell_type": "code",
      "metadata": {
        "id": "pLD7jChhnE47",
        "colab": {
          "base_uri": "https://localhost:8080/"
        },
        "outputId": "631343a5-d682-4dcb-8652-aa815f3d0763"
      },
      "source": [
        "global_var = 200  # a global variable\n",
        "\n",
        "def func():\n",
        "\n",
        "    # local_var is a local variable\n",
        "    # and is only available inside func()\n",
        "    local_var = 100\n",
        "\n",
        "    print(\"Inside func() - local_var =\", local_var)\n",
        "\n",
        "    # accessing a global variable inside a function\n",
        "    print(\"Inside func() - global_var =\", global_var)\n",
        "\n",
        "\n",
        "func()\n",
        "\n",
        "print(\"Outside func() - global_var =\", global_var)\n",
        "\n",
        "# print(\"Outside func() - local_var =\", local_var)  # ERROR: local_var is not available here\n"
      ],
      "execution_count": 36,
      "outputs": [
        {
          "output_type": "stream",
          "name": "stdout",
          "text": [
            "Inside func() - local_var = 100\n",
            "Inside func() - global_var = 200\n",
            "Outside func() - global_var = 200\n"
          ]
        }
      ]
    },
    {
      "cell_type": "markdown",
      "metadata": {
        "id": "MfIA-C7-nOeL"
      },
      "source": [
        "In line 1, we have created a global variable named global_var. It is then accessed in line 12, inside the func() function and in line 17, outside the function.\n",
        "\n",
        "We have also declared a local variable named local_var inside the function func(). It is then accessed inside the function in line 9.\n",
        "\n",
        "Let's see what happens, if we try to access a local variable outside the function. To do so, uncomment the code in line 19 and run program again."
      ]
    },
    {
      "cell_type": "code",
      "metadata": {
        "id": "ivFHdnjpnTdA",
        "colab": {
          "base_uri": "https://localhost:8080/",
          "height": 262
        },
        "outputId": "0e79350b-0a2c-43bd-879c-19da1f5b04f2"
      },
      "source": [
        "global_var = 200  # a global variable\n",
        "\n",
        "def func():\n",
        "\n",
        "    # local_var is a local variable\n",
        "    # and is only available inside func()\n",
        "    local_var = 100\n",
        "\n",
        "    print(\"Inside func() - local_var =\", local_var)\n",
        "\n",
        "    # accessing a global variable inside a function\n",
        "    print(\"Inside func() - global_var =\", global_var)\n",
        "\n",
        "\n",
        "func()\n",
        "\n",
        "print(\"Outside func() - global_var =\", global_var)\n",
        "\n",
        "print(\"Outside func() - local_var =\", local_var)  # ERROR: local_var is not available here"
      ],
      "execution_count": 37,
      "outputs": [
        {
          "output_type": "stream",
          "name": "stdout",
          "text": [
            "Inside func() - local_var = 100\n",
            "Inside func() - global_var = 200\n",
            "Outside func() - global_var = 200\n"
          ]
        },
        {
          "output_type": "error",
          "ename": "NameError",
          "evalue": "name 'local_var' is not defined",
          "traceback": [
            "\u001b[0;31m---------------------------------------------------------------------------\u001b[0m",
            "\u001b[0;31mNameError\u001b[0m                                 Traceback (most recent call last)",
            "\u001b[0;32m<ipython-input-37-52146f4cd1f7>\u001b[0m in \u001b[0;36m<cell line: 19>\u001b[0;34m()\u001b[0m\n\u001b[1;32m     17\u001b[0m \u001b[0mprint\u001b[0m\u001b[0;34m(\u001b[0m\u001b[0;34m\"Outside func() - global_var =\"\u001b[0m\u001b[0;34m,\u001b[0m \u001b[0mglobal_var\u001b[0m\u001b[0;34m)\u001b[0m\u001b[0;34m\u001b[0m\u001b[0;34m\u001b[0m\u001b[0m\n\u001b[1;32m     18\u001b[0m \u001b[0;34m\u001b[0m\u001b[0m\n\u001b[0;32m---> 19\u001b[0;31m \u001b[0mprint\u001b[0m\u001b[0;34m(\u001b[0m\u001b[0;34m\"Outside func() - local_var =\"\u001b[0m\u001b[0;34m,\u001b[0m \u001b[0mlocal_var\u001b[0m\u001b[0;34m)\u001b[0m  \u001b[0;31m# ERROR: local_var is not available here\u001b[0m\u001b[0;34m\u001b[0m\u001b[0;34m\u001b[0m\u001b[0m\n\u001b[0m",
            "\u001b[0;31mNameError\u001b[0m: name 'local_var' is not defined"
          ]
        }
      ]
    },
    {
      "cell_type": "markdown",
      "metadata": {
        "id": "PJiF6Xcjl4Qj"
      },
      "source": [
        "**Bult-In Scope**\n",
        "\n",
        "In Python, we have a number of functions and types built into that are always available.\n",
        "\n",
        "***Additional Notes***\n",
        "\n",
        "If we’re using variable name or function name inside a function, Python will search for that name first in the local, then in the global, and finally in the built-in scope.\n",
        "\n",
        "If we’re using a variable or a name in the main body of the script, Python will search for that name first in the global, and then in the built-in scope."
      ]
    },
    {
      "cell_type": "markdown",
      "metadata": {
        "id": "WurvAvAVl4Qj"
      },
      "source": [
        "**Keyword Arguments**\n",
        "\n",
        "Keyword arguments are related to the function calls. When you use keyword arguments in a function call, the caller identifies the arguments by the parameter name.\n",
        "\n",
        "This allows you to skip arguments or place them out of order because the Python interpreter is able to use the keywords provided to match the values with parameters."
      ]
    },
    {
      "cell_type": "code",
      "metadata": {
        "id": "H5UrW2Opl4Qj",
        "colab": {
          "base_uri": "https://localhost:8080/"
        },
        "outputId": "8d4ef707-57e0-42ed-c08b-3c2de86178a0"
      },
      "source": [
        "def raise_value(number, power):\n",
        "    return number ** power\n",
        "\n",
        "print(raise_value(2, 3))\n",
        "print(raise_value(number = 2, power = 3))\n",
        "print(raise_value(power = 2, number = 3))"
      ],
      "execution_count": 38,
      "outputs": [
        {
          "output_type": "stream",
          "name": "stdout",
          "text": [
            "8\n",
            "8\n",
            "9\n"
          ]
        }
      ]
    },
    {
      "cell_type": "markdown",
      "metadata": {
        "id": "RcYcV8Apl4Qj"
      },
      "source": [
        "**Default Arguments**\n",
        "\n",
        "In some cases, we have a function with multiple parameters and we have a common value for some of them.\n",
        "We can specify default arguments for some of the function parameters.\n",
        "\n",
        "In these cases, we can call our function without specifying the values for the parameters with default arguments.\n",
        "\n",
        "To do this in Python, we can use the = sign followed by the default value."
      ]
    },
    {
      "cell_type": "code",
      "metadata": {
        "id": "lqjeR5INl4Qk",
        "colab": {
          "base_uri": "https://localhost:8080/"
        },
        "outputId": "a9cb4d6c-0341-4779-829f-f7c250dbfc7c"
      },
      "source": [
        "def raise_value(number, power = 2):\n",
        "    return number ** power\n",
        "\n",
        "print(raise_value(9))\n",
        "print(raise_value(2))\n",
        "print(raise_value(2, 3))"
      ],
      "execution_count": 39,
      "outputs": [
        {
          "output_type": "stream",
          "name": "stdout",
          "text": [
            "81\n",
            "4\n",
            "8\n"
          ]
        }
      ]
    },
    {
      "cell_type": "markdown",
      "metadata": {
        "id": "A1I1fV-ul4Qk"
      },
      "source": [
        "From the example above, we can see that the power parameter have a default value of 2.\n",
        "\n",
        "When we don’t specify the value for it, the default value is used. However, as we can see, we can pass a different value."
      ]
    },
    {
      "cell_type": "code",
      "metadata": {
        "id": "M6_d6ripl4Qk",
        "colab": {
          "base_uri": "https://localhost:8080/"
        },
        "outputId": "4c13a6b3-553a-4525-e6df-5b8d79c9e499"
      },
      "source": [
        "def raise_value(number, power = 2, details = False):\n",
        "    result = number ** power\n",
        "    if details:\n",
        "        return \"The number \" + str(number) + \" raised to the power \" + str(power) + \" is: \" + str(result)\n",
        "    else:\n",
        "        return result\n",
        "\n",
        "print(raise_value(2, details = True))\n",
        "print(raise_value(2, 3))\n",
        "print(raise_value(3))"
      ],
      "execution_count": 40,
      "outputs": [
        {
          "output_type": "stream",
          "name": "stdout",
          "text": [
            "The number 2 raised to the power 2 is: 4\n",
            "8\n",
            "9\n"
          ]
        }
      ]
    },
    {
      "cell_type": "markdown",
      "metadata": {
        "id": "jCQTg3usl4Qk"
      },
      "source": [
        "**Flexible Arguments**\n",
        "\n",
        "Sometimes, we want more flexible functions.\n",
        "\n",
        "For example, we may want to define a function which accepts more arguments than we have specified in the function.\n",
        "\n",
        "In other words, we may need to pass any number of arguments to our function.\n",
        "\n",
        "We can use the special syntax ***args** and ****kwargs** in our function definitions to achieve that.\n",
        "\n",
        "***args**: non-named variable-length arguments.\n"
      ]
    },
    {
      "cell_type": "code",
      "metadata": {
        "id": "psyvc8Kml4Qk",
        "colab": {
          "base_uri": "https://localhost:8080/"
        },
        "outputId": "46eb21ae-e536-43ec-e78b-36b0db891e71"
      },
      "source": [
        "def args_example(*args):\n",
        "    print(type(args))\n",
        "    print(args)\n",
        "\n",
        "args_example(1, 23, 4, 52, 2, 123, 498)"
      ],
      "execution_count": 41,
      "outputs": [
        {
          "output_type": "stream",
          "name": "stdout",
          "text": [
            "<class 'tuple'>\n",
            "(1, 23, 4, 52, 2, 123, 498)\n"
          ]
        }
      ]
    },
    {
      "cell_type": "markdown",
      "metadata": {
        "id": "4sOBHu46l4Ql"
      },
      "source": [
        "### Actually, the variable name can be whatever, we just need to insert one asterisk * or two asterisks ** before it."
      ]
    },
    {
      "cell_type": "code",
      "metadata": {
        "id": "3LwiGe2cl4Ql",
        "colab": {
          "base_uri": "https://localhost:8080/"
        },
        "outputId": "54d4c20c-36f3-4780-b664-8ce403c253f3"
      },
      "source": [
        "# Import the sum function from the built-in module\n",
        "from builtins import sum\n",
        "\n",
        "def get_average(*args):\n",
        "    total = sum(args)\n",
        "    return total / len(args)\n",
        "\n",
        "print(get_average(5, 10, 15))\n",
        "print()\n",
        "\n",
        "def print_info(**kwargs):\n",
        "    for key, value in kwargs.items():\n",
        "        print(key, value)\n",
        "\n",
        "print_info(age=24, position=\"data analyst\")\n",
        "\n",
        "\n",
        "\n",
        "\n",
        "\n",
        "\n"
      ],
      "execution_count": 52,
      "outputs": [
        {
          "output_type": "stream",
          "name": "stdout",
          "text": [
            "10.0\n",
            "\n",
            "age 24\n",
            "position data analyst\n"
          ]
        }
      ]
    },
    {
      "cell_type": "markdown",
      "metadata": {
        "id": "ILykCMxsl4Ql"
      },
      "source": [
        "### Using * and ** When Calling a Function\n",
        "We have seen that we can use this special syntax in our function definitions. However, we can use it when we’re calling functions, too.\n"
      ]
    },
    {
      "cell_type": "code",
      "metadata": {
        "id": "6a1fs-4Wl4Ql",
        "colab": {
          "base_uri": "https://localhost:8080/"
        },
        "outputId": "e83e5e49-c87e-4052-d470-b6ccef34b846"
      },
      "source": [
        "def print_info(name, position, email):\n",
        "    print(\"name:\", name)\n",
        "    print(\"position:\", position)\n",
        "    print(\"email:\", email)\n",
        "\n",
        "details = (\"data analyst\", \"jake@gmail.com\")\n",
        "print_info(\"Jake\", *details)"
      ],
      "execution_count": 53,
      "outputs": [
        {
          "output_type": "stream",
          "name": "stdout",
          "text": [
            "name: Jake\n",
            "position: data analyst\n",
            "email: jake@gmail.com\n"
          ]
        }
      ]
    },
    {
      "cell_type": "markdown",
      "metadata": {
        "id": "m93UlYj9W2J4"
      },
      "source": [
        "# **Python Functions in Life**"
      ]
    },
    {
      "cell_type": "markdown",
      "metadata": {
        "id": "iZdc1GOjl4Ql"
      },
      "source": [
        " #  5.9 Graphics: Building an Image Processing Toolkit"
      ]
    },
    {
      "cell_type": "markdown",
      "metadata": {
        "id": "t6rieSFul4Ql"
      },
      "source": [
        "## **5.9.1 Getting Started**"
      ]
    },
    {
      "cell_type": "markdown",
      "metadata": {
        "id": "PtwuANiNl4Ql"
      },
      "source": [
        "## **5.9.2 Comparing Images**"
      ]
    },
    {
      "cell_type": "markdown",
      "metadata": {
        "id": "ETdGxBGEl4Qm"
      },
      "source": [
        "## **5.9.3 Adjusting Image Brightness**"
      ]
    },
    {
      "cell_type": "markdown",
      "metadata": {
        "id": "_xEu7Nthl4Qm"
      },
      "source": [
        "## **5.9.4 Rotating an Image**"
      ]
    },
    {
      "cell_type": "markdown",
      "metadata": {
        "id": "7HpnxcUFl4Qm"
      },
      "source": [
        "## **5.9.5 Using the Toolkit**"
      ]
    },
    {
      "cell_type": "markdown",
      "metadata": {
        "id": "1fw205j_l4Qm"
      },
      "source": [
        "# **5.10 Recursive Functions (Optional)**"
      ]
    },
    {
      "cell_type": "markdown",
      "metadata": {
        "id": "G0HgRsEBl4Qm"
      },
      "source": [
        "# **Summary**"
      ]
    },
    {
      "cell_type": "markdown",
      "metadata": {
        "id": "cgcQstz7V1qU"
      },
      "source": [
        "#### **Understand the concepts of functions, arguments, and return values.**"
      ]
    },
    {
      "cell_type": "markdown",
      "metadata": {
        "id": "tOFUjZF8VpeB"
      },
      "source": [
        "• A function is a named sequence of instructions.\n",
        "\n",
        "• Arguments are supplied when a function is called.\n",
        "\n",
        "• The return value is the result that the function computes.\n",
        "\n",
        "• Returning a value from a function is not the same as producing program output."
      ]
    },
    {
      "cell_type": "markdown",
      "metadata": {
        "id": "8qVhXvEQWEJd"
      },
      "source": [
        "#### **Be able to implement functions.**"
      ]
    },
    {
      "cell_type": "markdown",
      "metadata": {
        "id": "szfgqUj5WVa2"
      },
      "source": [
        "• When defining a function, you provide a name for the function and a variable for each argument.\n",
        "\n",
        "• Function comments explain the purpose of the function, the meaning of the parameter variables and return value, as well as any special requirements."
      ]
    },
    {
      "cell_type": "markdown",
      "metadata": {
        "id": "-0PPKY4TWfY4"
      },
      "source": [
        "#### **Implement decisions whose branches require further decisions.**"
      ]
    },
    {
      "cell_type": "markdown",
      "metadata": {
        "id": "Zj4DbjJHXHHq"
      },
      "source": [
        "• When a decision statement is contained inside the branch of another decision statement, the statements are nested.\n",
        "\n",
        "• Nested decisions are required for problems that have multiple levels of decision making."
      ]
    },
    {
      "cell_type": "markdown",
      "metadata": {
        "id": "NJ9Kgk1cXM-6"
      },
      "source": [
        "#### **Describe the process of parameter passing.**"
      ]
    },
    {
      "cell_type": "markdown",
      "metadata": {
        "id": "rjNnj_ekXXQ6"
      },
      "source": [
        "• Parameter variables hold the arguments supplied in the function call."
      ]
    },
    {
      "cell_type": "markdown",
      "metadata": {
        "id": "YzB0c37vl4Qn"
      },
      "source": [
        "#### **Describe the process of returning a value from a function.**"
      ]
    },
    {
      "cell_type": "markdown",
      "metadata": {
        "id": "-WD6qIexl4Qn"
      },
      "source": [
        "• The return statement terminates a function call and yields the function result.\n",
        "\n",
        "• Turn computations that can be reused into functions."
      ]
    },
    {
      "cell_type": "markdown",
      "metadata": {
        "id": "kx3ntPBVl4Qn"
      },
      "source": [
        "#### **Design and implement functions without return values.**"
      ]
    },
    {
      "cell_type": "markdown",
      "metadata": {
        "id": "EvRjAcIHl4Qn"
      },
      "source": [
        "• Some functions may not return a value, but they can produce output."
      ]
    },
    {
      "cell_type": "markdown",
      "metadata": {
        "id": "c7YeaCtbl4Qn"
      },
      "source": [
        "#### **Develop functions that can be reused for multiple problems.**"
      ]
    },
    {
      "cell_type": "markdown",
      "metadata": {
        "id": "7CKDf5yQl4Qn"
      },
      "source": [
        "• Eliminate replicated code or pseudocode by defining a function.\n",
        "\n",
        "• Design your functions to be reusable. Supply parameter variables for the values that can vary when the function is reused."
      ]
    },
    {
      "cell_type": "markdown",
      "metadata": {
        "id": "JPKDDGmtl4Qn"
      },
      "source": [
        "#### **Apply the design principle of stepwise refinement.**"
      ]
    },
    {
      "cell_type": "markdown",
      "metadata": {
        "id": "rAxkz-Dkl4Qo"
      },
      "source": [
        "• Use the process of stepwise refinement to decompose complex tasks into simpler ones.\n",
        "\n",
        "• When you discover that you need a function, write a description of the parameter variables and return values.\n",
        "\n",
        "• A function may require simpler functions to carry out its work.\n",
        "     "
      ]
    },
    {
      "cell_type": "markdown",
      "metadata": {
        "id": "c785E9Cpl4Qo"
      },
      "source": [
        "#### **Determine the scope of variables in a program.**"
      ]
    },
    {
      "cell_type": "markdown",
      "metadata": {
        "id": "H_FhxrIsl4Qo"
      },
      "source": [
        "• The scope of a variable is the part of the program in which it is visible.\n",
        "\n",
        "• A local variable is one defined within a function or code block.\n",
        "\n",
        "• A global variable is defined outside of a function."
      ]
    },
    {
      "cell_type": "markdown",
      "metadata": {
        "id": "KAvyOd4Nl4Qo"
      },
      "source": [
        "#### **Design and build a software toolkit of related functions.**"
      ]
    },
    {
      "cell_type": "markdown",
      "metadata": {
        "id": "NlBX18mAl4Qo"
      },
      "source": [
        "• A toolkit provides a collection of related functions or classes for solving a specific task.\n",
        "\n",
        "• Functions defined in a toolkit must be imported before they can be used in your program."
      ]
    },
    {
      "cell_type": "markdown",
      "metadata": {
        "id": "pD8vGI9wl4Qo"
      },
      "source": [
        "#### **Understand recursive function calls and implement simple recursive functions.**"
      ]
    },
    {
      "cell_type": "markdown",
      "metadata": {
        "id": "e78dS0_Pl4Qp"
      },
      "source": [
        "• A recursive computation solves a problem by using the solution to the same problem with simpler inputs.\n",
        "\n",
        "• For a recursion to terminate, there must be special cases for the simplest inputs.\n",
        "\n",
        "• The key to finding a recursive solution is reducing the input to a simpler input for the same problem.\n",
        "\n",
        "• When designing a recursive solution, do not worry about multiple nested calls. Simply focus on reducing a problem to a slightly simpler one."
      ]
    }
  ]
}