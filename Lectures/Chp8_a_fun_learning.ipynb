{
  "cells": [
    {
      "cell_type": "markdown",
      "metadata": {
        "id": "view-in-github",
        "colab_type": "text"
      },
      "source": [
        "<a href=\"https://colab.research.google.com/github/Dong2Yo/DATA3550_1232/blob/main/Lectures/Chp8_a_fun_learning.ipynb\" target=\"_parent\"><img src=\"https://colab.research.google.com/assets/colab-badge.svg\" alt=\"Open In Colab\"/></a>"
      ]
    },
    {
      "cell_type": "markdown",
      "id": "2dff5e43-c0e9-4f4e-90b5-70d2e883de39",
      "metadata": {
        "id": "2dff5e43-c0e9-4f4e-90b5-70d2e883de39"
      },
      "source": [
        "# Fun Learning: Set and Dictionary Operations\n",
        "\n",
        "## Introduction:\n",
        "\n",
        "In this notebook, we will cover the fundamentals of set and dictionary operations in Python.\n",
        "We'll start with basic concepts and gradually move to more complex data structures and operations.\n",
        "\n",
        "\n",
        "\n",
        "Sets and dictionaries are powerful data structures in Python for various operations.\n",
        "Understanding their usage and operations is essential for efficient programming and data manipulation.\n"
      ]
    },
    {
      "cell_type": "markdown",
      "id": "dbd4fe57-52b1-43f2-acda-f3fe0c19db68",
      "metadata": {
        "tags": [],
        "id": "dbd4fe57-52b1-43f2-acda-f3fe0c19db68"
      },
      "source": [
        "## Section 1: Set Operations\n",
        "\n",
        "### 1.1 Creating Sets\n",
        "\n",
        "Sets are ordered collections of unique elements."
      ]
    },
    {
      "cell_type": "code",
      "execution_count": null,
      "id": "813d2514-e687-4766-820d-02d5e09949e6",
      "metadata": {
        "id": "813d2514-e687-4766-820d-02d5e09949e6"
      },
      "outputs": [],
      "source": []
    },
    {
      "cell_type": "markdown",
      "id": "27ed98db-e7cb-4bd7-857c-bea41bac02f4",
      "metadata": {
        "id": "27ed98db-e7cb-4bd7-857c-bea41bac02f4"
      },
      "source": [
        "### 1.2 Adding and Removing Elements\n",
        "\n",
        "Adding elements to a set"
      ]
    },
    {
      "cell_type": "code",
      "execution_count": null,
      "id": "c580ec1c-cddd-4cc3-8a60-235cea8fd5bb",
      "metadata": {
        "id": "c580ec1c-cddd-4cc3-8a60-235cea8fd5bb"
      },
      "outputs": [],
      "source": []
    },
    {
      "cell_type": "markdown",
      "id": "7943a05f-2093-473d-9617-04d3974f500f",
      "metadata": {
        "id": "7943a05f-2093-473d-9617-04d3974f500f"
      },
      "source": [
        "Removing elements from a set"
      ]
    },
    {
      "cell_type": "code",
      "execution_count": null,
      "id": "6796b3cb-404f-4697-87d8-e0d0c13e7c6e",
      "metadata": {
        "id": "6796b3cb-404f-4697-87d8-e0d0c13e7c6e"
      },
      "outputs": [],
      "source": []
    },
    {
      "cell_type": "markdown",
      "id": "50b39d2a-14ce-4d23-8216-c119b10c650b",
      "metadata": {
        "tags": [],
        "id": "50b39d2a-14ce-4d23-8216-c119b10c650b"
      },
      "source": [
        "### 1.3 Set Operations\n",
        "Union, Intersection, Difference, and Symmetric Difference"
      ]
    },
    {
      "cell_type": "code",
      "execution_count": null,
      "id": "44efc23d-57fe-4270-be70-82864d0a3822",
      "metadata": {
        "id": "44efc23d-57fe-4270-be70-82864d0a3822"
      },
      "outputs": [],
      "source": [
        "set1 = {1, 2, 3, 4, 5}\n",
        "set2 = {4, 5, 6, 7, 8}"
      ]
    },
    {
      "cell_type": "code",
      "execution_count": null,
      "id": "6b84c16e-f7a9-4467-a498-ae1c3a3df9bb",
      "metadata": {
        "id": "6b84c16e-f7a9-4467-a498-ae1c3a3df9bb"
      },
      "outputs": [],
      "source": []
    },
    {
      "cell_type": "code",
      "execution_count": null,
      "id": "7080f505-3eb7-42b2-93cb-13db3712a8b9",
      "metadata": {
        "id": "7080f505-3eb7-42b2-93cb-13db3712a8b9"
      },
      "outputs": [],
      "source": []
    },
    {
      "cell_type": "code",
      "execution_count": null,
      "id": "d091c2a3-9aee-4687-9384-ae59b121aaf1",
      "metadata": {
        "id": "d091c2a3-9aee-4687-9384-ae59b121aaf1"
      },
      "outputs": [],
      "source": []
    },
    {
      "cell_type": "markdown",
      "id": "6a705096-e7a6-4630-bfe0-500bb6d4818b",
      "metadata": {
        "id": "6a705096-e7a6-4630-bfe0-500bb6d4818b"
      },
      "source": [
        "The set which contains the elements which are either in set A or in set B but not in both is called the symmetric difference between two given sets. It is represented by A ⊝ B and is read as a symmetric difference of set A and B."
      ]
    },
    {
      "cell_type": "code",
      "execution_count": null,
      "id": "275bb6b4-f354-443f-8259-153e2e8c5f1e",
      "metadata": {
        "id": "275bb6b4-f354-443f-8259-153e2e8c5f1e"
      },
      "outputs": [],
      "source": []
    },
    {
      "cell_type": "markdown",
      "id": "2d752339-7464-4ad3-a5b0-1712f68a9ae0",
      "metadata": {
        "id": "2d752339-7464-4ad3-a5b0-1712f68a9ae0"
      },
      "source": [
        "\n",
        "## Section 2: Dictionary Operations\n",
        "\n",
        "### 2.1 Creating Dictionaries\n",
        "\n",
        "Dictionaries are unordered collections of key-value pairs."
      ]
    },
    {
      "cell_type": "code",
      "execution_count": null,
      "id": "6be03973-7001-4a79-b97d-aaec52ccd06e",
      "metadata": {
        "id": "6be03973-7001-4a79-b97d-aaec52ccd06e"
      },
      "outputs": [],
      "source": []
    },
    {
      "cell_type": "markdown",
      "id": "19b6ccbb-7eb9-4411-aa08-a5e559c56454",
      "metadata": {
        "id": "19b6ccbb-7eb9-4411-aa08-a5e559c56454"
      },
      "source": [
        "### 2.2 Accessing and Modifying Elements\n",
        "\n",
        "Accessing value using key"
      ]
    },
    {
      "cell_type": "code",
      "execution_count": null,
      "id": "f38f8ae5-f30e-4b12-ac8b-dac656d068c7",
      "metadata": {
        "id": "f38f8ae5-f30e-4b12-ac8b-dac656d068c7"
      },
      "outputs": [],
      "source": []
    },
    {
      "cell_type": "code",
      "execution_count": null,
      "id": "3f099665-4287-4a92-8a3d-022c8cdc8ed8",
      "metadata": {
        "id": "3f099665-4287-4a92-8a3d-022c8cdc8ed8"
      },
      "outputs": [],
      "source": []
    },
    {
      "cell_type": "markdown",
      "id": "eaab4cc0-3477-47c2-bb51-ebf93b53d7ee",
      "metadata": {
        "id": "eaab4cc0-3477-47c2-bb51-ebf93b53d7ee"
      },
      "source": [
        "## 2.3 Dictionary Operations\n",
        "\n",
        "Keys, Values, and Items"
      ]
    },
    {
      "cell_type": "code",
      "execution_count": null,
      "id": "58c62572-6645-4373-8521-941391407e5f",
      "metadata": {
        "id": "58c62572-6645-4373-8521-941391407e5f"
      },
      "outputs": [],
      "source": []
    },
    {
      "cell_type": "code",
      "execution_count": null,
      "id": "c48f7f51-31d4-49e5-8705-0859cf3ca31b",
      "metadata": {
        "id": "c48f7f51-31d4-49e5-8705-0859cf3ca31b"
      },
      "outputs": [],
      "source": []
    },
    {
      "cell_type": "code",
      "execution_count": null,
      "id": "8dd98d01-9fdf-4cfd-b679-816d81b7e56b",
      "metadata": {
        "id": "8dd98d01-9fdf-4cfd-b679-816d81b7e56b"
      },
      "outputs": [],
      "source": []
    },
    {
      "cell_type": "markdown",
      "id": "e817dd16-4921-4270-ab1f-3dc283ffaca2",
      "metadata": {
        "id": "e817dd16-4921-4270-ab1f-3dc283ffaca2"
      },
      "source": [
        "## 2.4 Dictionary Comprehension\n",
        "\n",
        "Creating a dictionary using comprehension"
      ]
    },
    {
      "cell_type": "code",
      "execution_count": null,
      "id": "b0949423-6288-4569-850e-83498067683a",
      "metadata": {
        "id": "b0949423-6288-4569-850e-83498067683a"
      },
      "outputs": [],
      "source": []
    },
    {
      "cell_type": "markdown",
      "id": "fe7e9da5-ab35-460c-a2a8-db93104c65b4",
      "metadata": {
        "id": "fe7e9da5-ab35-460c-a2a8-db93104c65b4"
      },
      "source": [
        "## Section 3: Working with Complex Data Structures"
      ]
    },
    {
      "cell_type": "markdown",
      "id": "2c16cdc0-1121-4c9f-8084-74a6f72a5b96",
      "metadata": {
        "id": "2c16cdc0-1121-4c9f-8084-74a6f72a5b96"
      },
      "source": [
        "### 3.1 Nested Data Structures\n",
        "\n",
        "Dictionaries can contain other dictionaries or sets as values."
      ]
    },
    {
      "cell_type": "code",
      "execution_count": null,
      "id": "547a6ebd-cc05-419c-9297-10828cfb2691",
      "metadata": {
        "id": "547a6ebd-cc05-419c-9297-10828cfb2691"
      },
      "outputs": [],
      "source": []
    },
    {
      "cell_type": "markdown",
      "id": "14ddfce6-df1a-48e8-810d-4b6625102217",
      "metadata": {
        "id": "14ddfce6-df1a-48e8-810d-4b6625102217"
      },
      "source": [
        "### 3.2 Table Lookups using Dictionaries\n",
        "\n",
        "Dictionaries are often used for efficient table lookups."
      ]
    },
    {
      "cell_type": "code",
      "execution_count": null,
      "id": "a0538129-431c-4502-836c-683e7aa0abb4",
      "metadata": {
        "id": "a0538129-431c-4502-836c-683e7aa0abb4"
      },
      "outputs": [],
      "source": []
    },
    {
      "cell_type": "code",
      "execution_count": null,
      "id": "68e39f26-f80a-4c85-9260-8321f8abf362",
      "metadata": {
        "id": "68e39f26-f80a-4c85-9260-8321f8abf362"
      },
      "outputs": [],
      "source": []
    },
    {
      "cell_type": "markdown",
      "id": "c52a3644-e950-4377-8b08-19deaab3f165",
      "metadata": {
        "id": "c52a3644-e950-4377-8b08-19deaab3f165"
      },
      "source": [
        "## Section 4: Difference between Lists, Sets, Dictionaries, and Tuples\n"
      ]
    },
    {
      "cell_type": "markdown",
      "id": "988e61a7-5e37-4854-82e5-a1628c4cb5dc",
      "metadata": {
        "id": "988e61a7-5e37-4854-82e5-a1628c4cb5dc"
      },
      "source": [
        "### 4.11 Lists are unordered collections of elements."
      ]
    },
    {
      "cell_type": "code",
      "execution_count": null,
      "id": "f4dd0b0e-0b43-476f-912c-c7ddd958806e",
      "metadata": {
        "id": "f4dd0b0e-0b43-476f-912c-c7ddd958806e"
      },
      "outputs": [],
      "source": []
    },
    {
      "cell_type": "markdown",
      "id": "e1f0413a-f163-4fb5-b1bd-fb6b90fb66cc",
      "metadata": {
        "id": "e1f0413a-f163-4fb5-b1bd-fb6b90fb66cc"
      },
      "source": [
        "### 4.12 Mutability\n",
        "\n",
        "**Lists are mutable, meaning their elements can be changed after creation.**"
      ]
    },
    {
      "cell_type": "code",
      "execution_count": null,
      "id": "833ab163-7cb3-4fec-9650-91fdb3e59ad7",
      "metadata": {
        "id": "833ab163-7cb3-4fec-9650-91fdb3e59ad7"
      },
      "outputs": [],
      "source": []
    },
    {
      "cell_type": "markdown",
      "id": "afea1ed5-a216-413d-b42c-c2c69b9b92a8",
      "metadata": {
        "id": "afea1ed5-a216-413d-b42c-c2c69b9b92a8"
      },
      "source": [
        "### 4.21 Sets are ordered collections of unique elements."
      ]
    },
    {
      "cell_type": "code",
      "execution_count": null,
      "id": "fada8849-b737-4054-83e3-f1928f35d725",
      "metadata": {
        "id": "fada8849-b737-4054-83e3-f1928f35d725"
      },
      "outputs": [],
      "source": []
    },
    {
      "cell_type": "markdown",
      "id": "a9399eca-200f-48a7-8e1a-e120d293f62b",
      "metadata": {
        "id": "a9399eca-200f-48a7-8e1a-e120d293f62b"
      },
      "source": [
        "### 4.22 Uniqueness\n",
        "\n",
        "Sets do not allow duplicate elements."
      ]
    },
    {
      "cell_type": "code",
      "execution_count": null,
      "id": "760d5c47-b230-4966-b01c-2bebae037018",
      "metadata": {
        "id": "760d5c47-b230-4966-b01c-2bebae037018"
      },
      "outputs": [],
      "source": []
    },
    {
      "cell_type": "markdown",
      "id": "aed6c1ff-230d-4f26-9be3-632fc1727134",
      "metadata": {
        "id": "aed6c1ff-230d-4f26-9be3-632fc1727134"
      },
      "source": [
        "### 4.31 Dictionaries are collections of key-value pairs."
      ]
    },
    {
      "cell_type": "code",
      "execution_count": null,
      "id": "f92e0144-3ee0-4dad-8cbf-a5dd9e6e3721",
      "metadata": {
        "id": "f92e0144-3ee0-4dad-8cbf-a5dd9e6e3721"
      },
      "outputs": [],
      "source": []
    },
    {
      "cell_type": "markdown",
      "id": "8ad220d3-1be1-4147-a7d6-95725882c000",
      "metadata": {
        "id": "8ad220d3-1be1-4147-a7d6-95725882c000"
      },
      "source": [
        "### 4.32 Key-Value Structure\n",
        "\n",
        "Keys in dictionaries are unique, but values can be duplicated."
      ]
    },
    {
      "cell_type": "code",
      "execution_count": null,
      "id": "9cf8bf42-a786-490a-a16f-21b7edec4ee6",
      "metadata": {
        "id": "9cf8bf42-a786-490a-a16f-21b7edec4ee6"
      },
      "outputs": [],
      "source": []
    },
    {
      "cell_type": "markdown",
      "id": "9dfb594d-69e6-43d0-ac94-df55eb31f1b5",
      "metadata": {
        "id": "9dfb594d-69e6-43d0-ac94-df55eb31f1b5"
      },
      "source": [
        "### 4.41 Tuples are unordered collections of elements, similar to lists, but immutable."
      ]
    },
    {
      "cell_type": "code",
      "execution_count": null,
      "id": "3a464597-4f38-4d93-b121-5efbe51aab87",
      "metadata": {
        "id": "3a464597-4f38-4d93-b121-5efbe51aab87"
      },
      "outputs": [],
      "source": []
    },
    {
      "cell_type": "markdown",
      "id": "1b65dcee-2059-4672-bbef-37c8cedbfad4",
      "metadata": {
        "id": "1b65dcee-2059-4672-bbef-37c8cedbfad4"
      },
      "source": [
        "### 4.42 Immutability\n",
        "\n",
        "Tuples cannot be changed after creation."
      ]
    },
    {
      "cell_type": "code",
      "execution_count": null,
      "id": "61113b5e-785b-4283-a283-c897367e0139",
      "metadata": {
        "id": "61113b5e-785b-4283-a283-c897367e0139"
      },
      "outputs": [],
      "source": []
    },
    {
      "cell_type": "markdown",
      "id": "b4f66338-de35-4ad1-a029-9ea9d3c50318",
      "metadata": {
        "id": "b4f66338-de35-4ad1-a029-9ea9d3c50318"
      },
      "source": [
        "## Section 5: Workbook"
      ]
    },
    {
      "cell_type": "markdown",
      "id": "42c36286-092e-4ad7-a092-4f6a31e33cfa",
      "metadata": {
        "id": "42c36286-092e-4ad7-a092-4f6a31e33cfa"
      },
      "source": [
        "### Sales Analysis Workbook\n",
        "\n",
        "**Introduction**\n",
        "\n",
        "You are a data analyst at a retail company tasked with analyzing sales data to identify trends and improve business strategies.\n",
        "\n"
      ]
    },
    {
      "cell_type": "markdown",
      "id": "1fd6830d-f75e-46e8-8d21-a768cbea6db8",
      "metadata": {
        "id": "1fd6830d-f75e-46e8-8d21-a768cbea6db8"
      },
      "source": [
        "Let's create a container including unique product IDs(P001 -P003), and quantity sold during a specific period."
      ]
    },
    {
      "cell_type": "code",
      "execution_count": null,
      "id": "bf402a35-b786-4f92-933c-0ee9a20ec3a9",
      "metadata": {
        "id": "bf402a35-b786-4f92-933c-0ee9a20ec3a9"
      },
      "outputs": [],
      "source": [
        "sales_data = [\n",
        "    {'product_id': 'P001', 'quantity': 10},\n",
        "    {'product_id': 'P002', 'quantity': 5},\n",
        "    {'product_id': 'P001', 'quantity': 8},\n",
        "    {'product_id': 'P003', 'quantity': 3},\n",
        "    {'product_id': 'P002', 'quantity': 7}\n",
        "]"
      ]
    },
    {
      "cell_type": "markdown",
      "id": "9b4707ae-18be-487d-910a-e2fec7572799",
      "metadata": {
        "id": "9b4707ae-18be-487d-910a-e2fec7572799"
      },
      "source": [
        "### Activity 1: Extracting unique product IDs using sets\n",
        "\n"
      ]
    },
    {
      "cell_type": "code",
      "execution_count": null,
      "id": "7e4a8b9e-b4a9-484a-bcf9-6a6cc0c911d3",
      "metadata": {
        "id": "7e4a8b9e-b4a9-484a-bcf9-6a6cc0c911d3"
      },
      "outputs": [],
      "source": []
    },
    {
      "cell_type": "markdown",
      "id": "9350f858-a8df-4edc-8243-7ef0d5c989d4",
      "metadata": {
        "id": "9350f858-a8df-4edc-8243-7ef0d5c989d4"
      },
      "source": [
        "### Activity 2: Products sold in both previous and current month\n",
        "\n",
        "Let's perform set operations to analyze product sales.\n",
        "\n"
      ]
    },
    {
      "cell_type": "code",
      "execution_count": null,
      "id": "a654c756-09ab-48ec-880d-049e91d50df4",
      "metadata": {
        "id": "a654c756-09ab-48ec-880d-049e91d50df4"
      },
      "outputs": [],
      "source": [
        "previous_month_sales = {'P001', 'P002', 'P004'}"
      ]
    },
    {
      "cell_type": "code",
      "execution_count": null,
      "id": "ac319193-b49e-4203-8c74-51fb39122b02",
      "metadata": {
        "id": "ac319193-b49e-4203-8c74-51fb39122b02"
      },
      "outputs": [],
      "source": []
    },
    {
      "cell_type": "code",
      "execution_count": null,
      "id": "1b3fd605-a1fb-4e3a-8220-9b34df4cd844",
      "metadata": {
        "id": "1b3fd605-a1fb-4e3a-8220-9b34df4cd844"
      },
      "outputs": [],
      "source": []
    },
    {
      "cell_type": "markdown",
      "id": "e4781aba-5535-4e3e-a7de-a3c8450654b1",
      "metadata": {
        "id": "e4781aba-5535-4e3e-a7de-a3c8450654b1"
      },
      "source": [
        "### Activity 3: Creating a Sales Dictionary\n",
        "\n"
      ]
    },
    {
      "cell_type": "code",
      "execution_count": null,
      "id": "291cbddf-7b7d-4b07-b689-661398b49932",
      "metadata": {
        "id": "291cbddf-7b7d-4b07-b689-661398b49932"
      },
      "outputs": [],
      "source": [
        "# Product Information Dictionary\n",
        "product_info = {\n",
        "    'P001': {'name': 'Shirt', 'price': 25},\n",
        "    'P002': {'name': 'Jeans', 'price': 40},\n",
        "    'P003': {'name': 'Shoes', 'price': 60},\n",
        "    'P004': {'name': 'Hat', 'price': 15}\n",
        "}\n"
      ]
    },
    {
      "cell_type": "markdown",
      "id": "e36439d5-1b36-4c71-972f-65eaff62f136",
      "metadata": {
        "id": "e36439d5-1b36-4c71-972f-65eaff62f136"
      },
      "source": [
        "**Let's create a dictionary to store sales data.**"
      ]
    },
    {
      "cell_type": "code",
      "execution_count": null,
      "id": "bcf840fb-8f04-40f7-90d3-c7d248e8a84f",
      "metadata": {
        "id": "bcf840fb-8f04-40f7-90d3-c7d248e8a84f"
      },
      "outputs": [],
      "source": []
    },
    {
      "cell_type": "markdown",
      "id": "2f411819-9150-4ce3-9c91-b9526d21aefc",
      "metadata": {
        "id": "2f411819-9150-4ce3-9c91-b9526d21aefc"
      },
      "source": [
        "### Activity 4: Dictionary Operations\n",
        "\n",
        "Let's perform operations to retrieve product information."
      ]
    },
    {
      "cell_type": "code",
      "execution_count": null,
      "id": "ba6bcc0c-76ec-475f-af3f-e85b177eb49b",
      "metadata": {
        "id": "ba6bcc0c-76ec-475f-af3f-e85b177eb49b"
      },
      "outputs": [],
      "source": []
    },
    {
      "cell_type": "code",
      "execution_count": null,
      "id": "35347eb6-9246-45e1-b53d-376ba996f40c",
      "metadata": {
        "id": "35347eb6-9246-45e1-b53d-376ba996f40c"
      },
      "outputs": [],
      "source": [
        "# Retrieve product name and total sales\n",
        "for product_id, quantity_sold in sales_dict.items():\n",
        "    product_name = product_info[product_id]['name']\n",
        "    total_sales = quantity_sold * product_info[product_id]['price']\n",
        "    print(f\"Product ID: {product_id}, Name: {product_name}, Total Sales: ${total_sales}\")"
      ]
    },
    {
      "cell_type": "markdown",
      "id": "9d3f48ae-b4ec-4774-b21b-551bbe4e3c23",
      "metadata": {
        "id": "9d3f48ae-b4ec-4774-b21b-551bbe4e3c23"
      },
      "source": [
        "### Activity 5: Dictionary Operations\n",
        "\n"
      ]
    },
    {
      "cell_type": "code",
      "execution_count": null,
      "id": "1d3fa42c-a048-4193-a613-063ac2169569",
      "metadata": {
        "id": "1d3fa42c-a048-4193-a613-063ac2169569"
      },
      "outputs": [],
      "source": [
        "sales_transactions = [\n",
        "    {'product_id': 'P001', 'quantity': 10, 'date': '2024-01-05'},\n",
        "    {'product_id': 'P002', 'quantity': 5, 'date': '2024-01-10'},\n",
        "    {'product_id': 'P001', 'quantity': 8, 'date': '2024-01-15'},\n",
        "    {'product_id': 'P003', 'quantity': 3, 'date': '2024-01-20'},\n",
        "    {'product_id': 'P002', 'quantity': 7, 'date': '2024-01-25'}\n",
        "]\n",
        "\n",
        "print(\"Sales Transactions List:\", sales_transactions)"
      ]
    },
    {
      "cell_type": "markdown",
      "id": "8e5d498c-f3b5-411c-9736-dbfaaeb29103",
      "metadata": {
        "id": "8e5d498c-f3b5-411c-9736-dbfaaeb29103"
      },
      "source": [
        "**Let's perform operations to analyze sales data.**"
      ]
    },
    {
      "cell_type": "code",
      "execution_count": null,
      "id": "de44384a-62eb-47c8-aef5-24aa03211d7f",
      "metadata": {
        "id": "de44384a-62eb-47c8-aef5-24aa03211d7f"
      },
      "outputs": [],
      "source": []
    },
    {
      "cell_type": "markdown",
      "id": "d6b37328-b4bc-46b5-a52c-bdc692a8fbdd",
      "metadata": {
        "id": "d6b37328-b4bc-46b5-a52c-bdc692a8fbdd"
      },
      "source": [
        "## Section 6: BProduct Recommendation System"
      ]
    },
    {
      "cell_type": "markdown",
      "id": "3f388815-80dd-46a5-bec0-1ed2f9b9acfc",
      "metadata": {
        "id": "3f388815-80dd-46a5-bec0-1ed2f9b9acfc"
      },
      "source": [
        "You are working for an e-commerce platform that wants to implement a product recommendation system to enhance customer experience and increase sales."
      ]
    },
    {
      "cell_type": "code",
      "execution_count": null,
      "id": "78ab0857-fc1a-41ab-9316-a865b81a73c7",
      "metadata": {
        "id": "78ab0857-fc1a-41ab-9316-a865b81a73c7"
      },
      "outputs": [],
      "source": [
        "# Let's assume we have access to the purchase history of users in the form of a dictionary where keys are user IDs and values are sets of purchased products.\n",
        "\n",
        "user_purchase_history = {\n",
        "    'user1': {'P001', 'P002', 'P003'},\n",
        "    'user2': {'P002', 'P004', 'P005'},\n",
        "    'user3': {'P001', 'P003', 'P006'},\n",
        "    'user4': {'P003', 'P004', 'P006', 'P007'},\n",
        "    'user5': {'P001', 'P005', 'P007'}\n",
        "}\n"
      ]
    },
    {
      "cell_type": "code",
      "execution_count": null,
      "id": "6b30f302-60ec-4f33-ab9c-e694a02cc6cf",
      "metadata": {
        "id": "6b30f302-60ec-4f33-ab9c-e694a02cc6cf"
      },
      "outputs": [],
      "source": [
        "# We also have access to the product catalog, which contains information about each product.\n",
        "\n",
        "product_catalog = {\n",
        "    'P001': {'name': 'Shirt', 'category': 'Clothing'},\n",
        "    'P002': {'name': 'Jeans', 'category': 'Clothing'},\n",
        "    'P003': {'name': 'Shoes', 'category': 'Footwear'},\n",
        "    'P004': {'name': 'Watch', 'category': 'Accessories'},\n",
        "    'P005': {'name': 'Sunglasses', 'category': 'Accessories'},\n",
        "    'P006': {'name': 'Laptop', 'category': 'Electronics'},\n",
        "    'P007': {'name': 'Headphones', 'category': 'Electronics'}\n",
        "}\n"
      ]
    },
    {
      "cell_type": "markdown",
      "id": "636a38f8-5840-4b7b-9070-aac6cddbd890",
      "metadata": {
        "id": "636a38f8-5840-4b7b-9070-aac6cddbd890"
      },
      "source": [
        "**We will develop a simple recommendation system that suggests products to users based on their purchase history.**\n"
      ]
    },
    {
      "cell_type": "code",
      "execution_count": null,
      "id": "8ecec2fb-a921-4f42-8165-2f9f8ec6c77e",
      "metadata": {
        "id": "8ecec2fb-a921-4f42-8165-2f9f8ec6c77e"
      },
      "outputs": [],
      "source": []
    },
    {
      "cell_type": "code",
      "execution_count": null,
      "id": "2adf0430-ff1f-44e8-94e2-e8818118f1ca",
      "metadata": {
        "id": "2adf0430-ff1f-44e8-94e2-e8818118f1ca"
      },
      "outputs": [],
      "source": [
        "# Let's test the recommendation system with some sample users.\n",
        "\n",
        "sample_users = ['user1', 'user2', 'user3', 'user4', 'user5']\n",
        "\n",
        "# Generate and print recommendations for each sample user\n",
        "for user in sample_users:\n",
        "    print(f\"Recommendations for {user}: {generate_recommendations(user)}\")"
      ]
    },
    {
      "cell_type": "code",
      "execution_count": null,
      "id": "735f0966-6c1c-448d-ad53-5b703a8c9412",
      "metadata": {
        "id": "735f0966-6c1c-448d-ad53-5b703a8c9412"
      },
      "outputs": [],
      "source": []
    }
  ],
  "metadata": {
    "kernelspec": {
      "display_name": "Python 3 (ipykernel)",
      "language": "python",
      "name": "python3"
    },
    "language_info": {
      "codemirror_mode": {
        "name": "ipython",
        "version": 3
      },
      "file_extension": ".py",
      "mimetype": "text/x-python",
      "name": "python",
      "nbconvert_exporter": "python",
      "pygments_lexer": "ipython3",
      "version": "3.8.16"
    },
    "colab": {
      "provenance": [],
      "include_colab_link": true
    }
  },
  "nbformat": 4,
  "nbformat_minor": 5
}