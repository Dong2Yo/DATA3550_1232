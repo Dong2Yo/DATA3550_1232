{
  "nbformat": 4,
  "nbformat_minor": 0,
  "metadata": {
    "colab": {
      "provenance": [],
      "authorship_tag": "ABX9TyMYqUexvvN+58pQMXwFLTiE",
      "include_colab_link": true
    },
    "kernelspec": {
      "name": "python3",
      "display_name": "Python 3"
    },
    "language_info": {
      "name": "python"
    }
  },
  "cells": [
    {
      "cell_type": "markdown",
      "metadata": {
        "id": "view-in-github",
        "colab_type": "text"
      },
      "source": [
        "<a href=\"https://colab.research.google.com/github/Dong2Yo/DATA3550_1232/blob/main/Lectures/Chp6_a_Fullname_ipynb.ipynb\" target=\"_parent\"><img src=\"https://colab.research.google.com/assets/colab-badge.svg\" alt=\"Open In Colab\"/></a>"
      ]
    },
    {
      "cell_type": "markdown",
      "source": [
        "Full Names List"
      ],
      "metadata": {
        "id": "BC9DiPOSUS5A"
      }
    },
    {
      "cell_type": "code",
      "execution_count": 3,
      "metadata": {
        "id": "sdgnZGcFUB7_"
      },
      "outputs": [],
      "source": [
        "firstNames = [\"Joe\", \"Jim\", \"Betsy\", \"Shelly\"]\n",
        "lastNames = [\"Jones\", \"Patel\", \"Hicks\", \"Smith\", \"Lee\"]\n",
        "\n",
        "\n"
      ]
    },
    {
      "cell_type": "code",
      "source": [
        "fullNames = firstNames + lastNames\n",
        "print(fullNames)"
      ],
      "metadata": {
        "id": "LWdxPJUQUkEj",
        "colab": {
          "base_uri": "https://localhost:8080/"
        },
        "outputId": "bf3c3a11-7a93-4e79-d271-996d19b4e7a6"
      },
      "execution_count": 4,
      "outputs": [
        {
          "output_type": "stream",
          "name": "stdout",
          "text": [
            "['Joe', 'Jim', 'Betsy', 'Shelly', 'Jones', 'Patel', 'Hicks', 'Smith', 'Lee']\n"
          ]
        }
      ]
    },
    {
      "cell_type": "code",
      "source": [
        "print(firstNames[0] + \" \" + lastNames[0])\n",
        "print(firstNames[1] + \" \" + lastNames[1])\n",
        "print(firstNames[2] + \" \" + lastNames[2])\n",
        "print(firstNames[3] + \" \" )"
      ],
      "metadata": {
        "colab": {
          "base_uri": "https://localhost:8080/"
        },
        "id": "iT58jUZM7jMv",
        "outputId": "070370c3-9d46-4937-fe9b-95d8682aeae4"
      },
      "execution_count": 5,
      "outputs": [
        {
          "output_type": "stream",
          "name": "stdout",
          "text": [
            "Joe Jones\n",
            "Jim Patel\n",
            "Betsy Hicks\n",
            "Shelly \n"
          ]
        }
      ]
    },
    {
      "cell_type": "code",
      "source": [
        "for i in range(min(len(lastNames), len(firstNames))):\n",
        "  fullNames = firstNames[i] + \" \" + lastNames[i]\n",
        "  print(fullNames, end =\" \")"
      ],
      "metadata": {
        "colab": {
          "base_uri": "https://localhost:8080/"
        },
        "id": "Xpk5z2oS8H6X",
        "outputId": "788f3dfa-4b97-4ef2-f38e-7ba2f418f110"
      },
      "execution_count": 6,
      "outputs": [
        {
          "output_type": "stream",
          "name": "stdout",
          "text": [
            "Joe Jones Jim Patel Betsy Hicks Shelly Smith "
          ]
        }
      ]
    },
    {
      "cell_type": "code",
      "source": [
        "fullNames = []\n",
        "\n",
        "for i in range(len(firstNames)):\n",
        "  fullNames.append(firstNames[i] + \" \" + lastNames[i])\n",
        "\n",
        "fullNames\n"
      ],
      "metadata": {
        "colab": {
          "base_uri": "https://localhost:8080/"
        },
        "id": "rMacq5BZ8_uH",
        "outputId": "927d4314-5911-4b7e-db88-c082d0400e5a"
      },
      "execution_count": 7,
      "outputs": [
        {
          "output_type": "execute_result",
          "data": {
            "text/plain": [
              "['Joe Jones', 'Jim Patel', 'Betsy Hicks', 'Shelly Smith']"
            ]
          },
          "metadata": {},
          "execution_count": 7
        }
      ]
    },
    {
      "cell_type": "code",
      "source": [
        "def joinnames(firstNames, lastnames) :\n",
        "  fullNames = []\n",
        "  for i in range(min(len(lastNames), len(firstNames))):\n",
        "    fullNames.append(firstNames[i] + \" \" + lastNames[i])\n",
        "  return fullNames\n",
        "\n",
        "joinnames(firstNames, lastNames)"
      ],
      "metadata": {
        "colab": {
          "base_uri": "https://localhost:8080/"
        },
        "id": "6fPaiTrU-QzC",
        "outputId": "9fa09546-a5d4-4ee1-be3e-0fc7ba4727fd"
      },
      "execution_count": 8,
      "outputs": [
        {
          "output_type": "execute_result",
          "data": {
            "text/plain": [
              "['Joe Jones', 'Jim Patel', 'Betsy Hicks', 'Shelly Smith']"
            ]
          },
          "metadata": {},
          "execution_count": 8
        }
      ]
    },
    {
      "cell_type": "code",
      "source": [
        "fullNames = [\" \".join(name) for name in zip(firstNames, lastNames)]\n",
        "fullNames"
      ],
      "metadata": {
        "colab": {
          "base_uri": "https://localhost:8080/"
        },
        "id": "d7AzZotgAs2j",
        "outputId": "7285f7d3-7ea5-49eb-babf-bc551a26ac2a"
      },
      "execution_count": 9,
      "outputs": [
        {
          "output_type": "execute_result",
          "data": {
            "text/plain": [
              "['Joe Jones', 'Jim Patel', 'Betsy Hicks', 'Shelly Smith']"
            ]
          },
          "metadata": {},
          "execution_count": 9
        }
      ]
    }
  ]
}