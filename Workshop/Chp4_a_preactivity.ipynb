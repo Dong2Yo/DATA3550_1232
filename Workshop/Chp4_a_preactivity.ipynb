{
  "cells": [
    {
      "cell_type": "markdown",
      "metadata": {
        "id": "view-in-github",
        "colab_type": "text"
      },
      "source": [
        "<a href=\"https://colab.research.google.com/github/Dong2Yo/DATA3550_1232/blob/main/Workshop/Chp4_a_preactivity.ipynb\" target=\"_parent\"><img src=\"https://colab.research.google.com/assets/colab-badge.svg\" alt=\"Open In Colab\"/></a>"
      ]
    },
    {
      "cell_type": "markdown",
      "metadata": {
        "id": "kwybcodBfrT-"
      },
      "source": [
        "**1.** Write a program that reads an integer and prints whether it is , zero, positive, negative or not a number."
      ]
    },
    {
      "cell_type": "markdown",
      "metadata": {
        "id": "rIUjCmaVYarT"
      },
      "source": [
        "#### TEST CASES\n",
        "\n",
        "1. Input (0) -- Output (zero)\n",
        "\n",
        "2. Input (-10) -- Output (negative number or not a number)\n",
        "\n",
        "3. Input (230) -- Output (positive)\n",
        "\n",
        "4. Input (q) -- Output (negative number or not a number)"
      ]
    },
    {
      "cell_type": "code",
      "source": [],
      "metadata": {
        "id": "mfNSbVjtq8d7"
      },
      "execution_count": null,
      "outputs": []
    },
    {
      "cell_type": "markdown",
      "metadata": {
        "id": "cUnVpbkbYarW"
      },
      "source": [
        "**2.** Calculating the tip when you go to a restaurant is not difficult, but your restaurant wants to suggest a tip according to the service diners receive.\n",
        "\n",
        "Write a program that calculates a tip according to the diner’s satisfaction as follows:\n",
        "\n",
        "            •Ask for the diners’ satisfaction level using these ratings:\n",
        "            \n",
        "            1 = Totally satisfied, 2 = Satisfied, 3 = Dissatisfied.\n",
        "            \n",
        "\t\t\t•If the diner is totally satisfied, calculate a 20 percent tip.\n",
        "\t\t\t•If the diner is satisfied, calculate a 15 percent tip.\n",
        "\t\t\t•If the diner is dissatisfied, calculate a 10 percent tip.\n",
        "\t\t\t•Report the satisfaction level and tip in dollars and cents."
      ]
    },
    {
      "cell_type": "markdown",
      "metadata": {
        "id": "W0k215CQYarX"
      },
      "source": [
        "#### TEST CASES\n",
        "\n",
        "1. Input (1, 200) -- Output (Because you were totally satisifed, your tip should be $40.00.)\n",
        "\n",
        "2. Input (2, 200) -- Output (Because you were satisfied, your tip should be $30.00.)\n",
        "\n",
        "3. Input (3, 200) -- Output (Because you were dissatisfied, your tip should be $20.00.)\n",
        "\n",
        "4. Input (1, 150.56) -- Output (Because you were totally satisifed, your tip should be $30.11.)"
      ]
    },
    {
      "cell_type": "code",
      "execution_count": null,
      "metadata": {
        "id": "CuSiHHblYarY"
      },
      "outputs": [],
      "source": []
    }
  ],
  "metadata": {
    "colab": {
      "provenance": [],
      "include_colab_link": true
    },
    "kernelspec": {
      "display_name": "Python 3 (ipykernel)",
      "language": "python",
      "name": "python3"
    },
    "language_info": {
      "codemirror_mode": {
        "name": "ipython",
        "version": 3
      },
      "file_extension": ".py",
      "mimetype": "text/x-python",
      "name": "python",
      "nbconvert_exporter": "python",
      "pygments_lexer": "ipython3",
      "version": "3.8.11"
    }
  },
  "nbformat": 4,
  "nbformat_minor": 0
}