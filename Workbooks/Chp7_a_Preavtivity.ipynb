{
  "cells": [
    {
      "cell_type": "markdown",
      "metadata": {
        "id": "view-in-github",
        "colab_type": "text"
      },
      "source": [
        "<a href=\"https://colab.research.google.com/github/Dong2Yo/DATA3550_1232/blob/main/Workbooks/Chp7_a_Preavtivity.ipynb\" target=\"_parent\"><img src=\"https://colab.research.google.com/assets/colab-badge.svg\" alt=\"Open In Colab\"/></a>"
      ]
    },
    {
      "cell_type": "markdown",
      "metadata": {
        "id": "qF-cwnOv0qDT"
      },
      "source": [
        "### Python Lists - Exercises"
      ]
    },
    {
      "cell_type": "markdown",
      "metadata": {
        "id": "4_YvY0WU0qDZ"
      },
      "source": [
        "#### 1.  Write a program to print the content of the list (user inputs) in reverse order, one per line."
      ]
    },
    {
      "cell_type": "code",
      "source": [],
      "metadata": {
        "id": "17lbVJTbda8I"
      },
      "execution_count": null,
      "outputs": []
    },
    {
      "cell_type": "markdown",
      "metadata": {
        "id": "-U1Dgo540qDb"
      },
      "source": [
        "#### 2. Write a program that generates a sequence of 8 random values between -10 and 19, stores them in a list, prints the sequence, sorts it, and prints the sorted sequence. Use the list sort method."
      ]
    },
    {
      "cell_type": "code",
      "source": [],
      "metadata": {
        "id": "omQLU2NwdcRe"
      },
      "execution_count": null,
      "outputs": []
    }
  ],
  "metadata": {
    "kernelspec": {
      "display_name": "Python 3 (ipykernel)",
      "language": "python",
      "name": "python3"
    },
    "language_info": {
      "codemirror_mode": {
        "name": "ipython",
        "version": 3
      },
      "file_extension": ".py",
      "mimetype": "text/x-python",
      "name": "python",
      "nbconvert_exporter": "python",
      "pygments_lexer": "ipython3",
      "version": "3.8.11"
    },
    "colab": {
      "provenance": [],
      "include_colab_link": true
    }
  },
  "nbformat": 4,
  "nbformat_minor": 0
}