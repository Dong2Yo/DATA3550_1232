{
  "cells": [
    {
      "cell_type": "markdown",
      "metadata": {
        "id": "view-in-github",
        "colab_type": "text"
      },
      "source": [
        "<a href=\"https://colab.research.google.com/github/Dong2Yo/DATA3550_1232/blob/main/Workbooks/Chp2_b_Ex_2.ipynb\" target=\"_parent\"><img src=\"https://colab.research.google.com/assets/colab-badge.svg\" alt=\"Open In Colab\"/></a>"
      ]
    },
    {
      "cell_type": "markdown",
      "metadata": {
        "id": "5b7x-JmTeULZ"
      },
      "source": [
        "**2.2.3.** Write a program that asks the user for the lengths of the sides of a rectangle.\n",
        "\n",
        "Then print\n",
        "\n",
        "\t\t\t1. The area and perimeter of the rectangle\n",
        "\n",
        "\t\t    2. The length of the diagonal"
      ]
    },
    {
      "cell_type": "code",
      "execution_count": null,
      "metadata": {
        "id": "7nU_zzvpZy5S"
      },
      "outputs": [],
      "source": []
    },
    {
      "cell_type": "markdown",
      "metadata": {
        "id": "uRjWE4uskDaK"
      },
      "source": [
        "**2.2.4.** Writing large letters.\n",
        "\n",
        "A large letter H can be produced like this:\n",
        "\n",
        "\t\t\t*   *\n",
        "\t\t\t*   *\n",
        "\t\t\t*****\n",
        "\t\t\t*   *\n",
        "\t\t\t*   *\n",
        "\n",
        "It can be declared as a string literal like this:\n",
        "\n",
        "\t\t\tLETTER_H = \"*   *\\n*   *\\n*****\\n*   *\\n*   *\\n\"\n",
        "\t\t\t(The \\n escape sequence denotes a “newline” character that causes subsequent characters to be printed on a new line.)\n",
        "\n",
        "Do the same for the letters E, L, and O. Then write the message\n",
        "\n",
        "\t\t\tH\n",
        "\t\t\tE\n",
        "\t\t\tL\n",
        "\t\t\tL\n",
        "\t\t\tO\n",
        "\n",
        "in large letters."
      ]
    },
    {
      "cell_type": "code",
      "execution_count": null,
      "metadata": {
        "id": "v8b7nuQJZy5T"
      },
      "outputs": [],
      "source": []
    },
    {
      "cell_type": "markdown",
      "metadata": {
        "id": "ac7ClMmwiZVQ"
      },
      "source": [
        "**2.2.5.** Compute the total cost of owning a car for 5 years, ignoring financing.\n",
        "\n",
        "User input:\n",
        "\n",
        "What is the cost of the car?\n",
        "\n",
        "How many miles will you drive each year?\n",
        "\n",
        "What is the price of gas per gallon?\n",
        "\n",
        "What is the fuel efficiency in mpg?\n",
        "\n",
        "\n",
        ">** MPG**, or miles per gallon, is the distance, measured in miles, that a car can travel per gallon of fuel. MPG is also the primary measurement of a car's fuel efficiency: The higher a car's MPG, the more fuel efficient it is.\n",
        "\n",
        "\n",
        "How much can you sell the car for after 5 years?"
      ]
    },
    {
      "cell_type": "code",
      "execution_count": null,
      "metadata": {
        "id": "ckla9NAfZy5U"
      },
      "outputs": [],
      "source": []
    },
    {
      "cell_type": "markdown",
      "metadata": {
        "id": "kwybcodBfrT-"
      },
      "source": [
        "**2.2.6. Optional** Write a program to compute how many gallons of paint are needed to cover the walls' given square feet.\n",
        "\n",
        "Assume 1 gallon can cover 350.0 square feet.\n",
        "\n",
        "So gallons = the square feet divided by 350.0.\n",
        "\n",
        "If the input is 250.0, the output should be:0.714285714286"
      ]
    },
    {
      "cell_type": "code",
      "execution_count": null,
      "metadata": {
        "id": "dQpoUOYfZy5U"
      },
      "outputs": [],
      "source": []
    }
  ],
  "metadata": {
    "colab": {
      "provenance": [],
      "include_colab_link": true
    },
    "kernelspec": {
      "display_name": "Python 3 (ipykernel)",
      "language": "python",
      "name": "python3"
    },
    "language_info": {
      "codemirror_mode": {
        "name": "ipython",
        "version": 3
      },
      "file_extension": ".py",
      "mimetype": "text/x-python",
      "name": "python",
      "nbconvert_exporter": "python",
      "pygments_lexer": "ipython3",
      "version": "3.8.11"
    }
  },
  "nbformat": 4,
  "nbformat_minor": 0
}