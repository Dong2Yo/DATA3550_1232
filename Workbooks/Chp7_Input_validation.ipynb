{
  "cells": [
    {
      "cell_type": "markdown",
      "metadata": {
        "id": "view-in-github",
        "colab_type": "text"
      },
      "source": [
        "<a href=\"https://colab.research.google.com/github/Dong2Yo/DATA3550_1232/blob/main/Workbooks/Chp7_Input_validation.ipynb\" target=\"_parent\"><img src=\"https://colab.research.google.com/assets/colab-badge.svg\" alt=\"Open In Colab\"/></a>"
      ]
    },
    {
      "cell_type": "markdown",
      "id": "39ed4a4d-e2a8-48ea-8a16-8aec62b1fee4",
      "metadata": {
        "id": "39ed4a4d-e2a8-48ea-8a16-8aec62b1fee4"
      },
      "source": [
        "## Please validate the user input for the following \"Ghost Game\"."
      ]
    },
    {
      "cell_type": "code",
      "execution_count": null,
      "id": "87f60c8e-fe5c-4809-b9ce-d74dedc64b03",
      "metadata": {
        "id": "87f60c8e-fe5c-4809-b9ce-d74dedc64b03"
      },
      "outputs": [],
      "source": [
        "#Ghost Game\n",
        "from random import randint\n",
        "print('Ghost Game')\n",
        "feeling_brave=True\n",
        "score=0\n",
        "while feeling_brave:\n",
        "    ghost_door = randint(1, 3)\n",
        "    print('Three doors ahead')\n",
        "    print('A ghost behind one.')\n",
        "    print('Which door do you open?')\n",
        "    door = input('1, 2, or 3?')\n",
        "    door_num = int(door)\n",
        "    if door_num == ghost_door:\n",
        "        print('GHOST!')\n",
        "        feeling_brave = False\n",
        "    else:\n",
        "        print('No ghost!')\n",
        "        print('You enter the next room.')\n",
        "        score = score + 1\n",
        "print('Run Away!')\n",
        "print('Game over! You scored', score)"
      ]
    },
    {
      "cell_type": "code",
      "execution_count": null,
      "id": "eca2ba25-85d4-476c-a39f-f843133bf6a6",
      "metadata": {
        "id": "eca2ba25-85d4-476c-a39f-f843133bf6a6"
      },
      "outputs": [],
      "source": []
    }
  ],
  "metadata": {
    "kernelspec": {
      "display_name": "Python 3 (ipykernel)",
      "language": "python",
      "name": "python3"
    },
    "language_info": {
      "codemirror_mode": {
        "name": "ipython",
        "version": 3
      },
      "file_extension": ".py",
      "mimetype": "text/x-python",
      "name": "python",
      "nbconvert_exporter": "python",
      "pygments_lexer": "ipython3",
      "version": "3.8.16"
    },
    "colab": {
      "provenance": [],
      "include_colab_link": true
    }
  },
  "nbformat": 4,
  "nbformat_minor": 5
}