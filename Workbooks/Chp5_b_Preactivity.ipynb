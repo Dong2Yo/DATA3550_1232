{
  "nbformat": 4,
  "nbformat_minor": 0,
  "metadata": {
    "colab": {
      "provenance": [],
      "include_colab_link": true
    },
    "kernelspec": {
      "display_name": "Python 3 (ipykernel)",
      "language": "python",
      "name": "python3"
    },
    "language_info": {
      "codemirror_mode": {
        "name": "ipython",
        "version": 3
      },
      "file_extension": ".py",
      "mimetype": "text/x-python",
      "name": "python",
      "nbconvert_exporter": "python",
      "pygments_lexer": "ipython3",
      "version": "3.8.11"
    }
  },
  "cells": [
    {
      "cell_type": "markdown",
      "metadata": {
        "id": "view-in-github",
        "colab_type": "text"
      },
      "source": [
        "<a href=\"https://colab.research.google.com/github/Dong2Yo/DATA3550_1232/blob/main/Workbooks/Chp5_b_Preactivity.ipynb\" target=\"_parent\"><img src=\"https://colab.research.google.com/assets/colab-badge.svg\" alt=\"Open In Colab\"/></a>"
      ]
    },
    {
      "cell_type": "markdown",
      "metadata": {
        "id": "3o5bpopjWZ6N"
      },
      "source": [
        "##### **Chapter 5.b Pre-activity One & Two**\n"
      ]
    },
    {
      "cell_type": "markdown",
      "metadata": {
        "id": "WaREK2-wqvE7"
      },
      "source": [
        "**One:** Suppose that you are helping archaeologists who research Egyptian pyramids.\n",
        "You have taken on the task of writing a program that determines the volume of a pyramid, given its height and base length."
      ]
    },
    {
      "cell_type": "code",
      "metadata": {
        "id": "TGJ1z2ubqvE8"
      },
      "source": [],
      "execution_count": null,
      "outputs": []
    },
    {
      "cell_type": "markdown",
      "metadata": {
        "id": "sufgzw_Rjqx0"
      },
      "source": [
        "**Two:** Write a program that reads a word and prints the word in reverse. For example, if the user provides the input \"Harry\", the program prints\n",
        "\n",
        "            yrraH"
      ]
    },
    {
      "cell_type": "code",
      "metadata": {
        "id": "lilsvISOqvE9"
      },
      "source": [],
      "execution_count": null,
      "outputs": []
    }
  ]
}