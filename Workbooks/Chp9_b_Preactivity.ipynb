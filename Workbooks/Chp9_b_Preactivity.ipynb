{
  "nbformat": 4,
  "nbformat_minor": 0,
  "metadata": {
    "colab": {
      "provenance": [],
      "include_colab_link": true
    },
    "kernelspec": {
      "display_name": "Python 3 (ipykernel)",
      "language": "python",
      "name": "python3"
    },
    "language_info": {
      "codemirror_mode": {
        "name": "ipython",
        "version": 3
      },
      "file_extension": ".py",
      "mimetype": "text/x-python",
      "name": "python",
      "nbconvert_exporter": "python",
      "pygments_lexer": "ipython3",
      "version": "3.8.11"
    }
  },
  "cells": [
    {
      "cell_type": "markdown",
      "metadata": {
        "id": "view-in-github",
        "colab_type": "text"
      },
      "source": [
        "<a href=\"https://colab.research.google.com/github/Dong2Yo/DATA3550_1232/blob/main/Workbooks/Chp9_b_Preactivity.ipynb\" target=\"_parent\"><img src=\"https://colab.research.google.com/assets/colab-badge.svg\" alt=\"Open In Colab\"/></a>"
      ]
    },
    {
      "cell_type": "markdown",
      "metadata": {
        "id": "3o5bpopjWZ6N"
      },
      "source": [
        "##### **Chapter 9.b Pre-activity One, & Two**\n"
      ]
    },
    {
      "cell_type": "markdown",
      "metadata": {
        "id": "ox0FIBTa0Fh4"
      },
      "source": [
        "**One:**\n",
        "\n",
        "##### Please modify the Account class and add a withdraw method to that class.\n",
        "\n",
        "     The amount being withdrawn has to be a positive number;\n",
        "     The amount being withdrawn has to be less than or equal to the account balance."
      ]
    },
    {
      "cell_type": "code",
      "metadata": {
        "id": "WNcc1_VI0Fh5"
      },
      "source": [
        "class Account:\n",
        "\n",
        "    def __init__(self, name, balance):\n",
        "\n",
        "        if balance < 0 :\n",
        "            raise ValueError('DY: initial balance must be >= to 0.00.')\n",
        "\n",
        "        self.name = name\n",
        "        self.balance = balance\n",
        "\n",
        "    def deposit(self, amount):\n",
        "\n",
        "        if amount < 0 :\n",
        "            raise ValueError('DY: amount must be positive.')\n",
        "\n",
        "        self.balance += amount\n",
        "\n"
      ],
      "execution_count": null,
      "outputs": []
    },
    {
      "cell_type": "code",
      "metadata": {
        "id": "PvYcTlUQ0Fh6"
      },
      "source": [
        "# Unit test code snippets\n",
        "\n",
        "account1 = Account('Mary Smith', 3000)\n",
        "account1.deposit(250)\n",
        "print(account1.balance)\n",
        "print('Expected: 3250')\n",
        "print('')\n",
        "\n",
        "account1.withdraw(650)\n",
        "print(account1.balance)\n",
        "print('Expected: 2600')\n",
        "print('')\n",
        "\n",
        "print('Expected:')\n",
        "print('ValueError: DY: The amount must be <= balance.')\n",
        "account1.withdraw(4500)\n",
        "print(account1.balance)"
      ],
      "execution_count": null,
      "outputs": []
    },
    {
      "cell_type": "markdown",
      "metadata": {
        "id": "fAyNAOFX0Fh7"
      },
      "source": [
        "**Two:**\n",
        "\n",
        "Implement a class Student.\n",
        "\n",
        "For the purpose of this exercise, a student has a name and a total quiz score.\n",
        "\n",
        "Supply an appropriate constructor and methods getName(), addQuiz(score), getTotalScore(), and getAverageScore(). To compute the latter, you also need to store the number of quizzes that the student took."
      ]
    },
    {
      "cell_type": "code",
      "metadata": {
        "id": "7fuO7T8a0Fh7"
      },
      "source": [
        "# Unit Test Code snippets\n",
        "\n",
        "data3550 = Student('Mary')\n",
        "data3550.addQuiz(89)\n",
        "data3550.addQuiz(100)\n",
        "\n",
        "name = data3550.getName()\n",
        "total = data3550.getTotalScore()\n",
        "average = data3550.getAverageScore()\n",
        "\n",
        "print(\"Quiz Results:\",name)\n",
        "print(\"Total:\", total)\n",
        "print(\"Average:\", average)\n",
        "print('')\n",
        "print(\"Expected:\")\n",
        "print(\"Quiz Results: Mary\")\n",
        "print(\"Total: 189\")\n",
        "print(\"Average: 94.5\")"
      ],
      "execution_count": null,
      "outputs": []
    },
    {
      "cell_type": "code",
      "metadata": {
        "id": "v2PHJvqh0Fh8"
      },
      "source": [],
      "execution_count": null,
      "outputs": []
    }
  ]
}