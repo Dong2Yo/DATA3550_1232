{
  "nbformat": 4,
  "nbformat_minor": 0,
  "metadata": {
    "colab": {
      "provenance": [],
      "include_colab_link": true
    },
    "kernelspec": {
      "display_name": "Python 3 (ipykernel)",
      "language": "python",
      "name": "python3"
    },
    "language_info": {
      "codemirror_mode": {
        "name": "ipython",
        "version": 3
      },
      "file_extension": ".py",
      "mimetype": "text/x-python",
      "name": "python",
      "nbconvert_exporter": "python",
      "pygments_lexer": "ipython3",
      "version": "3.8.11"
    }
  },
  "cells": [
    {
      "cell_type": "markdown",
      "metadata": {
        "id": "view-in-github",
        "colab_type": "text"
      },
      "source": [
        "<a href=\"https://colab.research.google.com/github/Dong2Yo/DATA3550_1232/blob/main/Workbooks/Chp6_b_Preactivity.ipynb\" target=\"_parent\"><img src=\"https://colab.research.google.com/assets/colab-badge.svg\" alt=\"Open In Colab\"/></a>"
      ]
    },
    {
      "cell_type": "markdown",
      "metadata": {
        "id": "3o5bpopjWZ6N"
      },
      "source": [
        "##### **Chapter 6.b Pre-activity One & Two**\n"
      ]
    },
    {
      "cell_type": "markdown",
      "metadata": {
        "id": "BHQ4XA3aVWCN"
      },
      "source": [
        "**One:** Leap years are necessary to keep the calendar synchronized with the sun because the earth revolves around the sun once every 365.25 days. Write a function that tests whether a year (user input) is a leap year, which has 366 days.\n",
        "\n",
        "            def isLeapYear(year)\n",
        "\n",
        "Actually, that figure is not entirely precise, and for all dates **after 1582** the Gregorian correction applies.\n",
        "\n",
        "Usually, years that are divisible by 4 are leap years (for example, 1996). However, years that are divisible by 100 (for example, 1900) are not leap years, but years that are divisible by 400 are leap years (for example, 2000).\n",
        ""
      ]
    },
    {
      "cell_type": "code",
      "metadata": {
        "id": "5Z_2TvyyVWCP",
        "colab": {
          "base_uri": "https://localhost:8080/"
        },
        "outputId": "fd2bb7ea-1c63-4f84-f7b7-7d4c6d6dc65d"
      },
      "source": [
        "def main() :\n",
        "  user_input = int(input(\"Please enter a year: \"))\n",
        "  print(user_input, \"is a Leap year: \", isLeapYear(user_input))\n",
        "\n",
        "\n",
        "def isLeapYear(year):\n",
        "...\n",
        "...\n",
        "\n",
        "main()\n"
      ],
      "execution_count": null,
      "outputs": [
        {
          "output_type": "stream",
          "name": "stdout",
          "text": [
            "Please enter a year: 2000\n",
            "2000 is a Leap year:  True\n"
          ]
        }
      ]
    },
    {
      "cell_type": "markdown",
      "metadata": {
        "id": "EeEzTKsFVWCQ"
      },
      "source": [
        "**Two:** Write a program that reads numbers and adds them to a list if they aren’t already contained in the list.\n",
        "\n",
        "When the list contains 4 numbers, the program Return the second-largest element in the list and quit."
      ]
    },
    {
      "cell_type": "code",
      "metadata": {
        "id": "QW2O8icWVWCg",
        "colab": {
          "base_uri": "https://localhost:8080/"
        },
        "outputId": "cd79cef1-c0b5-44c5-a23b-e2a3d0d38e58"
      },
      "source": [
        "numlist = []\n",
        "\n",
        "\n"
      ],
      "execution_count": null,
      "outputs": [
        {
          "name": "stdout",
          "output_type": "stream",
          "text": [
            "Please enter a number: 4\n",
            "Please enter a number: 7\n",
            "Please enter a number: 6\n",
            "Please enter a number: 2\n"
          ]
        },
        {
          "output_type": "execute_result",
          "data": {
            "text/plain": [
              "6"
            ]
          },
          "metadata": {},
          "execution_count": 11
        }
      ]
    }
  ]
}