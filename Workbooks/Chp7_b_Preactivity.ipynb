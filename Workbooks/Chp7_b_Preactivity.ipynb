{
  "nbformat": 4,
  "nbformat_minor": 0,
  "metadata": {
    "colab": {
      "provenance": [],
      "include_colab_link": true
    },
    "kernelspec": {
      "display_name": "Python 3 (ipykernel)",
      "language": "python",
      "name": "python3"
    },
    "language_info": {
      "codemirror_mode": {
        "name": "ipython",
        "version": 3
      },
      "file_extension": ".py",
      "mimetype": "text/x-python",
      "name": "python",
      "nbconvert_exporter": "python",
      "pygments_lexer": "ipython3",
      "version": "3.8.11"
    }
  },
  "cells": [
    {
      "cell_type": "markdown",
      "metadata": {
        "id": "view-in-github",
        "colab_type": "text"
      },
      "source": [
        "<a href=\"https://colab.research.google.com/github/Dong2Yo/DATA3550_1232/blob/main/Workbooks/Chp7_b_Preactivity.ipynb\" target=\"_parent\"><img src=\"https://colab.research.google.com/assets/colab-badge.svg\" alt=\"Open In Colab\"/></a>"
      ]
    },
    {
      "cell_type": "markdown",
      "metadata": {
        "id": "3o5bpopjWZ6N"
      },
      "source": [
        "##### **Chapter 7.b Pre-activity One & Two  Solutions**\n"
      ]
    },
    {
      "cell_type": "markdown",
      "metadata": {
        "id": "lwRfyvSr-So2"
      },
      "source": [
        "**One:**\n",
        "\n",
        "Create a file with the title of \"chp7_b_pre_1\". Invite users to input the following Grades Roster:\n",
        "\n",
        "    John Smith: 89\n",
        "    Mary Davis: 92\n",
        "    Adam Li: 85\n",
        "    Mohamed Ali: 78\n",
        "\n",
        "(optional) Then to print the whole content of the file."
      ]
    },
    {
      "cell_type": "code",
      "source": [],
      "metadata": {
        "id": "dtLFJ61jeuF1"
      },
      "execution_count": null,
      "outputs": []
    },
    {
      "cell_type": "markdown",
      "metadata": {
        "id": "43xMpYju-So5"
      },
      "source": [
        "**Two:**\n",
        "\n",
        "Read the values from \"chp7_b_pre_1.txt\" and write them to a new output file with a user defined title, aligned in a column and followed by their total, and average values."
      ]
    },
    {
      "cell_type": "code",
      "source": [],
      "metadata": {
        "id": "nowmVLLNew02"
      },
      "execution_count": null,
      "outputs": []
    }
  ]
}