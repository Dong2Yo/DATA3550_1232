{
  "nbformat": 4,
  "nbformat_minor": 0,
  "metadata": {
    "colab": {
      "provenance": [],
      "authorship_tag": "ABX9TyOhxutrXK6FIozOYIQB+8Qp",
      "include_colab_link": true
    },
    "kernelspec": {
      "name": "python3",
      "display_name": "Python 3"
    },
    "language_info": {
      "name": "python"
    }
  },
  "cells": [
    {
      "cell_type": "markdown",
      "metadata": {
        "id": "view-in-github",
        "colab_type": "text"
      },
      "source": [
        "<a href=\"https://colab.research.google.com/github/Dong2Yo/DATA3550_1232/blob/main/Workbooks/Wk3_b_Preactivity2.ipynb\" target=\"_parent\"><img src=\"https://colab.research.google.com/assets/colab-badge.svg\" alt=\"Open In Colab\"/></a>"
      ]
    },
    {
      "cell_type": "markdown",
      "source": [
        "Shop@NAIT is implementing a ***20% discount*** to **ALL** the items. Please ask the customer for the price of the item(s),and provide the final price for the customer. (tax = 5%)"
      ],
      "metadata": {
        "id": "ahu1bta19xUh"
      }
    },
    {
      "cell_type": "code",
      "source": [],
      "metadata": {
        "id": "YZtxiLdcD3MS"
      },
      "execution_count": null,
      "outputs": []
    },
    {
      "cell_type": "markdown",
      "source": [
        "[Shop@NAIT](https://https://shop.nait.ca/) carries a variety of items: books (b), supplies(s), apparel(a), and gifts(g).The letter in the parenthesis is the system code for the item category. **Now Shop@NAIT only provide 20% discount to the books and gifts.**"
      ],
      "metadata": {
        "id": "YDuceW0C-bM5"
      }
    },
    {
      "cell_type": "code",
      "source": [],
      "metadata": {
        "id": "jWgZkaHsD4nZ"
      },
      "execution_count": null,
      "outputs": []
    },
    {
      "cell_type": "markdown",
      "source": [
        "Shop@NAIT only applies the **above discount on NAIT day**, which falls on Jan 26."
      ],
      "metadata": {
        "id": "fAbAFdwX_YYt"
      }
    },
    {
      "cell_type": "code",
      "source": [],
      "metadata": {
        "id": "y1MDDYkRD53y"
      },
      "execution_count": null,
      "outputs": []
    },
    {
      "cell_type": "markdown",
      "source": [
        "If it is a Thuesday, then Shop@NAIT will **waive the tax.**"
      ],
      "metadata": {
        "id": "B5vw1jKs_1M7"
      }
    },
    {
      "cell_type": "code",
      "source": [],
      "metadata": {
        "id": "Jb7mF64YD7sp"
      },
      "execution_count": null,
      "outputs": []
    },
    {
      "cell_type": "markdown",
      "source": [
        "What about **user validation**? For example, the program will return \"please input number.\" if the customer input is text or symbols."
      ],
      "metadata": {
        "id": "Y9ECB2JxAOZh"
      }
    },
    {
      "cell_type": "code",
      "source": [],
      "metadata": {
        "id": "FFQuMhWVD9AT"
      },
      "execution_count": null,
      "outputs": []
    }
  ]
}