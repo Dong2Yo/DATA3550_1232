{
  "cells": [
    {
      "cell_type": "markdown",
      "metadata": {
        "id": "view-in-github",
        "colab_type": "text"
      },
      "source": [
        "<a href=\"https://colab.research.google.com/github/Dong2Yo/DATA3550_1232/blob/main/Workbooks/Chp4_b_Preactivity.ipynb\" target=\"_parent\"><img src=\"https://colab.research.google.com/assets/colab-badge.svg\" alt=\"Open In Colab\"/></a>"
      ]
    },
    {
      "cell_type": "markdown",
      "metadata": {
        "id": "3o5bpopjWZ6N"
      },
      "source": [
        "### **Chapter 4.b Pre-activity One, Two, & Challenge**\n"
      ]
    },
    {
      "cell_type": "markdown",
      "metadata": {
        "id": "KA5eQ1Cvv0rX"
      },
      "source": [
        "**One** Write/Complete a Python program to get the Fibonacci series between 0 to 100.\n",
        "\n",
        "   Note : The Fibonacci Sequence is the series of numbers :\n",
        "\n",
        "       0, 1, 1, 2, 3, 5, 8, 13, 21, ....\n",
        "    \n",
        "   Every next number is found by adding up the two numbers before it.\n",
        "\n",
        "       Expected Output : 1 1 2 3 5 8 13 21 34"
      ]
    },
    {
      "cell_type": "code",
      "execution_count": null,
      "metadata": {
        "id": "RbsWCXiLqm4R"
      },
      "outputs": [],
      "source": [
        "x, y = 0, 1\n",
        "\n",
        "while y < 100:\n",
        "\n",
        "# Please complete the program."
      ]
    },
    {
      "cell_type": "markdown",
      "metadata": {
        "id": "sufgzw_Rjqx0"
      },
      "source": [
        "**Two:** Write/Complete a program with loops that compute the sum of all odd numbers between 100 and 400."
      ]
    },
    {
      "cell_type": "code",
      "execution_count": null,
      "metadata": {
        "id": "43-9K4Kuqn7h"
      },
      "outputs": [],
      "source": [
        " total = 0\n",
        "for i in range(101, 401, 2):\n",
        "\n",
        "# Complete the program.\n",
        ""
      ]
    },
    {
      "cell_type": "markdown",
      "metadata": {
        "id": "x94HY7KEpNV8"
      },
      "source": [
        "**Challenge:** Factoring of integers. Write/Complete  a program that asks the user for an integer and then prints out all its factors.\n",
        "\n",
        "    For example, when the user enters 350, the program should print\n",
        "\n",
        "            2\n",
        "\t\t\t5\n",
        "\t\t\t5\n",
        "\t\t\t7"
      ]
    },
    {
      "cell_type": "code",
      "execution_count": null,
      "metadata": {
        "id": "j_UC3Vviv0rd"
      },
      "outputs": [],
      "source": []
    }
  ],
  "metadata": {
    "colab": {
      "provenance": [],
      "include_colab_link": true
    },
    "kernelspec": {
      "display_name": "Python 3 (ipykernel)",
      "language": "python",
      "name": "python3"
    },
    "language_info": {
      "codemirror_mode": {
        "name": "ipython",
        "version": 3
      },
      "file_extension": ".py",
      "mimetype": "text/x-python",
      "name": "python",
      "nbconvert_exporter": "python",
      "pygments_lexer": "ipython3",
      "version": "3.8.11"
    }
  },
  "nbformat": 4,
  "nbformat_minor": 0
}