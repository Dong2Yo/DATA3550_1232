{
  "cells": [
    {
      "cell_type": "markdown",
      "metadata": {
        "id": "view-in-github",
        "colab_type": "text"
      },
      "source": [
        "<a href=\"https://colab.research.google.com/github/Dong2Yo/DATA3550_1232/blob/main/Workbooks/Chp1_2_In_Class_Ex_1.ipynb\" target=\"_parent\"><img src=\"https://colab.research.google.com/assets/colab-badge.svg\" alt=\"Open In Colab\"/></a>"
      ]
    },
    {
      "cell_type": "markdown",
      "metadata": {
        "id": "PL7KyGtyNTd9"
      },
      "source": [
        "**Instructions** :\n",
        "*   Work with your break out room members on the Activity;\n",
        "*   Please have only **ONE member** write the program in the notebook;\n"
      ]
    },
    {
      "cell_type": "markdown",
      "metadata": {
        "id": "u5W_g9OKSscN"
      },
      "source": [
        "**1.2.1. Write a program that prints the sum of the first ten positive integers, 1 + 2 + … + 10.**"
      ]
    },
    {
      "cell_type": "markdown",
      "metadata": {
        "id": "Ol00oF19TrLV"
      },
      "source": [
        "**1.2.2. Write a program that prints the balance of an account after the first, second, and third year. The account has an initial balance of $1,000 and earns 5 percent interest per year.**"
      ]
    },
    {
      "cell_type": "code",
      "execution_count": null,
      "metadata": {
        "id": "fyTREf7AmyBm"
      },
      "outputs": [],
      "source": []
    }
  ],
  "metadata": {
    "colab": {
      "provenance": [],
      "include_colab_link": true
    },
    "kernelspec": {
      "display_name": "Python 3 (ipykernel)",
      "language": "python",
      "name": "python3"
    },
    "language_info": {
      "codemirror_mode": {
        "name": "ipython",
        "version": 3
      },
      "file_extension": ".py",
      "mimetype": "text/x-python",
      "name": "python",
      "nbconvert_exporter": "python",
      "pygments_lexer": "ipython3",
      "version": "3.8.11"
    }
  },
  "nbformat": 4,
  "nbformat_minor": 0
}