{
  "cells": [
    {
      "cell_type": "markdown",
      "metadata": {
        "id": "view-in-github",
        "colab_type": "text"
      },
      "source": [
        "<a href=\"https://colab.research.google.com/github/Dong2Yo/DATA3550_1232/blob/main/Workbooks/Chp3_b_Preactivity.ipynb\" target=\"_parent\"><img src=\"https://colab.research.google.com/assets/colab-badge.svg\" alt=\"Open In Colab\"/></a>"
      ]
    },
    {
      "cell_type": "markdown",
      "metadata": {
        "id": "3o5bpopjWZ6N"
      },
      "source": [
        "### **Chapter 3.b Pre-activity One, Two, & Challenge**\n"
      ]
    },
    {
      "cell_type": "markdown",
      "metadata": {
        "id": "RZPw4OWnkCYh"
      },
      "source": [
        "***Please download the Pre-activity notebook, and save as Chp3b_pre_LastFirstName.ipynb***\n",
        "\n",
        "***Complete the notebook in your preferred IDE, and upload the notebook to GoogleColab.***\n",
        "\n",
        "***Share the workbook and obtain the URL.***\n",
        "\n",
        "***Copy the URL to the Chat Box via Teams.***"
      ]
    },
    {
      "cell_type": "markdown",
      "metadata": {
        "id": "W9JRw4HgdGW2"
      },
      "source": [
        "**One:** It is March 14, and the bakery is holding a pie sale.\n",
        "All pies with a regular price of 10 dollars or more are 3.14 dollars off.\n",
        "All others are 1.00 dollars off.\n",
        "Complete/ write the program that reads the price of a pie and prints the discounted price.\n",
        "\n",
        "**Answer:**"
      ]
    },
    {
      "cell_type": "code",
      "execution_count": null,
      "metadata": {
        "id": "RbsWCXiLqm4R"
      },
      "outputs": [],
      "source": []
    },
    {
      "cell_type": "markdown",
      "metadata": {
        "id": "sufgzw_Rjqx0"
      },
      "source": [
        "**Two:** The square root operation cannot be applied to a negative number.\n",
        "\n",
        "Produce a program that reads a value from the user.\n",
        "\n",
        "And, if the value is not negative, computes the square root of the value (2 decimal places) and prints it.\n",
        "\n",
        "If a negative number or zero is entered, the message \"Value should be positive\" should be printed.\n",
        "\n",
        "**Answer:**"
      ]
    },
    {
      "cell_type": "code",
      "execution_count": null,
      "metadata": {
        "id": "43-9K4Kuqn7h"
      },
      "outputs": [],
      "source": [
        "\n"
      ]
    },
    {
      "cell_type": "markdown",
      "metadata": {
        "id": "x94HY7KEpNV8"
      },
      "source": [
        "**Challenge:** Write a program that reads in the x- and y-coordinates in Cartesian space for\n",
        "the endpoints of a line segment and then determines if the line segment is\n",
        "parallel to the y-axis.\n",
        "\n",
        "***Hint***: a line is parallel to the y-axis if it is a vertical.\n",
        "\n",
        "Your program should print\n",
        "  \n",
        "       The line is vertical.\n",
        "\n",
        "or\n",
        "\n",
        "       The line is not vertical."
      ]
    },
    {
      "cell_type": "code",
      "execution_count": null,
      "metadata": {
        "id": "mLfkQel7kCYl"
      },
      "outputs": [],
      "source": []
    }
  ],
  "metadata": {
    "colab": {
      "provenance": [],
      "include_colab_link": true
    },
    "kernelspec": {
      "display_name": "Python 3 (ipykernel)",
      "language": "python",
      "name": "python3"
    },
    "language_info": {
      "codemirror_mode": {
        "name": "ipython",
        "version": 3
      },
      "file_extension": ".py",
      "mimetype": "text/x-python",
      "name": "python",
      "nbconvert_exporter": "python",
      "pygments_lexer": "ipython3",
      "version": "3.8.11"
    }
  },
  "nbformat": 4,
  "nbformat_minor": 0
}