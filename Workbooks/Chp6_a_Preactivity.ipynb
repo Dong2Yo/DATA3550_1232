{
  "cells": [
    {
      "cell_type": "markdown",
      "metadata": {
        "id": "view-in-github",
        "colab_type": "text"
      },
      "source": [
        "<a href=\"https://colab.research.google.com/github/Dong2Yo/DATA3550_1232/blob/main/Workbooks/Chp6_a_Preactivity.ipynb\" target=\"_parent\"><img src=\"https://colab.research.google.com/assets/colab-badge.svg\" alt=\"Open In Colab\"/></a>"
      ]
    },
    {
      "cell_type": "markdown",
      "metadata": {
        "id": "3o5bpopjWZ6N"
      },
      "source": [
        "##### **Chapter 6.a Pre-activity One & Two**\n"
      ]
    },
    {
      "cell_type": "markdown",
      "metadata": {
        "id": "EZxIZgIZPdpc"
      },
      "source": [
        "**One:** Write a function\n",
        "\n",
        "\t\t\tdef countVowels(string)\n",
        "\n",
        "that returns a count of all vowels in the string. Vowels are the letters a, e, i, o, and u, and their uppercase variants."
      ]
    },
    {
      "cell_type": "code",
      "source": [
        "def main():\n",
        "  str = input(\"Please enter a string: \")\n",
        "  print(\"The string contains\", countVowels(str), \"vowels.\")\n",
        "\n",
        "## Count the number of vowels in a string.\n",
        "#\n",
        "\n",
        "# Call the main function.\n",
        "\n",
        "\n"
      ],
      "metadata": {
        "id": "SMayQyggotRN"
      },
      "execution_count": null,
      "outputs": []
    },
    {
      "cell_type": "code",
      "execution_count": null,
      "metadata": {
        "id": "vpEvisDUPdpe"
      },
      "outputs": [],
      "source": []
    },
    {
      "cell_type": "markdown",
      "metadata": {
        "id": "uFsQm2oaPdpf"
      },
      "source": [
        "**Two:** It is a well-known phenomenon that most people are easily able to read a text whose words have two characters flipped, provided the first and last letter of each word are not changed.\n",
        "\n",
        "For example,\n",
        "\n",
        "            I dn’ot gvie a dman for a man taht can olny sepll a wrod one way. (Mrak Taiwn)\n",
        "            \n",
        "Write a function scramble(word) that constructs a scrambled version of a given word, randomly flipping two characters other than the first and last one.\n",
        "\n",
        "Then write a program that reads words and prints the scrambled words."
      ]
    },
    {
      "cell_type": "code",
      "execution_count": null,
      "metadata": {
        "id": "DAbyGCNZPdpg"
      },
      "outputs": [],
      "source": []
    },
    {
      "cell_type": "code",
      "execution_count": null,
      "metadata": {
        "id": "eZelKmPcPdph"
      },
      "outputs": [],
      "source": []
    }
  ],
  "metadata": {
    "colab": {
      "provenance": [],
      "include_colab_link": true
    },
    "kernelspec": {
      "display_name": "Python 3 (ipykernel)",
      "language": "python",
      "name": "python3"
    },
    "language_info": {
      "codemirror_mode": {
        "name": "ipython",
        "version": 3
      },
      "file_extension": ".py",
      "mimetype": "text/x-python",
      "name": "python",
      "nbconvert_exporter": "python",
      "pygments_lexer": "ipython3",
      "version": "3.8.11"
    }
  },
  "nbformat": 4,
  "nbformat_minor": 0
}