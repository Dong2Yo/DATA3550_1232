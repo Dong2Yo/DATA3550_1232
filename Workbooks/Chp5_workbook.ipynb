{
  "cells": [
    {
      "cell_type": "markdown",
      "metadata": {
        "id": "view-in-github",
        "colab_type": "text"
      },
      "source": [
        "<a href=\"https://colab.research.google.com/github/Dong2Yo/DATA3550_1232/blob/main/Workbooks/Chp5_workbook.ipynb\" target=\"_parent\"><img src=\"https://colab.research.google.com/assets/colab-badge.svg\" alt=\"Open In Colab\"/></a>"
      ]
    },
    {
      "cell_type": "markdown",
      "id": "64ca6d2a-9977-47c1-ad60-d2b9819da01b",
      "metadata": {
        "id": "64ca6d2a-9977-47c1-ad60-d2b9819da01b"
      },
      "source": [
        "# `01` What is a function?\n",
        "\n",
        "You can see a function as a **fragment of code** we can use  several times."
      ]
    },
    {
      "cell_type": "markdown",
      "id": "fa611439-d772-43d8-86c1-ab1e40d53424",
      "metadata": {
        "id": "fa611439-d772-43d8-86c1-ab1e40d53424"
      },
      "source": [
        "## 📝 Instructions:\n",
        "\n",
        "1. Please calculate the sum between `3445324` and `53454423` and assign the result to a variable called `super_duper`.\n"
      ]
    },
    {
      "cell_type": "code",
      "execution_count": null,
      "id": "599514a1-5618-4a5d-991f-17aa0fed70e5",
      "metadata": {
        "id": "599514a1-5618-4a5d-991f-17aa0fed70e5"
      },
      "outputs": [],
      "source": []
    },
    {
      "cell_type": "markdown",
      "id": "1ad3077f-b945-444b-b70c-f3754718e0c6",
      "metadata": {
        "id": "1ad3077f-b945-444b-b70c-f3754718e0c6"
      },
      "source": [
        "# `02` Calling a Function  \n",
        "\n",
        "A function could receive zero parameters, and it always returns something, even if you don't explicitly add the `return` statement.\n"
      ]
    },
    {
      "cell_type": "markdown",
      "id": "26b85c00-c46b-4f60-a6e5-5576e07ceb0f",
      "metadata": {
        "id": "26b85c00-c46b-4f60-a6e5-5576e07ceb0f"
      },
      "source": [
        "\n",
        "## 📝 Instructions:\n",
        "\n",
        "1. Create new variables named `square_area1`, `square_area2`, `square_area3` and call the function `calculate_area` three times, one for each square in the picture, for example:\n",
        "\n",
        "```python\n",
        "# For the first figure:\n",
        "square_area1 = calculate_area(4,4)\n",
        "```\n",
        "\n",
        "![Squares](http://i.imgur.com/VyoJRAL.png)\n",
        "\n",
        "## 💡 Hints:\n",
        "\n",
        "+ Call the `calculate_area` function three times, one per each square, passing the length and edge of each square.\n"
      ]
    },
    {
      "cell_type": "code",
      "execution_count": null,
      "id": "3384fae0-f95f-40b6-ba33-87abe7797ff9",
      "metadata": {
        "id": "3384fae0-f95f-40b6-ba33-87abe7797ff9"
      },
      "outputs": [],
      "source": []
    },
    {
      "cell_type": "markdown",
      "id": "ca2f58fe-53a0-4449-9bde-09623aa9a7fa",
      "metadata": {
        "id": "ca2f58fe-53a0-4449-9bde-09623aa9a7fa"
      },
      "source": [
        "# `03` Defining vs Calling a Function\n",
        "\n",
        "Functions will only exist if you or somebody else defines them; it is the only way the language compiler/interpreter knows they exist, therefore it's able to run them when you call them.\n",
        "\n",
        "To define a function, we need to write this basic code formula:\n",
        "\n",
        "```python\n",
        "def my_function_name(parameter1, parameter2, ...parameterX):\n",
        "    # The function code here\n",
        "    return something\n",
        "```\n",
        "\n",
        "The word `def` is a reserved word in Python, this means it is only used to define a function.\n",
        "\n",
        "**The name** of the function could be anything you like. Tip: Use a descriptive name (don't be cheap with words, use as many as you need); this way, you will understand what the function does -and returns-.\n",
        "\n",
        "Example names: `add_two_integers`, `calculate_taxes`, `get_random_number`, etc.\n",
        "\n",
        "**Parameters:** You can define as many parameters as you like or need. The amount of parameters will depend on the operations done inside the function. I.E: If the function is adding two integers `(a + b)` this means the function will need two parameters (one for each integer).\n",
        "\n",
        "**Scope:** All the code that the function will contain needs to be indented one tab to the right, anything on a different indentation won't be considered as part of the function. This is called **the scope**, and it could be local (inside the function) and global (outside the function).\n",
        "\n",
        "**The Return**: not every function needs to return something, but it is recommended that it does. Tip: returning `None` is a good default for when you still don't know if you need to return something.\n",
        "\n",
        "Example of a function:\n",
        "\n",
        "```python\n",
        "def concatenate_number_to_string(local_number, local_string):\n",
        "    local_variable = local_string + str(local_number)\n",
        "    return local_variable\n",
        "```\n"
      ]
    },
    {
      "cell_type": "markdown",
      "id": "5b9f893f-6cd0-4ae0-93ad-acb8a9b2d7c2",
      "metadata": {
        "id": "5b9f893f-6cd0-4ae0-93ad-acb8a9b2d7c2"
      },
      "source": [
        "\n",
        "\n",
        "## 📝 Instructions:\n",
        "\n",
        "1. Define a function called `multi`.\n",
        "\n",
        "2. The `multi` function receives two numbers.\n",
        "\n",
        "3. Return the result of the multiplication between them.\n",
        "\n",
        "## 💡 Hint:\n",
        "\n",
        "+ Remember to add the `return` line. Every function should return something, in this case, it should be the result of the multiplication.\n"
      ]
    },
    {
      "cell_type": "code",
      "execution_count": null,
      "id": "d5c274af-2979-49ca-b0f5-bcd0724e7b36",
      "metadata": {
        "id": "d5c274af-2979-49ca-b0f5-bcd0724e7b36"
      },
      "outputs": [],
      "source": []
    },
    {
      "cell_type": "markdown",
      "id": "1053dca8-9fdd-4896-b180-3efcffadc415",
      "metadata": {
        "id": "1053dca8-9fdd-4896-b180-3efcffadc415"
      },
      "source": [
        "# `04` Lambda Functions in Python\n",
        "\n",
        "A **lambda function** is a function with just one line of code and no name.\n",
        "\n",
        "It is a very special type of function in the world of Python because you can use it as a small utility for very agile coding:\n",
        "\n",
        "```python\n",
        "# Declaring a normal function for multiplication\n",
        "def multiply(p1, p2):\n",
        "    return p1 * p2\n",
        "\n",
        "# Declaring it now like a one line lambda function\n",
        "multiply = lambda p1,p2: p1 * p2\n",
        "```\n",
        "\n",
        "### 👉 Facts:\n",
        "\n",
        "+ **Lambda functions** have to always be very small.\n",
        "\n",
        "+ **Lambda functions** can only have one line.\n",
        "\n",
        "+ **Lambda functions** don't need a `return` statement (it is assumed that it will return whatever is on that one line).\n",
        "\n",
        "+ **Lambda functions** can be stored in variables or passed as parameters to another function.\n",
        "\n",
        "\n",
        "\n"
      ]
    },
    {
      "cell_type": "markdown",
      "id": "1e575a77-9a44-4646-a6ae-c4859aefb3cc",
      "metadata": {
        "id": "1e575a77-9a44-4646-a6ae-c4859aefb3cc"
      },
      "source": [
        "## 📝 Instructions:\n",
        "\n",
        "1. Create a variable called `is_odd`.\n",
        "\n",
        "2. Assign a **lambda function** to it that returns `True` or `False` if a given number is odd.\n",
        "\n",
        "## 💡 Hint\n",
        "\n",
        "+ Here is how you would declare it like a normal function:\n",
        "\n",
        "```py\n",
        "# This function returns True if a number is odd\n",
        "def is_odd(num):\n",
        "    return num % 2 != 0\n",
        "```"
      ]
    },
    {
      "cell_type": "code",
      "execution_count": null,
      "id": "495a4228-75eb-4ac0-b02d-70ab697d78a7",
      "metadata": {
        "id": "495a4228-75eb-4ac0-b02d-70ab697d78a7"
      },
      "outputs": [],
      "source": []
    },
    {
      "cell_type": "markdown",
      "id": "d61bfe4f-a80d-4ee6-97f5-690f5861a91d",
      "metadata": {
        "id": "d61bfe4f-a80d-4ee6-97f5-690f5861a91d"
      },
      "source": [
        "# `05` Lambda Functions\n",
        "\n",
        "### ☝ Remember:\n",
        "\n",
        "Lambda functions allow a short syntax for writing function expressions.\n",
        "\n",
        "```python\n",
        "multiply = lambda x, y: x * y\n",
        "print(multiply(2,2))\n",
        "```\n"
      ]
    },
    {
      "cell_type": "markdown",
      "id": "254ca22f-7557-4241-8ca3-ea340c2fbcdf",
      "metadata": {
        "id": "254ca22f-7557-4241-8ca3-ea340c2fbcdf"
      },
      "source": [
        "\n",
        "## 📝 Instructions:\n",
        "\n",
        "1. Create a lambda function called `rapid`, which will take one string parameter.\n",
        "\n",
        "2. Return the same string with the last letter removed.\n",
        "\n",
        "## 💡 Hint:\n",
        "\n",
        "+ Google \"how to remove last letter from string python\" (you can use the square brackets)."
      ]
    },
    {
      "cell_type": "code",
      "execution_count": null,
      "id": "93ff0626-2dd9-4b0e-88a8-f786dbf165cc",
      "metadata": {
        "id": "93ff0626-2dd9-4b0e-88a8-f786dbf165cc"
      },
      "outputs": [],
      "source": []
    },
    {
      "cell_type": "markdown",
      "id": "2947d64d-b2d6-49f8-9bca-20377ff7f818",
      "metadata": {
        "id": "2947d64d-b2d6-49f8-9bca-20377ff7f818"
      },
      "source": [
        "# `06` Functions that return\n",
        "\n",
        "It is very good practice that all functions return something, even if it is `None`.\n",
        "\n",
        "With what your function returns, you can create algorithms that use multiple functions at the same time.\n",
        "\n",
        "For example, in this particular case, we have two functions available:\n",
        "\n",
        "+ `dollar_to_euro`: that calculates the value in euros of a given value in dollars.\n",
        "\n",
        "+ `euro_to_yen`: calculates the value in yen of a given value in euros.\n",
        "\n"
      ]
    },
    {
      "cell_type": "markdown",
      "id": "d6b7f1a7-d025-49cc-92e9-01285a1b1665",
      "metadata": {
        "id": "d6b7f1a7-d025-49cc-92e9-01285a1b1665"
      },
      "source": [
        "## 📝 Instructions:\n",
        "\n",
        "1. Using the two functions available, print on the console the value of **137** dollars in yen.\n",
        "\n",
        "## 💡 Hints:\n",
        "\n",
        "Working backwards:\n",
        "\n",
        "- Our expected value is in yen.\n",
        "\n",
        "- Our available function `euro_to_yen` will provide that.\n",
        "\n",
        "- To get the euros, we will use the available function `dollar_to_euro`."
      ]
    },
    {
      "cell_type": "code",
      "execution_count": null,
      "id": "ed7c02fe-9279-48c1-9fa9-da4ad75af5c9",
      "metadata": {
        "id": "ed7c02fe-9279-48c1-9fa9-da4ad75af5c9"
      },
      "outputs": [],
      "source": []
    },
    {
      "cell_type": "markdown",
      "id": "fb55c0f3-a606-4569-8865-25be59eba47a",
      "metadata": {
        "id": "fb55c0f3-a606-4569-8865-25be59eba47a"
      },
      "source": [
        "# `07` Function parameters\n",
        "\n",
        "You can specify as many parameters as you want in a function.\n",
        "\n"
      ]
    },
    {
      "cell_type": "markdown",
      "id": "b3992186-1356-4cd6-a9ae-480e4b3fb207",
      "metadata": {
        "id": "b3992186-1356-4cd6-a9ae-480e4b3fb207"
      },
      "source": [
        "\n",
        "## 📝 Instructions:\n",
        "\n",
        "1. Please write the `render_person` function required to print a string like the following:\n",
        "\n",
        "```text\n",
        "Bob is a 23 years old male born in 05/22/1983 with green eyes\n",
        "```\n",
        "\n",
        "## 💡 Hints:\n",
        "\n",
        "+ You have to do some string concatenation and return that string.\n",
        "\n",
        "+ Also, you can Google \"how to insert variables into a string python\"."
      ]
    },
    {
      "cell_type": "code",
      "execution_count": null,
      "id": "416bdeaf-d89b-4170-b531-fe943d2c2b0c",
      "metadata": {
        "id": "416bdeaf-d89b-4170-b531-fe943d2c2b0c"
      },
      "outputs": [],
      "source": []
    }
  ],
  "metadata": {
    "kernelspec": {
      "display_name": "Python 3 (ipykernel)",
      "language": "python",
      "name": "python3"
    },
    "language_info": {
      "codemirror_mode": {
        "name": "ipython",
        "version": 3
      },
      "file_extension": ".py",
      "mimetype": "text/x-python",
      "name": "python",
      "nbconvert_exporter": "python",
      "pygments_lexer": "ipython3",
      "version": "3.8.16"
    },
    "colab": {
      "provenance": [],
      "include_colab_link": true
    }
  },
  "nbformat": 4,
  "nbformat_minor": 5
}