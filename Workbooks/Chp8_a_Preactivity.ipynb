{
  "nbformat": 4,
  "nbformat_minor": 0,
  "metadata": {
    "colab": {
      "provenance": [],
      "include_colab_link": true
    },
    "kernelspec": {
      "display_name": "Python 3 (ipykernel)",
      "language": "python",
      "name": "python3"
    },
    "language_info": {
      "codemirror_mode": {
        "name": "ipython",
        "version": 3
      },
      "file_extension": ".py",
      "mimetype": "text/x-python",
      "name": "python",
      "nbconvert_exporter": "python",
      "pygments_lexer": "ipython3",
      "version": "3.8.11"
    }
  },
  "cells": [
    {
      "cell_type": "markdown",
      "metadata": {
        "id": "view-in-github",
        "colab_type": "text"
      },
      "source": [
        "<a href=\"https://colab.research.google.com/github/Dong2Yo/DATA3550_1232/blob/main/Workbooks/Chp8_a_Preactivity.ipynb\" target=\"_parent\"><img src=\"https://colab.research.google.com/assets/colab-badge.svg\" alt=\"Open In Colab\"/></a>"
      ]
    },
    {
      "cell_type": "markdown",
      "metadata": {
        "id": "3o5bpopjWZ6N"
      },
      "source": [
        "##### **Chapter 8.a Pre-activity One & Two**\n"
      ]
    },
    {
      "cell_type": "markdown",
      "metadata": {
        "id": "5Svnu7wiP8vf"
      },
      "source": [
        "**One:**\n",
        "\n",
        "Write a function\n",
        "\n",
        "            sphereVolume(r)\n",
        "\n",
        "that compute the volume of a sphere with radius r.\n",
        "\n",
        "Then write a program that prompts the user for the values of r, calls the function, and prints the results."
      ]
    },
    {
      "cell_type": "code",
      "metadata": {
        "id": "pCMNeNUtQlDx"
      },
      "source": [
        "from math import pi\n"
      ],
      "execution_count": null,
      "outputs": []
    },
    {
      "cell_type": "markdown",
      "metadata": {
        "id": "OCeoIpXAP8vg"
      },
      "source": [
        "**Two:**\n",
        "\n",
        "Write a program that initializes a list with user input and then prints three lines of output, containing\n",
        "\n",
        "            •all elements in the list.\n",
        "\t\t\t•all elements in reverse order.\n",
        "\t\t\t•only the first and last element."
      ]
    }
  ]
}