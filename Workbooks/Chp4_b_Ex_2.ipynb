{
  "cells": [
    {
      "cell_type": "markdown",
      "metadata": {
        "id": "view-in-github",
        "colab_type": "text"
      },
      "source": [
        "<a href=\"https://colab.research.google.com/github/Dong2Yo/DATA3550_1232/blob/main/Workbooks/Chp4_b_Ex_2.ipynb\" target=\"_parent\"><img src=\"https://colab.research.google.com/assets/colab-badge.svg\" alt=\"Open In Colab\"/></a>"
      ]
    },
    {
      "cell_type": "markdown",
      "metadata": {
        "id": "r876YY3UxP_V"
      },
      "source": [
        "### Chp4_b_Ex-2"
      ]
    },
    {
      "cell_type": "markdown",
      "metadata": {
        "id": "Hc6gC49ThZpf"
      },
      "source": [
        "**1.** Write a program that reads a word and prints the number of syllables in the word.\n",
        "\n",
        "For this exercise, assume that syllables are determined as follows:\n",
        "\n",
        "      Each sequence of adjacent vowels a e i o u y, except for the last e in a word, is a syllable.\n",
        "      However, if that algorithm yields a count of 0, change it to 1."
      ]
    },
    {
      "cell_type": "markdown",
      "metadata": {
        "id": "sUMJfMCuxP_b"
      },
      "source": [
        "#### TEST CASES\n",
        "\n",
        "1. Input (Harry) -- Output (The word contains 2 syllable(s).)\n",
        "\n",
        "2. Input (Hare) -- Output (The word contains 1 syllable(s).)\n",
        "\n",
        "3. Input (the) -- Output (The word contains 1 syllable(s).)\n",
        "\n",
        "4. Input (word) -- Output (The word contains 1 syllable(s).)"
      ]
    },
    {
      "cell_type": "code",
      "execution_count": null,
      "metadata": {
        "id": "GeJeiDH5xP_b"
      },
      "outputs": [],
      "source": []
    },
    {
      "cell_type": "markdown",
      "metadata": {
        "id": "uRjWE4uskDaK"
      },
      "source": [
        "**2.** Write programs that read a line of input as a string and print only the uppercase letters in the string."
      ]
    },
    {
      "cell_type": "code",
      "execution_count": null,
      "metadata": {
        "id": "qVvMCoT6xP_c"
      },
      "outputs": [],
      "source": []
    },
    {
      "cell_type": "markdown",
      "metadata": {
        "id": "ac7ClMmwiZVQ"
      },
      "source": [
        "**3. Optional** Write a program that reads a sequence of numbers from the salesperson.\n",
        "\n",
        "    **Hint**: A sales person needs to have sales >= 10,000 to reach the sales quota.\n",
        "    \n",
        "    *Initialize the counter variables.*\n",
        "\n",
        "                    numPassing = 0\n",
        "        \n",
        "                    numFailing = 0\n",
        "\n",
        "   *Use a while loop with a priming read to obtain the grades*.\n",
        "    \n",
        "                    sales = float(input(\"Enter a sales number or -1 to finish: \"))"
      ]
    },
    {
      "cell_type": "markdown",
      "metadata": {
        "id": "tW1nObwFxP_d"
      },
      "source": [
        "#### TEST CASES\n",
        "\n",
        "1. input (90000, 10, -100000)\n",
        "   \n",
        "       output (Please enter a positive sales number.)\n",
        "  \n",
        "2. input (10000, 0, -1)\n",
        "\n",
        "       output: Number of sales which reached the sales quota:  1\n",
        "               Number of sales which did not reach the sales quota:  1\n",
        "       \n",
        "3. input (10000, 5000, 800001, 10, 0, -1)\n",
        "\n",
        "       output: Number of sales which reached the sales quota:  2\n",
        "               Number of sales which did not reach the sales quota:  3\n",
        "             "
      ]
    },
    {
      "cell_type": "code",
      "execution_count": null,
      "metadata": {
        "id": "t1BRU3YIxP_d"
      },
      "outputs": [],
      "source": []
    },
    {
      "cell_type": "markdown",
      "metadata": {
        "id": "kwybcodBfrT-"
      },
      "source": [
        "**4. Optional** Write a program that first asks the user to type today’s currency exchange rate for Pound Sterling : Canadian Dollar. The the program coverts the user input of Canadian Dollars to Pound Sterling. Use 0 as a sentinel."
      ]
    },
    {
      "cell_type": "code",
      "execution_count": null,
      "metadata": {
        "id": "vN2k5KUZxP_e"
      },
      "outputs": [],
      "source": []
    }
  ],
  "metadata": {
    "colab": {
      "provenance": [],
      "include_colab_link": true
    },
    "kernelspec": {
      "display_name": "Python 3 (ipykernel)",
      "language": "python",
      "name": "python3"
    },
    "language_info": {
      "codemirror_mode": {
        "name": "ipython",
        "version": 3
      },
      "file_extension": ".py",
      "mimetype": "text/x-python",
      "name": "python",
      "nbconvert_exporter": "python",
      "pygments_lexer": "ipython3",
      "version": "3.8.11"
    }
  },
  "nbformat": 4,
  "nbformat_minor": 0
}