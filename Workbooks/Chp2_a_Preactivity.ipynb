{
  "cells": [
    {
      "cell_type": "markdown",
      "metadata": {
        "id": "view-in-github",
        "colab_type": "text"
      },
      "source": [
        "<a href=\"https://colab.research.google.com/github/Dong2Yo/DATA3550_1232/blob/main/Workbooks/Chp2_a_Preactivity.ipynb\" target=\"_parent\"><img src=\"https://colab.research.google.com/assets/colab-badge.svg\" alt=\"Open In Colab\"/></a>"
      ]
    },
    {
      "cell_type": "markdown",
      "metadata": {
        "id": "9JR5EdFLS-2L"
      },
      "source": [
        "**2.1.1.**\n",
        "\n",
        "Let's say hello to the world with a <code>PRINT</code> statement.\n",
        "\n",
        "<h6>Say \"Hello World\" on Two Lines</h6>\n",
        "\n",
        "Let's print \"Hello\" and \"World\" on two separate lines."
      ]
    },
    {
      "cell_type": "code",
      "source": [],
      "metadata": {
        "id": "5CBWOYn1tnZ6"
      },
      "execution_count": null,
      "outputs": []
    },
    {
      "cell_type": "markdown",
      "metadata": {
        "id": "03dEpvTlTIok"
      },
      "source": [
        "**2.1.2.** Write a program that prints the product of the first ten positive integers, 1 × 2 × … × 10. (Use * to indicate multiplication in Python.)"
      ]
    },
    {
      "cell_type": "code",
      "source": [],
      "metadata": {
        "id": "8to8np9ptpGi"
      },
      "execution_count": null,
      "outputs": []
    },
    {
      "cell_type": "markdown",
      "metadata": {
        "id": "rxWtlSHcVQjR"
      },
      "source": [
        "**2.1.3. Write a program that displays your name inside a box on the screen, like this:**\n",
        "\n",
        "![Wk2_a_preactivity_3.GIF](data:image/gif;base64,R0lGODlhYwA7APcAAAAAAAAAMwAAZgAAmQAAzAAA/wArAAArMwArZgArmQArzAAr/wBVAABVMwBVZgBVmQBVzABV/wCAAACAMwCAZgCAmQCAzACA/wCqAACqMwCqZgCqmQCqzACq/wDVAADVMwDVZgDVmQDVzADV/wD/AAD/MwD/ZgD/mQD/zAD//zMAADMAMzMAZjMAmTMAzDMA/zMrADMrMzMrZjMrmTMrzDMr/zNVADNVMzNVZjNVmTNVzDNV/zOAADOAMzOAZjOAmTOAzDOA/zOqADOqMzOqZjOqmTOqzDOq/zPVADPVMzPVZjPVmTPVzDPV/zP/ADP/MzP/ZjP/mTP/zDP//2YAAGYAM2YAZmYAmWYAzGYA/2YrAGYrM2YrZmYrmWYrzGYr/2ZVAGZVM2ZVZmZVmWZVzGZV/2aAAGaAM2aAZmaAmWaAzGaA/2aqAGaqM2aqZmaqmWaqzGaq/2bVAGbVM2bVZmbVmWbVzGbV/2b/AGb/M2b/Zmb/mWb/zGb//5kAAJkAM5kAZpkAmZkAzJkA/5krAJkrM5krZpkrmZkrzJkr/5lVAJlVM5lVZplVmZlVzJlV/5mAAJmAM5mAZpmAmZmAzJmA/5mqAJmqM5mqZpmqmZmqzJmq/5nVAJnVM5nVZpnVmZnVzJnV/5n/AJn/M5n/Zpn/mZn/zJn//8wAAMwAM8wAZswAmcwAzMwA/8wrAMwrM8wrZswrmcwrzMwr/8xVAMxVM8xVZsxVmcxVzMxV/8yAAMyAM8yAZsyAmcyAzMyA/8yqAMyqM8yqZsyqmcyqzMyq/8zVAMzVM8zVZszVmczVzMzV/8z/AMz/M8z/Zsz/mcz/zMz///8AAP8AM/8AZv8Amf8AzP8A//8rAP8rM/8rZv8rmf8rzP8r//9VAP9VM/9VZv9Vmf9VzP9V//+AAP+AM/+AZv+Amf+AzP+A//+qAP+qM/+qZv+qmf+qzP+q///VAP/VM//VZv/Vmf/VzP/V////AP//M///Zv//mf//zP///wAAAAAAAAAAAAAAACH5BAEAAPwALAAAAABjADsAAAj/APcJHEiwoMGDCBMqXMiwocOHECNKnEixosWLGBcGA5KxY0J9VqJ5PKiLw8iTA/NxCYWS4C4jLU/SC9lSVwAYB1TctCAwmIEVBlicGugTqFCiP4MO3aePUAwAMR4MbPo06lSnUKXum5fzAIwASlvS6hBz5DwZIssqglm24zwBLMvSMtk249m0dfPq3cu3r9+/gAMLHky4sOHDiBMrXsy4cUVFcRwPnDcAL0p9teBIFjhvhmWUkCJvlle5LS3RCvUtUtFVc9/On09Gcr1Ql+h8W3jypRzboz7IDYFzProXdlvbDZELbCp63lcYpVXD2fU1B15gQI3GVUi6t0fhqReh/963dl87BMsEAmsh0uYdpoREsyt9dulC42V30Vaoa38tnnMRRAhLi7BFnmi6sKWPH9spxFtZv42XEHjMqYbagnHoE6BAygmTgEjzIOBdQfjFpFxtqL0lkn5TFcJSJBwJJBw7MagQgwDpNaRiW+B9JB5nKry3DzsicsjTbwruEllTDTpUYkssMkSLV2ENRGNWA/03kCKuzZPUUxIi9GBMFvKVTxXbndXkQU+Ctl9d82yxHTCl3SfAiBmd1hc7UEGlg5OebSbooIQWauihiCaq6KKMNuroo8fpJlk+Vqw50kaCzsMFnhiVJChIll6k2lc15kSXTQaogMB2qKrKKliuLjTnxwEAwADBVLOyZp2sfe46DwBAxfATepfVQpdkO6ploGNqtrWLpMzeCem01FZr7bXYThsQADs=)\n",
        "\n",
        "\n",
        "\n",
        "> Do your best to approximate lines with characters such as | - +.\n",
        "\n"
      ]
    },
    {
      "cell_type": "code",
      "execution_count": null,
      "metadata": {
        "id": "Vy0-7y7UTIol"
      },
      "outputs": [],
      "source": []
    }
  ],
  "metadata": {
    "colab": {
      "provenance": [],
      "include_colab_link": true
    },
    "kernelspec": {
      "display_name": "Python 3 (ipykernel)",
      "language": "python",
      "name": "python3"
    },
    "language_info": {
      "codemirror_mode": {
        "name": "ipython",
        "version": 3
      },
      "file_extension": ".py",
      "mimetype": "text/x-python",
      "name": "python",
      "nbconvert_exporter": "python",
      "pygments_lexer": "ipython3",
      "version": "3.8.11"
    }
  },
  "nbformat": 4,
  "nbformat_minor": 0
}