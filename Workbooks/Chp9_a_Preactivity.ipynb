{
  "cells": [
    {
      "cell_type": "markdown",
      "metadata": {
        "id": "view-in-github",
        "colab_type": "text"
      },
      "source": [
        "<a href=\"https://colab.research.google.com/github/Dong2Yo/DATA3550_1232/blob/main/Workbooks/Chp9_a_Preactivity.ipynb\" target=\"_parent\"><img src=\"https://colab.research.google.com/assets/colab-badge.svg\" alt=\"Open In Colab\"/></a>"
      ]
    },
    {
      "cell_type": "markdown",
      "metadata": {
        "id": "3o5bpopjWZ6N"
      },
      "source": [
        "**Chapter 9.a Pre-activity**\n"
      ]
    },
    {
      "cell_type": "markdown",
      "metadata": {
        "id": "sCMtHl0ASuHO"
      },
      "source": [
        "Write a program that creates a dictionary containing course numbers and room numbers of the rooms where the courses meet. The dictionary should have the following key value pairs:\n"
      ]
    },
    {
      "cell_type": "markdown",
      "metadata": {
        "id": "OhAAatVmSuHP"
      },
      "source": [
        "        \n",
        "        Course Number                  Room No.\n",
        "        \n",
        "        DATA3150                       CAT227\n",
        "        DATA3250                       CAT506\n",
        "        DATA3350                       CAT324\n",
        "        DATA3450                       CAT412\n",
        "        DATA3550                       CAT223"
      ]
    },
    {
      "cell_type": "markdown",
      "source": [
        "The program should also create a dictionary containing course numbers and the names of the instructors that teach course."
      ],
      "metadata": {
        "id": "0wtdSlP4TjS0"
      }
    },
    {
      "cell_type": "markdown",
      "source": [
        "\n",
        "        Course Number                  Instructor\n",
        "        \n",
        "        DATA3150                       Allen\n",
        "        DATA3250                       Mark\n",
        "        DATA3350                       Marwan\n",
        "        DATA3450                       Akeem\n",
        "        DATA3550                       Dong"
      ],
      "metadata": {
        "id": "EiquzPpzUKrq"
      }
    },
    {
      "cell_type": "markdown",
      "source": [
        "The program should also create a dictionary containing course numbers and the meeting time of each course."
      ],
      "metadata": {
        "id": "uke7S7zOUf4R"
      }
    },
    {
      "cell_type": "markdown",
      "source": [
        "       Course Number                  Meeting Time\n",
        "        \n",
        "        DATA3150                      10:00 am\n",
        "        DATA3250                      12:00 pm\n",
        "        DATA3350                      2:00 pm\n",
        "        DATA3450                      4:00 pm\n",
        "        DATA3550                      6:00 pm"
      ],
      "metadata": {
        "id": "YM5sVG3MUnCB"
      }
    },
    {
      "cell_type": "markdown",
      "source": [
        "The program should let the user enter a course number, then it should display the course's room number, instructor, and the meeting time."
      ],
      "metadata": {
        "id": "a7HDbGoFVBwg"
      }
    },
    {
      "cell_type": "code",
      "source": [
        "def main() :\n",
        "  rooms = {\n",
        "    'DATA3150':'CAT227',\n",
        "    'DATA3250':'CAT506',\n",
        "    'DATA3350':'CAT324',\n",
        "    'DATA3450':'CAT412',\n",
        "    'DATA3550':'CAT223'\n",
        "    }\n",
        "\n",
        "  instructors = {\n",
        "        'DATA3150':'Allen',\n",
        "        'DATA3250':'Mark',\n",
        "        'DATA3350':'Marwan',\n",
        "        'DATA3450':'Akeem',\n",
        "        'DATA3550':'Dong'\n",
        "         }\n",
        "\n",
        "  times = {\n",
        "        'DATA3150':'10:00 am',\n",
        "        'DATA3250':'12:00 pm',\n",
        "        'DATA3350':'2:00 pm',\n",
        "        'DATA3450':'4:00 pm',\n",
        "        'DATA3550':'6:00 pm'\n",
        "         }\n",
        "\n",
        "  course = input('Enter a course number: ')\n",
        "\n",
        "  if course not in rooms:\n",
        "    print(f'{course} is an invalid course.')\n",
        "\n",
        "  else:\n",
        "    print(f'The details of the course {course} are: ')\n",
        "    print(f'Room: {rooms[course]}')\n",
        "    print(f'Instructor: {instructors[course]}')\n",
        "    print(f'Time: {times[course]}')\n",
        "\n",
        "main()"
      ],
      "metadata": {
        "id": "zxnZrNIw8LQc",
        "colab": {
          "base_uri": "https://localhost:8080/"
        },
        "outputId": "5e091f22-baab-4404-908c-9de8375aba47"
      },
      "execution_count": null,
      "outputs": [
        {
          "output_type": "stream",
          "name": "stdout",
          "text": [
            "Enter a course number: DATA3450\n",
            "The details of the course DATA3450 are: \n",
            "Room: CAT412\n",
            "Instructor: Akeem\n",
            "Time: 4:00 pm\n"
          ]
        }
      ]
    },
    {
      "cell_type": "code",
      "source": [
        "def main() :\n",
        "  courseinfo = {\n",
        "    'DATA3150':['CAT227', 'Allen', '10:00 am'],\n",
        "    'DATA3250':['CAT506', 'Mark','12:00 pm'],\n",
        "    'DATA3350':['CAT324', 'Marwan''2:00 pm'],\n",
        "    'DATA3450':['CAT412', 'Akeem', '4:00 pm'],\n",
        "    'DATA3550':['CAT223', 'Dong', '6:00 pm']\n",
        "    }\n",
        "\n",
        "\n",
        "  course = input('Enter a course number: ')\n",
        "\n",
        "  if course not in courseinfo:\n",
        "    print(f'{course} is an invalid course.')\n",
        "\n",
        "  else:\n",
        "    print(f'The details of the course {course} are: {courseinfo[course]}')\n",
        "\n",
        "\n",
        "main()"
      ],
      "metadata": {
        "colab": {
          "base_uri": "https://localhost:8080/"
        },
        "id": "H3y_67jWJl7P",
        "outputId": "4e1b0ff9-5145-4870-efcb-87ad81c9c482"
      },
      "execution_count": null,
      "outputs": [
        {
          "output_type": "stream",
          "name": "stdout",
          "text": [
            "Enter a course number: DATA3550\n",
            "The details of the course DATA3550 are: ['CAT223', 'Dong', '6:00 pm']\n"
          ]
        }
      ]
    },
    {
      "cell_type": "code",
      "source": [
        "def main() :\n",
        "  courseinfo = {\n",
        "    'DATA3150':{'CAT227', 'Allen', '10:00 am'},\n",
        "    'DATA3250':{'CAT506', 'Mark','12:00 pm'},\n",
        "    'DATA3350':{'CAT324', 'Marwan''2:00 pm'},\n",
        "    'DATA3450':{'CAT412', 'Akeem', '4:00 pm'},\n",
        "    'DATA3550':{'CAT223', 'Dong', '6:00 pm'}\n",
        "    }\n",
        "\n",
        "\n",
        "  course = input('Enter a course number: ')\n",
        "\n",
        "  if course not in courseinfo:\n",
        "    print(f'{course} is an invalid course.')\n",
        "\n",
        "  else:\n",
        "     print(f'The details of the course {course} are: {courseinfo[course]}')\n",
        "\n",
        "main()"
      ],
      "metadata": {
        "colab": {
          "base_uri": "https://localhost:8080/"
        },
        "id": "BCD9A7CIHjY2",
        "outputId": "913ca14a-e286-44f3-afdf-8505d07a8571"
      },
      "execution_count": null,
      "outputs": [
        {
          "output_type": "stream",
          "name": "stdout",
          "text": [
            "Enter a course number: DATA3550\n",
            "The details of the course DATA3550 are: {'6:00 pm', 'Dong', 'CAT223'}\n"
          ]
        }
      ]
    }
  ],
  "metadata": {
    "colab": {
      "provenance": [],
      "include_colab_link": true
    },
    "kernelspec": {
      "display_name": "Python 3 (ipykernel)",
      "language": "python",
      "name": "python3"
    },
    "language_info": {
      "codemirror_mode": {
        "name": "ipython",
        "version": 3
      },
      "file_extension": ".py",
      "mimetype": "text/x-python",
      "name": "python",
      "nbconvert_exporter": "python",
      "pygments_lexer": "ipython3",
      "version": "3.8.11"
    }
  },
  "nbformat": 4,
  "nbformat_minor": 0
}